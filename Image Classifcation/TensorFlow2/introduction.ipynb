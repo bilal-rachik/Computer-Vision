{
  "nbformat": 4,
  "nbformat_minor": 0,
  "metadata": {
    "colab": {
      "name": "introduction.ipynb",
      "provenance": [],
      "collapsed_sections": []
    },
    "kernelspec": {
      "name": "python3",
      "display_name": "Python 3"
    },
    "language_info": {
      "name": "python"
    },
    "accelerator": "GPU"
  },
  "cells": [
    {
      "cell_type": "markdown",
      "metadata": {
        "id": "cJsluoROwCcb"
      },
      "source": [
        "# Classification d'images\n",
        "\n",
        "La vision par ordinateur est un vaste domaine qui s'inspire de nombreux endroits. Bien sûr, cela signifie que ses applications sont larges et variées. Cependant, les plus grandes percées au cours de la dernière décennie, en particulier dans le contexte de l'apprentissage en profondeur appliqué aux tâches visuelles, se sont produites dans un domaine particulier connu sous le nom de classification d'images.\n",
        "\n",
        "Comme son nom l'indique, la classification d'images consiste à discerner le contenu d'une image en fonction de son contenu visuel. Y a-t-il un chien ou un chat sur cette image ? Quel numéro est sur cette image ? La personne sur cette photo sourit-elle ou non ?\n",
        "\n",
        "Étant donné que la classification d'images est une tâche si importante et omniprésente dans l'apprentissage en profondeur appliqué à la vision par ordinateur, les recettes de ce chapitre se concentreront sur les tenants et les aboutissants de la classification des images à l'aide de TensorFlow 2.x\n",
        "\n",
        "\n",
        "Nous couvrirons les recettes suivantes :\n",
        "\n",
        "* Créer un classificateur binaire pour détecter les sourires\n",
        "* Créer un classeur multi-classes pour jouer à Rock Paper Scissors\n",
        "* Création d'un classificateur multi-label pour étiqueter les montres\n",
        "* Implémentation de ResNet à partir de zéro\n",
        "* Classification des images avec un réseau pré-entraîné à l'aide de l'API Keras\n",
        "\n",
        "* Classification des images avec un réseau pré-entraîné à l'aide de TensorFlow Hub\n",
        "* Utilisation de l'augmentation des données pour améliorer les performances avec l'API Keras\n",
        "* Utilisation de l'augmentation des données pour améliorer les performances avec les API tf.data et tf.image\n",
        "\n",
        "Outre une installation fonctionnelle de TensorFlow 2.x, il est fortement recommandé d'avoir accès à un GPU, étant donné que certaines des recettes sont très gourmandes en ressources, ce qui fait de l'utilisation d'un processeur une option incontournable\n"
      ]
    }
  ]
}