{
  "nbformat": 4,
  "nbformat_minor": 0,
  "metadata": {
    "colab": {
      "name": "rps_multi-class classifer.ipynb",
      "provenance": [],
      "collapsed_sections": []
    },
    "kernelspec": {
      "name": "python3",
      "display_name": "Python 3"
    },
    "language_info": {
      "name": "python"
    },
    "accelerator": "GPU"
  },
  "cells": [
    {
      "cell_type": "markdown",
      "metadata": {
        "id": "BGxXlSLC-WAT"
      },
      "source": [
        "# Création d'un classeur multi-classes pour jouer aux papier, ciseaux \n",
        "\n",
        "Plus souvent qu'autrement, nous sommes intéressés à catégoriser une image en plus de deux classes. Comme nous le verrons dans cette recette, la mise en œuvre d'un réseau de neurones pour différencier de nombreuses catégories est assez simple, et quelle meilleure façon de le démontrer qu'en entraînant un modèle capable de jouer au célèbre jeu Rock Paper Scissors ?\n",
        "\n",
        "Nous utiliserons le jeu de données Rock-Paper-Scissors Images, qui est hébergé sur Kaggle à l'emplacement suivant : https://www.kaggle.com/drgfreeman/rockpaperscissors. Pour le télécharger, vous aurez besoin d'un compte Kaggle, alors connectez-vous ou inscrivez-vous en conséquence. Ensuite, décompressez l'ensemble de données à l'emplacement de votre choix."
      ]
    },
    {
      "cell_type": "code",
      "metadata": {
        "id": "xDTm0b09BTmN"
      },
      "source": [
        "!pip install -q kaggle"
      ],
      "execution_count": 1,
      "outputs": []
    },
    {
      "cell_type": "markdown",
      "metadata": {
        "id": "N1rEWdB8EhwX"
      },
      "source": [
        "Vous devrez télécharger votre fichier kaggle.json pour cette étape, qui peut être obtenu à partir de votre compte Kaggle"
      ]
    },
    {
      "cell_type": "code",
      "metadata": {
        "id": "duGWcs6aDzyn"
      },
      "source": [
        "from google.colab import files\n",
        "\n",
        "files.upload()"
      ],
      "execution_count": 5,
      "outputs": []
    },
    {
      "cell_type": "code",
      "metadata": {
        "colab": {
          "base_uri": "https://localhost:8080/"
        },
        "id": "X9LJR-SzEDMq",
        "outputId": "be6e0fe7-cbd9-4cc0-ce26-225b65972eb7"
      },
      "source": [
        "!mkdir -p ~/.kaggle\n",
        "!cp kaggle.json ~/.kaggle/\n",
        "!ls ~/.kaggle\n",
        "!chmod 600 /root/.kaggle/kaggle.json"
      ],
      "execution_count": 3,
      "outputs": [
        {
          "output_type": "stream",
          "name": "stdout",
          "text": [
            "kaggle.json\n"
          ]
        }
      ]
    },
    {
      "cell_type": "code",
      "metadata": {
        "colab": {
          "base_uri": "https://localhost:8080/"
        },
        "id": "2jS-W27IEIbv",
        "outputId": "fe306086-c14b-4a57-8a56-5a876582c898"
      },
      "source": [
        "!kaggle datasets download -d drgfreeman/rockpaperscissors"
      ],
      "execution_count": 4,
      "outputs": [
        {
          "output_type": "stream",
          "name": "stdout",
          "text": [
            "Downloading rockpaperscissors.zip to /content\n",
            " 97% 297M/306M [00:03<00:00, 113MB/s]\n",
            "100% 306M/306M [00:03<00:00, 96.3MB/s]\n"
          ]
        }
      ]
    },
    {
      "cell_type": "code",
      "metadata": {
        "id": "CWmwe3Q2Eu9W"
      },
      "source": [
        "#!unzip rockpaperscissors.zip"
      ],
      "execution_count": 7,
      "outputs": []
    },
    {
      "cell_type": "markdown",
      "metadata": {
        "id": "1R7m1i_EhOFg"
      },
      "source": [
        "Les étapes suivantes expliquent comment former un réseau de neurones convolutifs (CNN) multi-classes pour faire la distinction entre les trois classes du jeu Rock Paper Scissors"
      ]
    },
    {
      "cell_type": "markdown",
      "metadata": {
        "id": "EBTiWS1zhV-E"
      },
      "source": [
        "**1.** Importez les packages requis :"
      ]
    },
    {
      "cell_type": "code",
      "metadata": {
        "id": "lVXwuL_yhYK2"
      },
      "source": [
        "import os\n",
        "import pathlib\n",
        "\n",
        "import glob\n",
        "import numpy as np\n",
        "import tensorflow as tf\n",
        "from sklearn.model_selection import train_test_split\n",
        "from tensorflow.keras import Model\n",
        "from tensorflow.keras.layers import *\n",
        "from tensorflow.keras.losses import CategoricalCrossentropy"
      ],
      "execution_count": 8,
      "outputs": []
    },
    {
      "cell_type": "markdown",
      "metadata": {
        "id": "j7bkTeTbhtnE"
      },
      "source": [
        "**2.** Dénissez une liste avec les trois classes, ainsi qu'un alias vers tf.data.experimental.AUTOTUNE, que nous utiliserons plus tard :"
      ]
    },
    {
      "cell_type": "code",
      "metadata": {
        "id": "n_rhHZCWiDEi"
      },
      "source": [
        "CLASSES = ['rock', 'paper', 'scissors']\n",
        "AUTOTUNE = tf.data.experimental.AUTOTUNE"
      ],
      "execution_count": 9,
      "outputs": []
    },
    {
      "cell_type": "markdown",
      "metadata": {
        "id": "DHUtYwTjiLW6"
      },
      "source": [
        "Les valeurs dans CLASSES correspondent aux noms des répertoires qui contiennent les images pour chaque classe"
      ]
    },
    {
      "cell_type": "markdown",
      "metadata": {
        "id": "xRiRi6-uiMHK"
      },
      "source": [
        "**3.** Dénir une fonction pour charger une image et son label, étant donné son chemin :"
      ]
    },
    {
      "cell_type": "code",
      "metadata": {
        "id": "jU6Mkq7pifgA"
      },
      "source": [
        "def load_image_and_label(image_path, target_size=(32, 32)):\n",
        "    image = tf.io.read_file(image_path)\n",
        "    image = tf.image.decode_jpeg(image, channels=3)\n",
        "    image = tf.image.rgb_to_grayscale(image)\n",
        "    image = tf.image.convert_image_dtype(image, np.float32)\n",
        "    image = tf.image.resize(image, target_size)\n",
        "\n",
        "    label = tf.strings.split(image_path, os.path.sep)[-2]\n",
        "    label = (label == CLASSES)  # One-hot encode.\n",
        "    label = tf.dtypes.cast(label, tf.float32)\n",
        "\n",
        "    return image, label"
      ],
      "execution_count": 10,
      "outputs": []
    },
    {
      "cell_type": "markdown",
      "metadata": {
        "id": "0s3J3tdWi0Yz"
      },
      "source": [
        "Notez que nous effectuons un encodage one-hot en comparant le nom du dossier qui contient l'image (extrait de image_path) avec la liste CLASSES."
      ]
    },
    {
      "cell_type": "markdown",
      "metadata": {
        "id": "m4s8wIbXjBT6"
      },
      "source": [
        "**4.** Déﬁnissez une fonction pour construire l'architecture du réseau. Dans ce cas, c'est très simple et superficiel, ce qui est suffisant pour le problème que nous résolvons :"
      ]
    },
    {
      "cell_type": "code",
      "metadata": {
        "id": "oYJMwcLyi-hD"
      },
      "source": [
        "def build_network():\n",
        "    input_layer = Input(shape=(32, 32, 1))\n",
        "    x = Conv2D(filters=32,\n",
        "               kernel_size=(3, 3),\n",
        "               padding='same',\n",
        "               strides=(1, 1))(input_layer)\n",
        "    x = ReLU()(x)\n",
        "    x = Dropout(rate=0.5)(x)\n",
        "\n",
        "    x = Flatten()(x)\n",
        "    x = Dense(units=3)(x)\n",
        "    output = Softmax()(x)\n",
        "\n",
        "    model = Model(inputs=input_layer, outputs=output)\n",
        "    return model"
      ],
      "execution_count": 17,
      "outputs": []
    },
    {
      "cell_type": "markdown",
      "metadata": {
        "id": "nNBwjBfMjXyN"
      },
      "source": [
        "**5.** Définir une fonction, étant donné un chemin vers un ensemble de données, renvoyer une instance tf.data.Dataset d'images et d'étiquettes, par lots et éventuellement mélangés :"
      ]
    },
    {
      "cell_type": "code",
      "metadata": {
        "id": "I8Eo_g10jkkj"
      },
      "source": [
        "def prepare_dataset(dataset_path,\n",
        "                    buffer_size,\n",
        "                    batch_size,\n",
        "                    shuffle=True):\n",
        "    dataset = (tf.data.Dataset\n",
        "               .from_tensor_slices(dataset_path)\n",
        "               .map(load_image_and_label,\n",
        "                    num_parallel_calls=AUTOTUNE))\n",
        "\n",
        "    if shuffle:\n",
        "        dataset.shuffle(buffer_size=buffer_size)\n",
        "\n",
        "    dataset = (dataset\n",
        "               .batch(batch_size=batch_size)\n",
        "               .prefetch(buffer_size=buffer_size))\n",
        "\n",
        "    return dataset"
      ],
      "execution_count": 11,
      "outputs": []
    },
    {
      "cell_type": "markdown",
      "metadata": {
        "id": "Udvirhscj2e0"
      },
      "source": [
        "**6.** Chargez les chemins d'images dans une liste :"
      ]
    },
    {
      "cell_type": "code",
      "metadata": {
        "id": "_Y0thrjHj2Ap"
      },
      "source": [
        "file_patten = (pathlib.Path('/content') / 'rps-cv-images' / '*' /\n",
        "               '*.png')\n",
        "file_pattern = str(file_patten)\n",
        "dataset_paths = [*glob.glob(file_pattern)]"
      ],
      "execution_count": 12,
      "outputs": []
    },
    {
      "cell_type": "markdown",
      "metadata": {
        "id": "Cw2xm7KvkZAB"
      },
      "source": [
        "**7.** Créez des sous-ensembles d'apprentissage, de test et de validation de chemins d'images :"
      ]
    },
    {
      "cell_type": "code",
      "metadata": {
        "id": "cYKlFd_ikeiS"
      },
      "source": [
        "train_paths, test_paths = train_test_split(dataset_paths,\n",
        "                                           test_size=0.2,\n",
        "                                           random_state=999)\n",
        "train_paths, val_paths = train_test_split(train_paths,\n",
        "                                          test_size=0.2,\n",
        "                                          random_state=999)"
      ],
      "execution_count": 14,
      "outputs": []
    },
    {
      "cell_type": "markdown",
      "metadata": {
        "id": "dtcL7UjvksGn"
      },
      "source": [
        "**8.** Préparez les ensembles de données d'entraînement, de test et de validation :"
      ]
    },
    {
      "cell_type": "code",
      "metadata": {
        "id": "p8U5RKCJkyZS"
      },
      "source": [
        "BATCH_SIZE = 1024\n",
        "BUFFER_SIZE = 1024\n",
        "\n",
        "train_dataset = prepare_dataset(train_paths,\n",
        "                                buffer_size=BUFFER_SIZE,\n",
        "                                batch_size=BATCH_SIZE)\n",
        "validation_dataset = prepare_dataset(val_paths,\n",
        "                                     buffer_size=BUFFER_SIZE,\n",
        "                                     batch_size=BATCH_SIZE,\n",
        "                                     shuffle=False)\n",
        "test_dataset = prepare_dataset(test_paths,\n",
        "                               buffer_size=BUFFER_SIZE,\n",
        "                               batch_size=BATCH_SIZE,\n",
        "                               shuffle=False)"
      ],
      "execution_count": 15,
      "outputs": []
    },
    {
      "cell_type": "markdown",
      "metadata": {
        "id": "aAdMGrPLk9ri"
      },
      "source": [
        "**9.** Instanciez et compilez le modèle :"
      ]
    },
    {
      "cell_type": "code",
      "metadata": {
        "id": "QLrr3jfulIC7"
      },
      "source": [
        "model = build_network()\n",
        "model.compile(loss=CategoricalCrossentropy(from_logits=True),\n",
        "              optimizer='adam',\n",
        "              metrics=['accuracy'])"
      ],
      "execution_count": 18,
      "outputs": []
    },
    {
      "cell_type": "markdown",
      "metadata": {
        "id": "YrbIgpsJlcdF"
      },
      "source": [
        "**10.** Ajustez le modèle pour 250 époques :"
      ]
    },
    {
      "cell_type": "code",
      "metadata": {
        "colab": {
          "base_uri": "https://localhost:8080/"
        },
        "id": "SnrMBniJlgd7",
        "outputId": "31a7db2e-ae5b-436f-fa63-217d177141eb"
      },
      "source": [
        "EPOCHS = 250\n",
        "model.fit(train_dataset,\n",
        "          validation_data=validation_dataset,\n",
        "          epochs=EPOCHS)"
      ],
      "execution_count": 19,
      "outputs": [
        {
          "output_type": "stream",
          "name": "stdout",
          "text": [
            "Epoch 1/250\n",
            "2/2 [==============================] - 32s 1s/step - loss: 1.1101 - accuracy: 0.3236 - val_loss: 1.1131 - val_accuracy: 0.3143\n",
            "Epoch 2/250\n",
            "2/2 [==============================] - 4s 2s/step - loss: 1.0961 - accuracy: 0.3386 - val_loss: 1.0894 - val_accuracy: 0.4171\n",
            "Epoch 3/250\n",
            "2/2 [==============================] - 4s 2s/step - loss: 1.0987 - accuracy: 0.3679 - val_loss: 1.0840 - val_accuracy: 0.4800\n",
            "Epoch 4/250\n",
            "2/2 [==============================] - 4s 2s/step - loss: 1.0851 - accuracy: 0.4293 - val_loss: 1.0872 - val_accuracy: 0.4286\n",
            "Epoch 5/250\n",
            "2/2 [==============================] - 4s 2s/step - loss: 1.0770 - accuracy: 0.4529 - val_loss: 1.0865 - val_accuracy: 0.4314\n",
            "Epoch 6/250\n",
            "2/2 [==============================] - 4s 2s/step - loss: 1.0694 - accuracy: 0.4921 - val_loss: 1.0732 - val_accuracy: 0.4857\n",
            "Epoch 7/250\n",
            "2/2 [==============================] - 4s 2s/step - loss: 1.0595 - accuracy: 0.5643 - val_loss: 1.0572 - val_accuracy: 0.6257\n",
            "Epoch 8/250\n",
            "2/2 [==============================] - 4s 2s/step - loss: 1.0546 - accuracy: 0.6000 - val_loss: 1.0473 - val_accuracy: 0.6057\n",
            "Epoch 9/250\n",
            "2/2 [==============================] - 4s 2s/step - loss: 1.0459 - accuracy: 0.6164 - val_loss: 1.0434 - val_accuracy: 0.6143\n",
            "Epoch 10/250\n",
            "2/2 [==============================] - 4s 2s/step - loss: 1.0355 - accuracy: 0.6293 - val_loss: 1.0369 - val_accuracy: 0.5886\n",
            "Epoch 11/250\n",
            "2/2 [==============================] - 4s 2s/step - loss: 1.0221 - accuracy: 0.6429 - val_loss: 1.0181 - val_accuracy: 0.6714\n",
            "Epoch 12/250\n",
            "2/2 [==============================] - 4s 2s/step - loss: 1.0089 - accuracy: 0.6736 - val_loss: 1.0034 - val_accuracy: 0.6629\n",
            "Epoch 13/250\n",
            "2/2 [==============================] - 4s 2s/step - loss: 0.9995 - accuracy: 0.6629 - val_loss: 0.9960 - val_accuracy: 0.6600\n",
            "Epoch 14/250\n",
            "2/2 [==============================] - 4s 2s/step - loss: 0.9859 - accuracy: 0.6743 - val_loss: 0.9795 - val_accuracy: 0.6829\n",
            "Epoch 15/250\n",
            "2/2 [==============================] - 4s 2s/step - loss: 0.9705 - accuracy: 0.6914 - val_loss: 0.9669 - val_accuracy: 0.6771\n",
            "Epoch 16/250\n",
            "2/2 [==============================] - 4s 2s/step - loss: 0.9604 - accuracy: 0.6764 - val_loss: 0.9561 - val_accuracy: 0.6914\n",
            "Epoch 17/250\n",
            "2/2 [==============================] - 4s 2s/step - loss: 0.9476 - accuracy: 0.6850 - val_loss: 0.9410 - val_accuracy: 0.6914\n",
            "Epoch 18/250\n",
            "2/2 [==============================] - 4s 2s/step - loss: 0.9321 - accuracy: 0.7021 - val_loss: 0.9314 - val_accuracy: 0.6971\n",
            "Epoch 19/250\n",
            "2/2 [==============================] - 4s 2s/step - loss: 0.9248 - accuracy: 0.6936 - val_loss: 0.9165 - val_accuracy: 0.6914\n",
            "Epoch 20/250\n",
            "2/2 [==============================] - 4s 2s/step - loss: 0.9092 - accuracy: 0.7136 - val_loss: 0.9112 - val_accuracy: 0.6943\n",
            "Epoch 21/250\n",
            "2/2 [==============================] - 4s 2s/step - loss: 0.9072 - accuracy: 0.7050 - val_loss: 0.9001 - val_accuracy: 0.7086\n",
            "Epoch 22/250\n",
            "2/2 [==============================] - 4s 2s/step - loss: 0.8931 - accuracy: 0.7079 - val_loss: 0.8915 - val_accuracy: 0.6914\n",
            "Epoch 23/250\n",
            "2/2 [==============================] - 4s 2s/step - loss: 0.8870 - accuracy: 0.7171 - val_loss: 0.8911 - val_accuracy: 0.7114\n",
            "Epoch 24/250\n",
            "2/2 [==============================] - 4s 2s/step - loss: 0.8844 - accuracy: 0.7021 - val_loss: 0.8734 - val_accuracy: 0.7171\n",
            "Epoch 25/250\n",
            "2/2 [==============================] - 4s 2s/step - loss: 0.8768 - accuracy: 0.7207 - val_loss: 0.8790 - val_accuracy: 0.7086\n",
            "Epoch 26/250\n",
            "2/2 [==============================] - 4s 2s/step - loss: 0.8725 - accuracy: 0.7107 - val_loss: 0.8636 - val_accuracy: 0.7314\n",
            "Epoch 27/250\n",
            "2/2 [==============================] - 4s 2s/step - loss: 0.8585 - accuracy: 0.7300 - val_loss: 0.8644 - val_accuracy: 0.7229\n",
            "Epoch 28/250\n",
            "2/2 [==============================] - 4s 2s/step - loss: 0.8635 - accuracy: 0.7200 - val_loss: 0.8566 - val_accuracy: 0.7371\n",
            "Epoch 29/250\n",
            "2/2 [==============================] - 4s 2s/step - loss: 0.8509 - accuracy: 0.7329 - val_loss: 0.8538 - val_accuracy: 0.7314\n",
            "Epoch 30/250\n",
            "2/2 [==============================] - 4s 2s/step - loss: 0.8512 - accuracy: 0.7229 - val_loss: 0.8455 - val_accuracy: 0.7314\n",
            "Epoch 31/250\n",
            "2/2 [==============================] - 4s 2s/step - loss: 0.8408 - accuracy: 0.7343 - val_loss: 0.8433 - val_accuracy: 0.7400\n",
            "Epoch 32/250\n",
            "2/2 [==============================] - 4s 2s/step - loss: 0.8400 - accuracy: 0.7414 - val_loss: 0.8385 - val_accuracy: 0.7400\n",
            "Epoch 33/250\n",
            "2/2 [==============================] - 4s 2s/step - loss: 0.8407 - accuracy: 0.7386 - val_loss: 0.8379 - val_accuracy: 0.7457\n",
            "Epoch 34/250\n",
            "2/2 [==============================] - 4s 2s/step - loss: 0.8311 - accuracy: 0.7493 - val_loss: 0.8309 - val_accuracy: 0.7429\n",
            "Epoch 35/250\n",
            "2/2 [==============================] - 4s 2s/step - loss: 0.8294 - accuracy: 0.7529 - val_loss: 0.8318 - val_accuracy: 0.7514\n",
            "Epoch 36/250\n",
            "2/2 [==============================] - 4s 2s/step - loss: 0.8276 - accuracy: 0.7400 - val_loss: 0.8242 - val_accuracy: 0.7571\n",
            "Epoch 37/250\n",
            "2/2 [==============================] - 4s 2s/step - loss: 0.8232 - accuracy: 0.7514 - val_loss: 0.8243 - val_accuracy: 0.7600\n",
            "Epoch 38/250\n",
            "2/2 [==============================] - 4s 2s/step - loss: 0.8204 - accuracy: 0.7514 - val_loss: 0.8185 - val_accuracy: 0.7657\n",
            "Epoch 39/250\n",
            "2/2 [==============================] - 4s 2s/step - loss: 0.8139 - accuracy: 0.7629 - val_loss: 0.8174 - val_accuracy: 0.7743\n",
            "Epoch 40/250\n",
            "2/2 [==============================] - 4s 2s/step - loss: 0.8142 - accuracy: 0.7600 - val_loss: 0.8134 - val_accuracy: 0.7771\n",
            "Epoch 41/250\n",
            "2/2 [==============================] - 4s 2s/step - loss: 0.8131 - accuracy: 0.7600 - val_loss: 0.8113 - val_accuracy: 0.7743\n",
            "Epoch 42/250\n",
            "2/2 [==============================] - 4s 2s/step - loss: 0.8071 - accuracy: 0.7643 - val_loss: 0.8083 - val_accuracy: 0.7800\n",
            "Epoch 43/250\n",
            "2/2 [==============================] - 4s 2s/step - loss: 0.8031 - accuracy: 0.7771 - val_loss: 0.8071 - val_accuracy: 0.7800\n",
            "Epoch 44/250\n",
            "2/2 [==============================] - 4s 2s/step - loss: 0.8008 - accuracy: 0.7686 - val_loss: 0.8036 - val_accuracy: 0.7800\n",
            "Epoch 45/250\n",
            "2/2 [==============================] - 4s 2s/step - loss: 0.7949 - accuracy: 0.7843 - val_loss: 0.8009 - val_accuracy: 0.7771\n",
            "Epoch 46/250\n",
            "2/2 [==============================] - 4s 2s/step - loss: 0.7962 - accuracy: 0.7764 - val_loss: 0.8001 - val_accuracy: 0.7829\n",
            "Epoch 47/250\n",
            "2/2 [==============================] - 4s 2s/step - loss: 0.7922 - accuracy: 0.7821 - val_loss: 0.7977 - val_accuracy: 0.7771\n",
            "Epoch 48/250\n",
            "2/2 [==============================] - 4s 2s/step - loss: 0.7884 - accuracy: 0.7950 - val_loss: 0.7942 - val_accuracy: 0.7886\n",
            "Epoch 49/250\n",
            "2/2 [==============================] - 4s 2s/step - loss: 0.7871 - accuracy: 0.7986 - val_loss: 0.7928 - val_accuracy: 0.7943\n",
            "Epoch 50/250\n",
            "2/2 [==============================] - 4s 2s/step - loss: 0.7875 - accuracy: 0.7893 - val_loss: 0.7903 - val_accuracy: 0.7943\n",
            "Epoch 51/250\n",
            "2/2 [==============================] - 4s 2s/step - loss: 0.7783 - accuracy: 0.8064 - val_loss: 0.7881 - val_accuracy: 0.7943\n",
            "Epoch 52/250\n",
            "2/2 [==============================] - 4s 2s/step - loss: 0.7757 - accuracy: 0.8057 - val_loss: 0.7884 - val_accuracy: 0.7886\n",
            "Epoch 53/250\n",
            "2/2 [==============================] - 4s 2s/step - loss: 0.7763 - accuracy: 0.8129 - val_loss: 0.7840 - val_accuracy: 0.8000\n",
            "Epoch 54/250\n",
            "2/2 [==============================] - 4s 2s/step - loss: 0.7672 - accuracy: 0.8193 - val_loss: 0.7846 - val_accuracy: 0.8000\n",
            "Epoch 55/250\n",
            "2/2 [==============================] - 4s 2s/step - loss: 0.7731 - accuracy: 0.8064 - val_loss: 0.7807 - val_accuracy: 0.7943\n",
            "Epoch 56/250\n",
            "2/2 [==============================] - 4s 2s/step - loss: 0.7668 - accuracy: 0.8086 - val_loss: 0.7797 - val_accuracy: 0.8000\n",
            "Epoch 57/250\n",
            "2/2 [==============================] - 4s 2s/step - loss: 0.7658 - accuracy: 0.8229 - val_loss: 0.7765 - val_accuracy: 0.8029\n",
            "Epoch 58/250\n",
            "2/2 [==============================] - 4s 2s/step - loss: 0.7625 - accuracy: 0.8279 - val_loss: 0.7762 - val_accuracy: 0.7971\n",
            "Epoch 59/250\n",
            "2/2 [==============================] - 4s 2s/step - loss: 0.7591 - accuracy: 0.8229 - val_loss: 0.7738 - val_accuracy: 0.8114\n",
            "Epoch 60/250\n",
            "2/2 [==============================] - 4s 2s/step - loss: 0.7608 - accuracy: 0.8221 - val_loss: 0.7735 - val_accuracy: 0.8000\n",
            "Epoch 61/250\n",
            "2/2 [==============================] - 4s 2s/step - loss: 0.7561 - accuracy: 0.8364 - val_loss: 0.7702 - val_accuracy: 0.8029\n",
            "Epoch 62/250\n",
            "2/2 [==============================] - 4s 2s/step - loss: 0.7567 - accuracy: 0.8279 - val_loss: 0.7732 - val_accuracy: 0.8086\n",
            "Epoch 63/250\n",
            "2/2 [==============================] - 4s 2s/step - loss: 0.7551 - accuracy: 0.8257 - val_loss: 0.7675 - val_accuracy: 0.8000\n",
            "Epoch 64/250\n",
            "2/2 [==============================] - 4s 2s/step - loss: 0.7447 - accuracy: 0.8379 - val_loss: 0.7713 - val_accuracy: 0.8029\n",
            "Epoch 65/250\n",
            "2/2 [==============================] - 4s 2s/step - loss: 0.7521 - accuracy: 0.8286 - val_loss: 0.7663 - val_accuracy: 0.8000\n",
            "Epoch 66/250\n",
            "2/2 [==============================] - 4s 2s/step - loss: 0.7454 - accuracy: 0.8350 - val_loss: 0.7643 - val_accuracy: 0.8171\n",
            "Epoch 67/250\n",
            "2/2 [==============================] - 4s 2s/step - loss: 0.7482 - accuracy: 0.8350 - val_loss: 0.7639 - val_accuracy: 0.8029\n",
            "Epoch 68/250\n",
            "2/2 [==============================] - 4s 2s/step - loss: 0.7424 - accuracy: 0.8407 - val_loss: 0.7607 - val_accuracy: 0.8086\n",
            "Epoch 69/250\n",
            "2/2 [==============================] - 4s 2s/step - loss: 0.7360 - accuracy: 0.8486 - val_loss: 0.7622 - val_accuracy: 0.8171\n",
            "Epoch 70/250\n",
            "2/2 [==============================] - 4s 2s/step - loss: 0.7417 - accuracy: 0.8414 - val_loss: 0.7585 - val_accuracy: 0.8086\n",
            "Epoch 71/250\n",
            "2/2 [==============================] - 4s 2s/step - loss: 0.7353 - accuracy: 0.8521 - val_loss: 0.7601 - val_accuracy: 0.8114\n",
            "Epoch 72/250\n",
            "2/2 [==============================] - 4s 2s/step - loss: 0.7358 - accuracy: 0.8436 - val_loss: 0.7548 - val_accuracy: 0.8143\n",
            "Epoch 73/250\n",
            "2/2 [==============================] - 4s 2s/step - loss: 0.7332 - accuracy: 0.8514 - val_loss: 0.7540 - val_accuracy: 0.8143\n",
            "Epoch 74/250\n",
            "2/2 [==============================] - 4s 2s/step - loss: 0.7295 - accuracy: 0.8557 - val_loss: 0.7528 - val_accuracy: 0.8171\n",
            "Epoch 75/250\n",
            "2/2 [==============================] - 4s 2s/step - loss: 0.7242 - accuracy: 0.8586 - val_loss: 0.7515 - val_accuracy: 0.8143\n",
            "Epoch 76/250\n",
            "2/2 [==============================] - 4s 2s/step - loss: 0.7285 - accuracy: 0.8514 - val_loss: 0.7525 - val_accuracy: 0.8171\n",
            "Epoch 77/250\n",
            "2/2 [==============================] - 4s 2s/step - loss: 0.7223 - accuracy: 0.8593 - val_loss: 0.7494 - val_accuracy: 0.8200\n",
            "Epoch 78/250\n",
            "2/2 [==============================] - 4s 2s/step - loss: 0.7210 - accuracy: 0.8636 - val_loss: 0.7510 - val_accuracy: 0.8229\n",
            "Epoch 79/250\n",
            "2/2 [==============================] - 4s 2s/step - loss: 0.7188 - accuracy: 0.8743 - val_loss: 0.7474 - val_accuracy: 0.8286\n",
            "Epoch 80/250\n",
            "2/2 [==============================] - 4s 2s/step - loss: 0.7177 - accuracy: 0.8671 - val_loss: 0.7479 - val_accuracy: 0.8257\n",
            "Epoch 81/250\n",
            "2/2 [==============================] - 4s 2s/step - loss: 0.7151 - accuracy: 0.8721 - val_loss: 0.7449 - val_accuracy: 0.8229\n",
            "Epoch 82/250\n",
            "2/2 [==============================] - 4s 2s/step - loss: 0.7162 - accuracy: 0.8679 - val_loss: 0.7460 - val_accuracy: 0.8286\n",
            "Epoch 83/250\n",
            "2/2 [==============================] - 4s 2s/step - loss: 0.7131 - accuracy: 0.8707 - val_loss: 0.7425 - val_accuracy: 0.8286\n",
            "Epoch 84/250\n",
            "2/2 [==============================] - 4s 2s/step - loss: 0.7113 - accuracy: 0.8743 - val_loss: 0.7419 - val_accuracy: 0.8286\n",
            "Epoch 85/250\n",
            "2/2 [==============================] - 4s 2s/step - loss: 0.7072 - accuracy: 0.8843 - val_loss: 0.7407 - val_accuracy: 0.8286\n",
            "Epoch 86/250\n",
            "2/2 [==============================] - 4s 2s/step - loss: 0.7055 - accuracy: 0.8786 - val_loss: 0.7393 - val_accuracy: 0.8229\n",
            "Epoch 87/250\n",
            "2/2 [==============================] - 4s 2s/step - loss: 0.7043 - accuracy: 0.8786 - val_loss: 0.7388 - val_accuracy: 0.8257\n",
            "Epoch 88/250\n",
            "2/2 [==============================] - 4s 2s/step - loss: 0.7032 - accuracy: 0.8829 - val_loss: 0.7369 - val_accuracy: 0.8314\n",
            "Epoch 89/250\n",
            "2/2 [==============================] - 4s 2s/step - loss: 0.6980 - accuracy: 0.8857 - val_loss: 0.7367 - val_accuracy: 0.8314\n",
            "Epoch 90/250\n",
            "2/2 [==============================] - 4s 2s/step - loss: 0.6997 - accuracy: 0.8850 - val_loss: 0.7357 - val_accuracy: 0.8400\n",
            "Epoch 91/250\n",
            "2/2 [==============================] - 4s 2s/step - loss: 0.7015 - accuracy: 0.8807 - val_loss: 0.7352 - val_accuracy: 0.8343\n",
            "Epoch 92/250\n",
            "2/2 [==============================] - 4s 2s/step - loss: 0.6971 - accuracy: 0.8921 - val_loss: 0.7333 - val_accuracy: 0.8400\n",
            "Epoch 93/250\n",
            "2/2 [==============================] - 4s 2s/step - loss: 0.6986 - accuracy: 0.8864 - val_loss: 0.7315 - val_accuracy: 0.8314\n",
            "Epoch 94/250\n",
            "2/2 [==============================] - 4s 2s/step - loss: 0.6918 - accuracy: 0.8886 - val_loss: 0.7305 - val_accuracy: 0.8371\n",
            "Epoch 95/250\n",
            "2/2 [==============================] - 4s 2s/step - loss: 0.6896 - accuracy: 0.9000 - val_loss: 0.7297 - val_accuracy: 0.8400\n",
            "Epoch 96/250\n",
            "2/2 [==============================] - 4s 2s/step - loss: 0.6933 - accuracy: 0.8964 - val_loss: 0.7277 - val_accuracy: 0.8400\n",
            "Epoch 97/250\n",
            "2/2 [==============================] - 4s 2s/step - loss: 0.6899 - accuracy: 0.8979 - val_loss: 0.7282 - val_accuracy: 0.8457\n",
            "Epoch 98/250\n",
            "2/2 [==============================] - 4s 2s/step - loss: 0.6914 - accuracy: 0.8907 - val_loss: 0.7268 - val_accuracy: 0.8400\n",
            "Epoch 99/250\n",
            "2/2 [==============================] - 4s 2s/step - loss: 0.6847 - accuracy: 0.8943 - val_loss: 0.7257 - val_accuracy: 0.8400\n",
            "Epoch 100/250\n",
            "2/2 [==============================] - 4s 2s/step - loss: 0.6862 - accuracy: 0.9050 - val_loss: 0.7249 - val_accuracy: 0.8429\n",
            "Epoch 101/250\n",
            "2/2 [==============================] - 4s 2s/step - loss: 0.6855 - accuracy: 0.8979 - val_loss: 0.7225 - val_accuracy: 0.8457\n",
            "Epoch 102/250\n",
            "2/2 [==============================] - 4s 2s/step - loss: 0.6825 - accuracy: 0.9057 - val_loss: 0.7225 - val_accuracy: 0.8457\n",
            "Epoch 103/250\n",
            "2/2 [==============================] - 4s 2s/step - loss: 0.6833 - accuracy: 0.9043 - val_loss: 0.7199 - val_accuracy: 0.8514\n",
            "Epoch 104/250\n",
            "2/2 [==============================] - 4s 2s/step - loss: 0.6792 - accuracy: 0.9043 - val_loss: 0.7204 - val_accuracy: 0.8486\n",
            "Epoch 105/250\n",
            "2/2 [==============================] - 4s 2s/step - loss: 0.6786 - accuracy: 0.9100 - val_loss: 0.7181 - val_accuracy: 0.8629\n",
            "Epoch 106/250\n",
            "2/2 [==============================] - 4s 2s/step - loss: 0.6756 - accuracy: 0.9107 - val_loss: 0.7170 - val_accuracy: 0.8543\n",
            "Epoch 107/250\n",
            "2/2 [==============================] - 4s 2s/step - loss: 0.6751 - accuracy: 0.9129 - val_loss: 0.7169 - val_accuracy: 0.8543\n",
            "Epoch 108/250\n",
            "2/2 [==============================] - 4s 2s/step - loss: 0.6769 - accuracy: 0.9057 - val_loss: 0.7152 - val_accuracy: 0.8600\n",
            "Epoch 109/250\n",
            "2/2 [==============================] - 4s 2s/step - loss: 0.6730 - accuracy: 0.9186 - val_loss: 0.7141 - val_accuracy: 0.8600\n",
            "Epoch 110/250\n",
            "2/2 [==============================] - 4s 2s/step - loss: 0.6761 - accuracy: 0.9121 - val_loss: 0.7135 - val_accuracy: 0.8600\n",
            "Epoch 111/250\n",
            "2/2 [==============================] - 4s 2s/step - loss: 0.6717 - accuracy: 0.9157 - val_loss: 0.7120 - val_accuracy: 0.8571\n",
            "Epoch 112/250\n",
            "2/2 [==============================] - 4s 2s/step - loss: 0.6723 - accuracy: 0.9157 - val_loss: 0.7126 - val_accuracy: 0.8600\n",
            "Epoch 113/250\n",
            "2/2 [==============================] - 4s 2s/step - loss: 0.6702 - accuracy: 0.9129 - val_loss: 0.7101 - val_accuracy: 0.8629\n",
            "Epoch 114/250\n",
            "2/2 [==============================] - 4s 2s/step - loss: 0.6671 - accuracy: 0.9214 - val_loss: 0.7093 - val_accuracy: 0.8629\n",
            "Epoch 115/250\n",
            "2/2 [==============================] - 4s 2s/step - loss: 0.6664 - accuracy: 0.9200 - val_loss: 0.7090 - val_accuracy: 0.8657\n",
            "Epoch 116/250\n",
            "2/2 [==============================] - 4s 2s/step - loss: 0.6664 - accuracy: 0.9214 - val_loss: 0.7080 - val_accuracy: 0.8629\n",
            "Epoch 117/250\n",
            "2/2 [==============================] - 4s 2s/step - loss: 0.6678 - accuracy: 0.9186 - val_loss: 0.7072 - val_accuracy: 0.8600\n",
            "Epoch 118/250\n",
            "2/2 [==============================] - 4s 2s/step - loss: 0.6653 - accuracy: 0.9171 - val_loss: 0.7053 - val_accuracy: 0.8629\n",
            "Epoch 119/250\n",
            "2/2 [==============================] - 4s 2s/step - loss: 0.6638 - accuracy: 0.9229 - val_loss: 0.7064 - val_accuracy: 0.8629\n",
            "Epoch 120/250\n",
            "2/2 [==============================] - 4s 2s/step - loss: 0.6643 - accuracy: 0.9200 - val_loss: 0.7039 - val_accuracy: 0.8657\n",
            "Epoch 121/250\n",
            "2/2 [==============================] - 4s 2s/step - loss: 0.6611 - accuracy: 0.9221 - val_loss: 0.7045 - val_accuracy: 0.8629\n",
            "Epoch 122/250\n",
            "2/2 [==============================] - 4s 2s/step - loss: 0.6614 - accuracy: 0.9257 - val_loss: 0.7021 - val_accuracy: 0.8657\n",
            "Epoch 123/250\n",
            "2/2 [==============================] - 4s 2s/step - loss: 0.6621 - accuracy: 0.9207 - val_loss: 0.7021 - val_accuracy: 0.8771\n",
            "Epoch 124/250\n",
            "2/2 [==============================] - 4s 2s/step - loss: 0.6585 - accuracy: 0.9236 - val_loss: 0.7036 - val_accuracy: 0.8657\n",
            "Epoch 125/250\n",
            "2/2 [==============================] - 4s 2s/step - loss: 0.6601 - accuracy: 0.9264 - val_loss: 0.6997 - val_accuracy: 0.8686\n",
            "Epoch 126/250\n",
            "2/2 [==============================] - 4s 2s/step - loss: 0.6568 - accuracy: 0.9293 - val_loss: 0.7001 - val_accuracy: 0.8657\n",
            "Epoch 127/250\n",
            "2/2 [==============================] - 4s 2s/step - loss: 0.6569 - accuracy: 0.9236 - val_loss: 0.6993 - val_accuracy: 0.8657\n",
            "Epoch 128/250\n",
            "2/2 [==============================] - 4s 2s/step - loss: 0.6575 - accuracy: 0.9250 - val_loss: 0.6986 - val_accuracy: 0.8686\n",
            "Epoch 129/250\n",
            "2/2 [==============================] - 4s 2s/step - loss: 0.6544 - accuracy: 0.9257 - val_loss: 0.6971 - val_accuracy: 0.8686\n",
            "Epoch 130/250\n",
            "2/2 [==============================] - 4s 2s/step - loss: 0.6554 - accuracy: 0.9264 - val_loss: 0.6967 - val_accuracy: 0.8657\n",
            "Epoch 131/250\n",
            "2/2 [==============================] - 4s 2s/step - loss: 0.6530 - accuracy: 0.9300 - val_loss: 0.6963 - val_accuracy: 0.8657\n",
            "Epoch 132/250\n",
            "2/2 [==============================] - 4s 2s/step - loss: 0.6538 - accuracy: 0.9264 - val_loss: 0.6948 - val_accuracy: 0.8714\n",
            "Epoch 133/250\n",
            "2/2 [==============================] - 4s 2s/step - loss: 0.6506 - accuracy: 0.9343 - val_loss: 0.6944 - val_accuracy: 0.8686\n",
            "Epoch 134/250\n",
            "2/2 [==============================] - 4s 2s/step - loss: 0.6513 - accuracy: 0.9314 - val_loss: 0.6938 - val_accuracy: 0.8714\n",
            "Epoch 135/250\n",
            "2/2 [==============================] - 4s 2s/step - loss: 0.6518 - accuracy: 0.9300 - val_loss: 0.6934 - val_accuracy: 0.8686\n",
            "Epoch 136/250\n",
            "2/2 [==============================] - 4s 2s/step - loss: 0.6528 - accuracy: 0.9229 - val_loss: 0.6934 - val_accuracy: 0.8714\n",
            "Epoch 137/250\n",
            "2/2 [==============================] - 4s 2s/step - loss: 0.6498 - accuracy: 0.9307 - val_loss: 0.6919 - val_accuracy: 0.8743\n",
            "Epoch 138/250\n",
            "2/2 [==============================] - 4s 2s/step - loss: 0.6500 - accuracy: 0.9271 - val_loss: 0.6925 - val_accuracy: 0.8686\n",
            "Epoch 139/250\n",
            "2/2 [==============================] - 4s 2s/step - loss: 0.6499 - accuracy: 0.9314 - val_loss: 0.6913 - val_accuracy: 0.8771\n",
            "Epoch 140/250\n",
            "2/2 [==============================] - 4s 2s/step - loss: 0.6473 - accuracy: 0.9314 - val_loss: 0.6922 - val_accuracy: 0.8686\n",
            "Epoch 141/250\n",
            "2/2 [==============================] - 4s 2s/step - loss: 0.6481 - accuracy: 0.9300 - val_loss: 0.6892 - val_accuracy: 0.8743\n",
            "Epoch 142/250\n",
            "2/2 [==============================] - 4s 2s/step - loss: 0.6464 - accuracy: 0.9329 - val_loss: 0.6902 - val_accuracy: 0.8714\n",
            "Epoch 143/250\n",
            "2/2 [==============================] - 4s 2s/step - loss: 0.6451 - accuracy: 0.9321 - val_loss: 0.6882 - val_accuracy: 0.8800\n",
            "Epoch 144/250\n",
            "2/2 [==============================] - 4s 2s/step - loss: 0.6463 - accuracy: 0.9364 - val_loss: 0.6874 - val_accuracy: 0.8771\n",
            "Epoch 145/250\n",
            "2/2 [==============================] - 4s 2s/step - loss: 0.6445 - accuracy: 0.9321 - val_loss: 0.6893 - val_accuracy: 0.8686\n",
            "Epoch 146/250\n",
            "2/2 [==============================] - 4s 2s/step - loss: 0.6428 - accuracy: 0.9343 - val_loss: 0.6863 - val_accuracy: 0.8800\n",
            "Epoch 147/250\n",
            "2/2 [==============================] - 4s 2s/step - loss: 0.6440 - accuracy: 0.9336 - val_loss: 0.6875 - val_accuracy: 0.8714\n",
            "Epoch 148/250\n",
            "2/2 [==============================] - 4s 2s/step - loss: 0.6438 - accuracy: 0.9336 - val_loss: 0.6850 - val_accuracy: 0.8800\n",
            "Epoch 149/250\n",
            "2/2 [==============================] - 4s 2s/step - loss: 0.6411 - accuracy: 0.9379 - val_loss: 0.6850 - val_accuracy: 0.8771\n",
            "Epoch 150/250\n",
            "2/2 [==============================] - 4s 2s/step - loss: 0.6404 - accuracy: 0.9364 - val_loss: 0.6843 - val_accuracy: 0.8800\n",
            "Epoch 151/250\n",
            "2/2 [==============================] - 4s 2s/step - loss: 0.6398 - accuracy: 0.9393 - val_loss: 0.6828 - val_accuracy: 0.8800\n",
            "Epoch 152/250\n",
            "2/2 [==============================] - 4s 2s/step - loss: 0.6408 - accuracy: 0.9364 - val_loss: 0.6834 - val_accuracy: 0.8771\n",
            "Epoch 153/250\n",
            "2/2 [==============================] - 4s 2s/step - loss: 0.6379 - accuracy: 0.9407 - val_loss: 0.6817 - val_accuracy: 0.8829\n",
            "Epoch 154/250\n",
            "2/2 [==============================] - 4s 2s/step - loss: 0.6387 - accuracy: 0.9436 - val_loss: 0.6825 - val_accuracy: 0.8829\n",
            "Epoch 155/250\n",
            "2/2 [==============================] - 4s 2s/step - loss: 0.6387 - accuracy: 0.9364 - val_loss: 0.6809 - val_accuracy: 0.8800\n",
            "Epoch 156/250\n",
            "2/2 [==============================] - 4s 2s/step - loss: 0.6384 - accuracy: 0.9386 - val_loss: 0.6810 - val_accuracy: 0.8800\n",
            "Epoch 157/250\n",
            "2/2 [==============================] - 4s 2s/step - loss: 0.6371 - accuracy: 0.9364 - val_loss: 0.6812 - val_accuracy: 0.8829\n",
            "Epoch 158/250\n",
            "2/2 [==============================] - 4s 2s/step - loss: 0.6386 - accuracy: 0.9386 - val_loss: 0.6791 - val_accuracy: 0.8857\n",
            "Epoch 159/250\n",
            "2/2 [==============================] - 4s 2s/step - loss: 0.6353 - accuracy: 0.9371 - val_loss: 0.6789 - val_accuracy: 0.8829\n",
            "Epoch 160/250\n",
            "2/2 [==============================] - 4s 2s/step - loss: 0.6382 - accuracy: 0.9393 - val_loss: 0.6795 - val_accuracy: 0.8857\n",
            "Epoch 161/250\n",
            "2/2 [==============================] - 4s 2s/step - loss: 0.6354 - accuracy: 0.9407 - val_loss: 0.6775 - val_accuracy: 0.8886\n",
            "Epoch 162/250\n",
            "2/2 [==============================] - 4s 2s/step - loss: 0.6357 - accuracy: 0.9379 - val_loss: 0.6782 - val_accuracy: 0.8886\n",
            "Epoch 163/250\n",
            "2/2 [==============================] - 4s 2s/step - loss: 0.6331 - accuracy: 0.9407 - val_loss: 0.6769 - val_accuracy: 0.8886\n",
            "Epoch 164/250\n",
            "2/2 [==============================] - 4s 2s/step - loss: 0.6346 - accuracy: 0.9436 - val_loss: 0.6770 - val_accuracy: 0.8914\n",
            "Epoch 165/250\n",
            "2/2 [==============================] - 4s 2s/step - loss: 0.6318 - accuracy: 0.9443 - val_loss: 0.6766 - val_accuracy: 0.8943\n",
            "Epoch 166/250\n",
            "2/2 [==============================] - 4s 2s/step - loss: 0.6337 - accuracy: 0.9421 - val_loss: 0.6754 - val_accuracy: 0.8943\n",
            "Epoch 167/250\n",
            "2/2 [==============================] - 4s 2s/step - loss: 0.6337 - accuracy: 0.9457 - val_loss: 0.6757 - val_accuracy: 0.8886\n",
            "Epoch 168/250\n",
            "2/2 [==============================] - 4s 2s/step - loss: 0.6320 - accuracy: 0.9443 - val_loss: 0.6739 - val_accuracy: 0.8914\n",
            "Epoch 169/250\n",
            "2/2 [==============================] - 4s 2s/step - loss: 0.6332 - accuracy: 0.9457 - val_loss: 0.6749 - val_accuracy: 0.8943\n",
            "Epoch 170/250\n",
            "2/2 [==============================] - 4s 2s/step - loss: 0.6295 - accuracy: 0.9450 - val_loss: 0.6729 - val_accuracy: 0.8914\n",
            "Epoch 171/250\n",
            "2/2 [==============================] - 4s 2s/step - loss: 0.6319 - accuracy: 0.9414 - val_loss: 0.6727 - val_accuracy: 0.8971\n",
            "Epoch 172/250\n",
            "2/2 [==============================] - 4s 2s/step - loss: 0.6293 - accuracy: 0.9443 - val_loss: 0.6723 - val_accuracy: 0.8886\n",
            "Epoch 173/250\n",
            "2/2 [==============================] - 4s 2s/step - loss: 0.6290 - accuracy: 0.9443 - val_loss: 0.6714 - val_accuracy: 0.8914\n",
            "Epoch 174/250\n",
            "2/2 [==============================] - 4s 2s/step - loss: 0.6277 - accuracy: 0.9450 - val_loss: 0.6708 - val_accuracy: 0.8943\n",
            "Epoch 175/250\n",
            "2/2 [==============================] - 4s 2s/step - loss: 0.6269 - accuracy: 0.9457 - val_loss: 0.6714 - val_accuracy: 0.8943\n",
            "Epoch 176/250\n",
            "2/2 [==============================] - 4s 2s/step - loss: 0.6281 - accuracy: 0.9486 - val_loss: 0.6698 - val_accuracy: 0.8914\n",
            "Epoch 177/250\n",
            "2/2 [==============================] - 4s 2s/step - loss: 0.6291 - accuracy: 0.9443 - val_loss: 0.6692 - val_accuracy: 0.9000\n",
            "Epoch 178/250\n",
            "2/2 [==============================] - 4s 2s/step - loss: 0.6287 - accuracy: 0.9443 - val_loss: 0.6708 - val_accuracy: 0.8943\n",
            "Epoch 179/250\n",
            "2/2 [==============================] - 4s 2s/step - loss: 0.6291 - accuracy: 0.9464 - val_loss: 0.6682 - val_accuracy: 0.8943\n",
            "Epoch 180/250\n",
            "2/2 [==============================] - 4s 2s/step - loss: 0.6279 - accuracy: 0.9450 - val_loss: 0.6681 - val_accuracy: 0.8943\n",
            "Epoch 181/250\n",
            "2/2 [==============================] - 4s 2s/step - loss: 0.6255 - accuracy: 0.9479 - val_loss: 0.6688 - val_accuracy: 0.8943\n",
            "Epoch 182/250\n",
            "2/2 [==============================] - 4s 2s/step - loss: 0.6270 - accuracy: 0.9443 - val_loss: 0.6668 - val_accuracy: 0.8943\n",
            "Epoch 183/250\n",
            "2/2 [==============================] - 4s 2s/step - loss: 0.6261 - accuracy: 0.9464 - val_loss: 0.6673 - val_accuracy: 0.9000\n",
            "Epoch 184/250\n",
            "2/2 [==============================] - 4s 2s/step - loss: 0.6255 - accuracy: 0.9507 - val_loss: 0.6662 - val_accuracy: 0.9029\n",
            "Epoch 185/250\n",
            "2/2 [==============================] - 4s 2s/step - loss: 0.6253 - accuracy: 0.9450 - val_loss: 0.6658 - val_accuracy: 0.9000\n",
            "Epoch 186/250\n",
            "2/2 [==============================] - 4s 2s/step - loss: 0.6251 - accuracy: 0.9457 - val_loss: 0.6662 - val_accuracy: 0.8943\n",
            "Epoch 187/250\n",
            "2/2 [==============================] - 4s 2s/step - loss: 0.6228 - accuracy: 0.9486 - val_loss: 0.6646 - val_accuracy: 0.9000\n",
            "Epoch 188/250\n",
            "2/2 [==============================] - 4s 2s/step - loss: 0.6237 - accuracy: 0.9486 - val_loss: 0.6645 - val_accuracy: 0.9000\n",
            "Epoch 189/250\n",
            "2/2 [==============================] - 4s 2s/step - loss: 0.6242 - accuracy: 0.9514 - val_loss: 0.6643 - val_accuracy: 0.9029\n",
            "Epoch 190/250\n",
            "2/2 [==============================] - 4s 2s/step - loss: 0.6230 - accuracy: 0.9493 - val_loss: 0.6635 - val_accuracy: 0.8971\n",
            "Epoch 191/250\n",
            "2/2 [==============================] - 4s 2s/step - loss: 0.6230 - accuracy: 0.9486 - val_loss: 0.6640 - val_accuracy: 0.8971\n",
            "Epoch 192/250\n",
            "2/2 [==============================] - 4s 2s/step - loss: 0.6217 - accuracy: 0.9507 - val_loss: 0.6626 - val_accuracy: 0.9057\n",
            "Epoch 193/250\n",
            "2/2 [==============================] - 4s 2s/step - loss: 0.6217 - accuracy: 0.9500 - val_loss: 0.6621 - val_accuracy: 0.9029\n",
            "Epoch 194/250\n",
            "2/2 [==============================] - 4s 2s/step - loss: 0.6214 - accuracy: 0.9500 - val_loss: 0.6627 - val_accuracy: 0.9000\n",
            "Epoch 195/250\n",
            "2/2 [==============================] - 4s 2s/step - loss: 0.6216 - accuracy: 0.9514 - val_loss: 0.6614 - val_accuracy: 0.9057\n",
            "Epoch 196/250\n",
            "2/2 [==============================] - 4s 2s/step - loss: 0.6187 - accuracy: 0.9507 - val_loss: 0.6615 - val_accuracy: 0.9086\n",
            "Epoch 197/250\n",
            "2/2 [==============================] - 4s 2s/step - loss: 0.6213 - accuracy: 0.9479 - val_loss: 0.6607 - val_accuracy: 0.9000\n",
            "Epoch 198/250\n",
            "2/2 [==============================] - 4s 2s/step - loss: 0.6208 - accuracy: 0.9514 - val_loss: 0.6612 - val_accuracy: 0.9000\n",
            "Epoch 199/250\n",
            "2/2 [==============================] - 4s 2s/step - loss: 0.6188 - accuracy: 0.9529 - val_loss: 0.6596 - val_accuracy: 0.9114\n",
            "Epoch 200/250\n",
            "2/2 [==============================] - 4s 2s/step - loss: 0.6197 - accuracy: 0.9543 - val_loss: 0.6593 - val_accuracy: 0.9086\n",
            "Epoch 201/250\n",
            "2/2 [==============================] - 4s 2s/step - loss: 0.6186 - accuracy: 0.9514 - val_loss: 0.6601 - val_accuracy: 0.9029\n",
            "Epoch 202/250\n",
            "2/2 [==============================] - 4s 2s/step - loss: 0.6205 - accuracy: 0.9529 - val_loss: 0.6587 - val_accuracy: 0.9029\n",
            "Epoch 203/250\n",
            "2/2 [==============================] - 4s 2s/step - loss: 0.6192 - accuracy: 0.9507 - val_loss: 0.6586 - val_accuracy: 0.9086\n",
            "Epoch 204/250\n",
            "2/2 [==============================] - 4s 2s/step - loss: 0.6190 - accuracy: 0.9514 - val_loss: 0.6585 - val_accuracy: 0.9057\n",
            "Epoch 205/250\n",
            "2/2 [==============================] - 4s 2s/step - loss: 0.6178 - accuracy: 0.9514 - val_loss: 0.6580 - val_accuracy: 0.9086\n",
            "Epoch 206/250\n",
            "2/2 [==============================] - 4s 2s/step - loss: 0.6174 - accuracy: 0.9521 - val_loss: 0.6571 - val_accuracy: 0.9086\n",
            "Epoch 207/250\n",
            "2/2 [==============================] - 4s 2s/step - loss: 0.6165 - accuracy: 0.9564 - val_loss: 0.6572 - val_accuracy: 0.9057\n",
            "Epoch 208/250\n",
            "2/2 [==============================] - 4s 2s/step - loss: 0.6180 - accuracy: 0.9550 - val_loss: 0.6567 - val_accuracy: 0.9057\n",
            "Epoch 209/250\n",
            "2/2 [==============================] - 4s 2s/step - loss: 0.6161 - accuracy: 0.9557 - val_loss: 0.6562 - val_accuracy: 0.9086\n",
            "Epoch 210/250\n",
            "2/2 [==============================] - 4s 2s/step - loss: 0.6166 - accuracy: 0.9557 - val_loss: 0.6560 - val_accuracy: 0.9057\n",
            "Epoch 211/250\n",
            "2/2 [==============================] - 4s 2s/step - loss: 0.6158 - accuracy: 0.9571 - val_loss: 0.6556 - val_accuracy: 0.9114\n",
            "Epoch 212/250\n",
            "2/2 [==============================] - 4s 2s/step - loss: 0.6160 - accuracy: 0.9529 - val_loss: 0.6555 - val_accuracy: 0.9057\n",
            "Epoch 213/250\n",
            "2/2 [==============================] - 4s 2s/step - loss: 0.6144 - accuracy: 0.9579 - val_loss: 0.6555 - val_accuracy: 0.9057\n",
            "Epoch 214/250\n",
            "2/2 [==============================] - 4s 2s/step - loss: 0.6151 - accuracy: 0.9564 - val_loss: 0.6549 - val_accuracy: 0.9143\n",
            "Epoch 215/250\n",
            "2/2 [==============================] - 4s 2s/step - loss: 0.6147 - accuracy: 0.9564 - val_loss: 0.6545 - val_accuracy: 0.9086\n",
            "Epoch 216/250\n",
            "2/2 [==============================] - 4s 2s/step - loss: 0.6154 - accuracy: 0.9536 - val_loss: 0.6544 - val_accuracy: 0.9057\n",
            "Epoch 217/250\n",
            "2/2 [==============================] - 4s 2s/step - loss: 0.6140 - accuracy: 0.9593 - val_loss: 0.6549 - val_accuracy: 0.9143\n",
            "Epoch 218/250\n",
            "2/2 [==============================] - 4s 2s/step - loss: 0.6122 - accuracy: 0.9564 - val_loss: 0.6533 - val_accuracy: 0.9114\n",
            "Epoch 219/250\n",
            "2/2 [==============================] - 4s 2s/step - loss: 0.6137 - accuracy: 0.9579 - val_loss: 0.6542 - val_accuracy: 0.9171\n",
            "Epoch 220/250\n",
            "2/2 [==============================] - 4s 2s/step - loss: 0.6134 - accuracy: 0.9564 - val_loss: 0.6524 - val_accuracy: 0.9114\n",
            "Epoch 221/250\n",
            "2/2 [==============================] - 4s 2s/step - loss: 0.6129 - accuracy: 0.9593 - val_loss: 0.6521 - val_accuracy: 0.9114\n",
            "Epoch 222/250\n",
            "2/2 [==============================] - 4s 2s/step - loss: 0.6135 - accuracy: 0.9550 - val_loss: 0.6526 - val_accuracy: 0.9143\n",
            "Epoch 223/250\n",
            "2/2 [==============================] - 4s 2s/step - loss: 0.6118 - accuracy: 0.9571 - val_loss: 0.6513 - val_accuracy: 0.9114\n",
            "Epoch 224/250\n",
            "2/2 [==============================] - 4s 2s/step - loss: 0.6115 - accuracy: 0.9579 - val_loss: 0.6513 - val_accuracy: 0.9114\n",
            "Epoch 225/250\n",
            "2/2 [==============================] - 4s 2s/step - loss: 0.6113 - accuracy: 0.9600 - val_loss: 0.6513 - val_accuracy: 0.9143\n",
            "Epoch 226/250\n",
            "2/2 [==============================] - 4s 2s/step - loss: 0.6113 - accuracy: 0.9600 - val_loss: 0.6508 - val_accuracy: 0.9086\n",
            "Epoch 227/250\n",
            "2/2 [==============================] - 4s 2s/step - loss: 0.6101 - accuracy: 0.9607 - val_loss: 0.6517 - val_accuracy: 0.9143\n",
            "Epoch 228/250\n",
            "2/2 [==============================] - 4s 2s/step - loss: 0.6116 - accuracy: 0.9593 - val_loss: 0.6500 - val_accuracy: 0.9143\n",
            "Epoch 229/250\n",
            "2/2 [==============================] - 4s 2s/step - loss: 0.6118 - accuracy: 0.9571 - val_loss: 0.6506 - val_accuracy: 0.9171\n",
            "Epoch 230/250\n",
            "2/2 [==============================] - 4s 2s/step - loss: 0.6096 - accuracy: 0.9579 - val_loss: 0.6493 - val_accuracy: 0.9143\n",
            "Epoch 231/250\n",
            "2/2 [==============================] - 4s 2s/step - loss: 0.6105 - accuracy: 0.9593 - val_loss: 0.6489 - val_accuracy: 0.9114\n",
            "Epoch 232/250\n",
            "2/2 [==============================] - 4s 2s/step - loss: 0.6093 - accuracy: 0.9579 - val_loss: 0.6491 - val_accuracy: 0.9143\n",
            "Epoch 233/250\n",
            "2/2 [==============================] - 4s 2s/step - loss: 0.6088 - accuracy: 0.9607 - val_loss: 0.6486 - val_accuracy: 0.9143\n",
            "Epoch 234/250\n",
            "2/2 [==============================] - 4s 2s/step - loss: 0.6083 - accuracy: 0.9600 - val_loss: 0.6481 - val_accuracy: 0.9114\n",
            "Epoch 235/250\n",
            "2/2 [==============================] - 4s 2s/step - loss: 0.6092 - accuracy: 0.9579 - val_loss: 0.6481 - val_accuracy: 0.9114\n",
            "Epoch 236/250\n",
            "2/2 [==============================] - 4s 2s/step - loss: 0.6076 - accuracy: 0.9614 - val_loss: 0.6480 - val_accuracy: 0.9171\n",
            "Epoch 237/250\n",
            "2/2 [==============================] - 4s 2s/step - loss: 0.6084 - accuracy: 0.9600 - val_loss: 0.6473 - val_accuracy: 0.9114\n",
            "Epoch 238/250\n",
            "2/2 [==============================] - 4s 2s/step - loss: 0.6066 - accuracy: 0.9621 - val_loss: 0.6465 - val_accuracy: 0.9114\n",
            "Epoch 239/250\n",
            "2/2 [==============================] - 4s 2s/step - loss: 0.6079 - accuracy: 0.9593 - val_loss: 0.6469 - val_accuracy: 0.9171\n",
            "Epoch 240/250\n",
            "2/2 [==============================] - 4s 2s/step - loss: 0.6077 - accuracy: 0.9600 - val_loss: 0.6458 - val_accuracy: 0.9143\n",
            "Epoch 241/250\n",
            "2/2 [==============================] - 4s 2s/step - loss: 0.6053 - accuracy: 0.9614 - val_loss: 0.6453 - val_accuracy: 0.9114\n",
            "Epoch 242/250\n",
            "2/2 [==============================] - 4s 2s/step - loss: 0.6070 - accuracy: 0.9621 - val_loss: 0.6455 - val_accuracy: 0.9171\n",
            "Epoch 243/250\n",
            "2/2 [==============================] - 4s 2s/step - loss: 0.6057 - accuracy: 0.9614 - val_loss: 0.6445 - val_accuracy: 0.9171\n",
            "Epoch 244/250\n",
            "2/2 [==============================] - 4s 2s/step - loss: 0.6058 - accuracy: 0.9614 - val_loss: 0.6441 - val_accuracy: 0.9171\n",
            "Epoch 245/250\n",
            "2/2 [==============================] - 4s 2s/step - loss: 0.6055 - accuracy: 0.9614 - val_loss: 0.6444 - val_accuracy: 0.9200\n",
            "Epoch 246/250\n",
            "2/2 [==============================] - 4s 2s/step - loss: 0.6066 - accuracy: 0.9607 - val_loss: 0.6441 - val_accuracy: 0.9200\n",
            "Epoch 247/250\n",
            "2/2 [==============================] - 4s 2s/step - loss: 0.6053 - accuracy: 0.9657 - val_loss: 0.6444 - val_accuracy: 0.9171\n",
            "Epoch 248/250\n",
            "2/2 [==============================] - 4s 2s/step - loss: 0.6057 - accuracy: 0.9621 - val_loss: 0.6433 - val_accuracy: 0.9171\n",
            "Epoch 249/250\n",
            "2/2 [==============================] - 4s 2s/step - loss: 0.6040 - accuracy: 0.9643 - val_loss: 0.6425 - val_accuracy: 0.9171\n",
            "Epoch 250/250\n",
            "2/2 [==============================] - 4s 2s/step - loss: 0.6019 - accuracy: 0.9629 - val_loss: 0.6429 - val_accuracy: 0.9200\n"
          ]
        },
        {
          "output_type": "execute_result",
          "data": {
            "text/plain": [
              "<keras.callbacks.History at 0x7f2b305fd750>"
            ]
          },
          "metadata": {},
          "execution_count": 19
        }
      ]
    },
    {
      "cell_type": "markdown",
      "metadata": {
        "id": "ZXE0-O12l_ko"
      },
      "source": [
        "**11.** Évaluez le modèle sur l'ensemble de test :"
      ]
    },
    {
      "cell_type": "code",
      "metadata": {
        "colab": {
          "base_uri": "https://localhost:8080/"
        },
        "id": "0U7eOOcTmMuC",
        "outputId": "52a7a001-95af-4f9b-ddf2-8f4e77b438de"
      },
      "source": [
        "test_loss, test_accuracy = model.evaluate(test_dataset)\n",
        "print(f'Loss: {test_loss}, accuracy: {test_accuracy}')"
      ],
      "execution_count": 20,
      "outputs": [
        {
          "output_type": "stream",
          "name": "stdout",
          "text": [
            "1/1 [==============================] - 1s 1s/step - loss: 0.6401 - accuracy: 0.9338\n",
            "Loss: 0.6401192545890808, accuracy: 0.9337899684906006\n"
          ]
        }
      ]
    },
    {
      "cell_type": "markdown",
      "metadata": {
        "id": "UAuWjm_2meiF"
      },
      "source": [
        "Après 250 époques, notre réseau atteint une précision d'environ 93,5% sur l'ensemble de test. Comprenons ce que nous venons de faire"
      ]
    },
    {
      "cell_type": "markdown",
      "metadata": {
        "id": "plON0_MWmfun"
      },
      "source": [
        "Nous avons commencé par définir la liste CLASSES, ce qui nous a permis d'encoder rapidement et en un seul clic les étiquettes de chaque image, en fonction du nom du répertoire où elles étaient contenues, comme nous l'avons observé dans le corps de la fonction load_image_and_label(). Dans cette même fonction, nous lisons une image à partir du disque, la décodons à partir de son format JPEG, la convertissons en niveaux de gris (les informations de couleur ne sont pas nécessaires dans ce problème), puis la redimensionnons à des dimensions plus gérables de 32x32x1.\n",
        "\n",
        "build_network() crée un CNN très simple et peu profond, comprenant une seule couche convolutive, activée avec ReLU(), suivie d'une sortie, une couche entièrement connectée de trois neurones, correspondant au nombre de catégories dans l'ensemble de données. Parce qu'il s'agit d'une tâche de classification multi-classes, nous utilisons Softmax() pour activer les sorties.\n",
        "\n",
        "prepare_dataset() exploite la fonction load_image_and_label() dénie précédemment pour convertir les chemins en lots de tenseurs d'image et d'étiquettes encodées à one_hot.\n",
        "\n",
        "À l'aide des trois fonctions expliquées ici, nous avons préparé trois sous-ensembles de données, dans le but d'entraîner, de valider et de tester le réseau de neurones. Nous avons entraîné le modèle pour 250 époques, en utilisant l'optimiseur Adam et CategoricalCrossentropy(from_logits=True) comme fonction de perte (from_logits=True produit un peu plus de stabilité numérique).\n",
        "\n",
        "Enfin, nous avons obtenu une précision d'environ 93,5% sur l'ensemble de test. Sur la base de ces résultats, vous pouvez utiliser ce réseau comme composant d'un jeu Rock Paper Scissors pour reconnaître les gestes de la main d'un joueur et réagir en conséquence."
      ]
    }
  ]
}