{
  "nbformat": 4,
  "nbformat_minor": 0,
  "metadata": {
    "colab": {
      "name": "Data Augmentation.ipynb",
      "provenance": [],
      "collapsed_sections": []
    },
    "kernelspec": {
      "name": "python3",
      "display_name": "Python 3"
    },
    "language_info": {
      "name": "python"
    },
    "accelerator": "GPU",
    "widgets": {
      "application/vnd.jupyter.widget-state+json": {
        "8cb461c66c834e66bb5218d19b088d43": {
          "model_module": "@jupyter-widgets/controls",
          "model_name": "HBoxModel",
          "model_module_version": "1.5.0",
          "state": {
            "_view_name": "HBoxView",
            "_dom_classes": [],
            "_model_name": "HBoxModel",
            "_view_module": "@jupyter-widgets/controls",
            "_model_module_version": "1.5.0",
            "_view_count": null,
            "_view_module_version": "1.5.0",
            "box_style": "",
            "layout": "IPY_MODEL_2b12f940fd6b477fae11877c6021b3ef",
            "_model_module": "@jupyter-widgets/controls",
            "children": [
              "IPY_MODEL_f2b546e02df147f98d2bdb86cc1a5aa4",
              "IPY_MODEL_c2771455073542bb869503cd015c23cd",
              "IPY_MODEL_42cd345664fa42619c0a99265c77c298"
            ]
          }
        },
        "2b12f940fd6b477fae11877c6021b3ef": {
          "model_module": "@jupyter-widgets/base",
          "model_name": "LayoutModel",
          "model_module_version": "1.2.0",
          "state": {
            "_view_name": "LayoutView",
            "grid_template_rows": null,
            "right": null,
            "justify_content": null,
            "_view_module": "@jupyter-widgets/base",
            "overflow": null,
            "_model_module_version": "1.2.0",
            "_view_count": null,
            "flex_flow": null,
            "width": null,
            "min_width": null,
            "border": null,
            "align_items": null,
            "bottom": null,
            "_model_module": "@jupyter-widgets/base",
            "top": null,
            "grid_column": null,
            "overflow_y": null,
            "overflow_x": null,
            "grid_auto_flow": null,
            "grid_area": null,
            "grid_template_columns": null,
            "flex": null,
            "_model_name": "LayoutModel",
            "justify_items": null,
            "grid_row": null,
            "max_height": null,
            "align_content": null,
            "visibility": null,
            "align_self": null,
            "height": null,
            "min_height": null,
            "padding": null,
            "grid_auto_rows": null,
            "grid_gap": null,
            "max_width": null,
            "order": null,
            "_view_module_version": "1.2.0",
            "grid_template_areas": null,
            "object_position": null,
            "object_fit": null,
            "grid_auto_columns": null,
            "margin": null,
            "display": null,
            "left": null
          }
        },
        "f2b546e02df147f98d2bdb86cc1a5aa4": {
          "model_module": "@jupyter-widgets/controls",
          "model_name": "HTMLModel",
          "model_module_version": "1.5.0",
          "state": {
            "_view_name": "HTMLView",
            "style": "IPY_MODEL_77c12412bb8941f288ea059697480faf",
            "_dom_classes": [],
            "description": "",
            "_model_name": "HTMLModel",
            "placeholder": "​",
            "_view_module": "@jupyter-widgets/controls",
            "_model_module_version": "1.5.0",
            "value": "",
            "_view_count": null,
            "_view_module_version": "1.5.0",
            "description_tooltip": null,
            "_model_module": "@jupyter-widgets/controls",
            "layout": "IPY_MODEL_e61f3d0943574d89a9531166e334c0a9"
          }
        },
        "c2771455073542bb869503cd015c23cd": {
          "model_module": "@jupyter-widgets/controls",
          "model_name": "FloatProgressModel",
          "model_module_version": "1.5.0",
          "state": {
            "_view_name": "ProgressView",
            "style": "IPY_MODEL_57b7490f8d5245519d0a5da165142435",
            "_dom_classes": [],
            "description": "",
            "_model_name": "FloatProgressModel",
            "bar_style": "success",
            "max": 170498071,
            "_view_module": "@jupyter-widgets/controls",
            "_model_module_version": "1.5.0",
            "value": 170498071,
            "_view_count": null,
            "_view_module_version": "1.5.0",
            "orientation": "horizontal",
            "min": 0,
            "description_tooltip": null,
            "_model_module": "@jupyter-widgets/controls",
            "layout": "IPY_MODEL_c35d0085ffb84af0a6120358bf0f19d7"
          }
        },
        "42cd345664fa42619c0a99265c77c298": {
          "model_module": "@jupyter-widgets/controls",
          "model_name": "HTMLModel",
          "model_module_version": "1.5.0",
          "state": {
            "_view_name": "HTMLView",
            "style": "IPY_MODEL_9eb609dfa4f3470b80d2e91e504bc0e0",
            "_dom_classes": [],
            "description": "",
            "_model_name": "HTMLModel",
            "placeholder": "​",
            "_view_module": "@jupyter-widgets/controls",
            "_model_module_version": "1.5.0",
            "value": " 170499072/? [00:11&lt;00:00, 16243886.58it/s]",
            "_view_count": null,
            "_view_module_version": "1.5.0",
            "description_tooltip": null,
            "_model_module": "@jupyter-widgets/controls",
            "layout": "IPY_MODEL_afb021705ae54ea18c32ad5bfa353673"
          }
        },
        "77c12412bb8941f288ea059697480faf": {
          "model_module": "@jupyter-widgets/controls",
          "model_name": "DescriptionStyleModel",
          "model_module_version": "1.5.0",
          "state": {
            "_view_name": "StyleView",
            "_model_name": "DescriptionStyleModel",
            "description_width": "",
            "_view_module": "@jupyter-widgets/base",
            "_model_module_version": "1.5.0",
            "_view_count": null,
            "_view_module_version": "1.2.0",
            "_model_module": "@jupyter-widgets/controls"
          }
        },
        "e61f3d0943574d89a9531166e334c0a9": {
          "model_module": "@jupyter-widgets/base",
          "model_name": "LayoutModel",
          "model_module_version": "1.2.0",
          "state": {
            "_view_name": "LayoutView",
            "grid_template_rows": null,
            "right": null,
            "justify_content": null,
            "_view_module": "@jupyter-widgets/base",
            "overflow": null,
            "_model_module_version": "1.2.0",
            "_view_count": null,
            "flex_flow": null,
            "width": null,
            "min_width": null,
            "border": null,
            "align_items": null,
            "bottom": null,
            "_model_module": "@jupyter-widgets/base",
            "top": null,
            "grid_column": null,
            "overflow_y": null,
            "overflow_x": null,
            "grid_auto_flow": null,
            "grid_area": null,
            "grid_template_columns": null,
            "flex": null,
            "_model_name": "LayoutModel",
            "justify_items": null,
            "grid_row": null,
            "max_height": null,
            "align_content": null,
            "visibility": null,
            "align_self": null,
            "height": null,
            "min_height": null,
            "padding": null,
            "grid_auto_rows": null,
            "grid_gap": null,
            "max_width": null,
            "order": null,
            "_view_module_version": "1.2.0",
            "grid_template_areas": null,
            "object_position": null,
            "object_fit": null,
            "grid_auto_columns": null,
            "margin": null,
            "display": null,
            "left": null
          }
        },
        "57b7490f8d5245519d0a5da165142435": {
          "model_module": "@jupyter-widgets/controls",
          "model_name": "ProgressStyleModel",
          "model_module_version": "1.5.0",
          "state": {
            "_view_name": "StyleView",
            "_model_name": "ProgressStyleModel",
            "description_width": "",
            "_view_module": "@jupyter-widgets/base",
            "_model_module_version": "1.5.0",
            "_view_count": null,
            "_view_module_version": "1.2.0",
            "bar_color": null,
            "_model_module": "@jupyter-widgets/controls"
          }
        },
        "c35d0085ffb84af0a6120358bf0f19d7": {
          "model_module": "@jupyter-widgets/base",
          "model_name": "LayoutModel",
          "model_module_version": "1.2.0",
          "state": {
            "_view_name": "LayoutView",
            "grid_template_rows": null,
            "right": null,
            "justify_content": null,
            "_view_module": "@jupyter-widgets/base",
            "overflow": null,
            "_model_module_version": "1.2.0",
            "_view_count": null,
            "flex_flow": null,
            "width": null,
            "min_width": null,
            "border": null,
            "align_items": null,
            "bottom": null,
            "_model_module": "@jupyter-widgets/base",
            "top": null,
            "grid_column": null,
            "overflow_y": null,
            "overflow_x": null,
            "grid_auto_flow": null,
            "grid_area": null,
            "grid_template_columns": null,
            "flex": null,
            "_model_name": "LayoutModel",
            "justify_items": null,
            "grid_row": null,
            "max_height": null,
            "align_content": null,
            "visibility": null,
            "align_self": null,
            "height": null,
            "min_height": null,
            "padding": null,
            "grid_auto_rows": null,
            "grid_gap": null,
            "max_width": null,
            "order": null,
            "_view_module_version": "1.2.0",
            "grid_template_areas": null,
            "object_position": null,
            "object_fit": null,
            "grid_auto_columns": null,
            "margin": null,
            "display": null,
            "left": null
          }
        },
        "9eb609dfa4f3470b80d2e91e504bc0e0": {
          "model_module": "@jupyter-widgets/controls",
          "model_name": "DescriptionStyleModel",
          "model_module_version": "1.5.0",
          "state": {
            "_view_name": "StyleView",
            "_model_name": "DescriptionStyleModel",
            "description_width": "",
            "_view_module": "@jupyter-widgets/base",
            "_model_module_version": "1.5.0",
            "_view_count": null,
            "_view_module_version": "1.2.0",
            "_model_module": "@jupyter-widgets/controls"
          }
        },
        "afb021705ae54ea18c32ad5bfa353673": {
          "model_module": "@jupyter-widgets/base",
          "model_name": "LayoutModel",
          "model_module_version": "1.2.0",
          "state": {
            "_view_name": "LayoutView",
            "grid_template_rows": null,
            "right": null,
            "justify_content": null,
            "_view_module": "@jupyter-widgets/base",
            "overflow": null,
            "_model_module_version": "1.2.0",
            "_view_count": null,
            "flex_flow": null,
            "width": null,
            "min_width": null,
            "border": null,
            "align_items": null,
            "bottom": null,
            "_model_module": "@jupyter-widgets/base",
            "top": null,
            "grid_column": null,
            "overflow_y": null,
            "overflow_x": null,
            "grid_auto_flow": null,
            "grid_area": null,
            "grid_template_columns": null,
            "flex": null,
            "_model_name": "LayoutModel",
            "justify_items": null,
            "grid_row": null,
            "max_height": null,
            "align_content": null,
            "visibility": null,
            "align_self": null,
            "height": null,
            "min_height": null,
            "padding": null,
            "grid_auto_rows": null,
            "grid_gap": null,
            "max_width": null,
            "order": null,
            "_view_module_version": "1.2.0",
            "grid_template_areas": null,
            "object_position": null,
            "object_fit": null,
            "grid_auto_columns": null,
            "margin": null,
            "display": null,
            "left": null
          }
        },
        "4c6dc9a37db4412e9b2fed5ed186b49c": {
          "model_module": "@jupyter-widgets/controls",
          "model_name": "HBoxModel",
          "model_module_version": "1.5.0",
          "state": {
            "_view_name": "HBoxView",
            "_dom_classes": [],
            "_model_name": "HBoxModel",
            "_view_module": "@jupyter-widgets/controls",
            "_model_module_version": "1.5.0",
            "_view_count": null,
            "_view_module_version": "1.5.0",
            "box_style": "",
            "layout": "IPY_MODEL_e23716450bb247f0a1ac473cf25bae75",
            "_model_module": "@jupyter-widgets/controls",
            "children": [
              "IPY_MODEL_0a3c29bcbb584fcc822674762e8a5c1b",
              "IPY_MODEL_e980d0a5385b46a7bb38a9bbf99787c0",
              "IPY_MODEL_3f970b30b9c549e7bf1c1f2380dc042d"
            ]
          }
        },
        "e23716450bb247f0a1ac473cf25bae75": {
          "model_module": "@jupyter-widgets/base",
          "model_name": "LayoutModel",
          "model_module_version": "1.2.0",
          "state": {
            "_view_name": "LayoutView",
            "grid_template_rows": null,
            "right": null,
            "justify_content": null,
            "_view_module": "@jupyter-widgets/base",
            "overflow": null,
            "_model_module_version": "1.2.0",
            "_view_count": null,
            "flex_flow": null,
            "width": null,
            "min_width": null,
            "border": null,
            "align_items": null,
            "bottom": null,
            "_model_module": "@jupyter-widgets/base",
            "top": null,
            "grid_column": null,
            "overflow_y": null,
            "overflow_x": null,
            "grid_auto_flow": null,
            "grid_area": null,
            "grid_template_columns": null,
            "flex": null,
            "_model_name": "LayoutModel",
            "justify_items": null,
            "grid_row": null,
            "max_height": null,
            "align_content": null,
            "visibility": null,
            "align_self": null,
            "height": null,
            "min_height": null,
            "padding": null,
            "grid_auto_rows": null,
            "grid_gap": null,
            "max_width": null,
            "order": null,
            "_view_module_version": "1.2.0",
            "grid_template_areas": null,
            "object_position": null,
            "object_fit": null,
            "grid_auto_columns": null,
            "margin": null,
            "display": null,
            "left": null
          }
        },
        "0a3c29bcbb584fcc822674762e8a5c1b": {
          "model_module": "@jupyter-widgets/controls",
          "model_name": "HTMLModel",
          "model_module_version": "1.5.0",
          "state": {
            "_view_name": "HTMLView",
            "style": "IPY_MODEL_440c589f5a60444b8e7d4b511bea6d14",
            "_dom_classes": [],
            "description": "",
            "_model_name": "HTMLModel",
            "placeholder": "​",
            "_view_module": "@jupyter-widgets/controls",
            "_model_module_version": "1.5.0",
            "value": "",
            "_view_count": null,
            "_view_module_version": "1.5.0",
            "description_tooltip": null,
            "_model_module": "@jupyter-widgets/controls",
            "layout": "IPY_MODEL_158cfe698e594375bff105e77305a49e"
          }
        },
        "e980d0a5385b46a7bb38a9bbf99787c0": {
          "model_module": "@jupyter-widgets/controls",
          "model_name": "FloatProgressModel",
          "model_module_version": "1.5.0",
          "state": {
            "_view_name": "ProgressView",
            "style": "IPY_MODEL_0a7648ac467049d28f9aca0ce0520544",
            "_dom_classes": [],
            "description": "",
            "_model_name": "FloatProgressModel",
            "bar_style": "success",
            "max": 26421880,
            "_view_module": "@jupyter-widgets/controls",
            "_model_module_version": "1.5.0",
            "value": 26421880,
            "_view_count": null,
            "_view_module_version": "1.5.0",
            "orientation": "horizontal",
            "min": 0,
            "description_tooltip": null,
            "_model_module": "@jupyter-widgets/controls",
            "layout": "IPY_MODEL_07082496f41a4126a10503549e4d27b2"
          }
        },
        "3f970b30b9c549e7bf1c1f2380dc042d": {
          "model_module": "@jupyter-widgets/controls",
          "model_name": "HTMLModel",
          "model_module_version": "1.5.0",
          "state": {
            "_view_name": "HTMLView",
            "style": "IPY_MODEL_656927a79c664f23b58c8d820e58ecc1",
            "_dom_classes": [],
            "description": "",
            "_model_name": "HTMLModel",
            "placeholder": "​",
            "_view_module": "@jupyter-widgets/controls",
            "_model_module_version": "1.5.0",
            "value": " 26422272/? [00:01&lt;00:00, 22564217.29it/s]",
            "_view_count": null,
            "_view_module_version": "1.5.0",
            "description_tooltip": null,
            "_model_module": "@jupyter-widgets/controls",
            "layout": "IPY_MODEL_2b6a602588b8405194e3f37bc86bb227"
          }
        },
        "440c589f5a60444b8e7d4b511bea6d14": {
          "model_module": "@jupyter-widgets/controls",
          "model_name": "DescriptionStyleModel",
          "model_module_version": "1.5.0",
          "state": {
            "_view_name": "StyleView",
            "_model_name": "DescriptionStyleModel",
            "description_width": "",
            "_view_module": "@jupyter-widgets/base",
            "_model_module_version": "1.5.0",
            "_view_count": null,
            "_view_module_version": "1.2.0",
            "_model_module": "@jupyter-widgets/controls"
          }
        },
        "158cfe698e594375bff105e77305a49e": {
          "model_module": "@jupyter-widgets/base",
          "model_name": "LayoutModel",
          "model_module_version": "1.2.0",
          "state": {
            "_view_name": "LayoutView",
            "grid_template_rows": null,
            "right": null,
            "justify_content": null,
            "_view_module": "@jupyter-widgets/base",
            "overflow": null,
            "_model_module_version": "1.2.0",
            "_view_count": null,
            "flex_flow": null,
            "width": null,
            "min_width": null,
            "border": null,
            "align_items": null,
            "bottom": null,
            "_model_module": "@jupyter-widgets/base",
            "top": null,
            "grid_column": null,
            "overflow_y": null,
            "overflow_x": null,
            "grid_auto_flow": null,
            "grid_area": null,
            "grid_template_columns": null,
            "flex": null,
            "_model_name": "LayoutModel",
            "justify_items": null,
            "grid_row": null,
            "max_height": null,
            "align_content": null,
            "visibility": null,
            "align_self": null,
            "height": null,
            "min_height": null,
            "padding": null,
            "grid_auto_rows": null,
            "grid_gap": null,
            "max_width": null,
            "order": null,
            "_view_module_version": "1.2.0",
            "grid_template_areas": null,
            "object_position": null,
            "object_fit": null,
            "grid_auto_columns": null,
            "margin": null,
            "display": null,
            "left": null
          }
        },
        "0a7648ac467049d28f9aca0ce0520544": {
          "model_module": "@jupyter-widgets/controls",
          "model_name": "ProgressStyleModel",
          "model_module_version": "1.5.0",
          "state": {
            "_view_name": "StyleView",
            "_model_name": "ProgressStyleModel",
            "description_width": "",
            "_view_module": "@jupyter-widgets/base",
            "_model_module_version": "1.5.0",
            "_view_count": null,
            "_view_module_version": "1.2.0",
            "bar_color": null,
            "_model_module": "@jupyter-widgets/controls"
          }
        },
        "07082496f41a4126a10503549e4d27b2": {
          "model_module": "@jupyter-widgets/base",
          "model_name": "LayoutModel",
          "model_module_version": "1.2.0",
          "state": {
            "_view_name": "LayoutView",
            "grid_template_rows": null,
            "right": null,
            "justify_content": null,
            "_view_module": "@jupyter-widgets/base",
            "overflow": null,
            "_model_module_version": "1.2.0",
            "_view_count": null,
            "flex_flow": null,
            "width": null,
            "min_width": null,
            "border": null,
            "align_items": null,
            "bottom": null,
            "_model_module": "@jupyter-widgets/base",
            "top": null,
            "grid_column": null,
            "overflow_y": null,
            "overflow_x": null,
            "grid_auto_flow": null,
            "grid_area": null,
            "grid_template_columns": null,
            "flex": null,
            "_model_name": "LayoutModel",
            "justify_items": null,
            "grid_row": null,
            "max_height": null,
            "align_content": null,
            "visibility": null,
            "align_self": null,
            "height": null,
            "min_height": null,
            "padding": null,
            "grid_auto_rows": null,
            "grid_gap": null,
            "max_width": null,
            "order": null,
            "_view_module_version": "1.2.0",
            "grid_template_areas": null,
            "object_position": null,
            "object_fit": null,
            "grid_auto_columns": null,
            "margin": null,
            "display": null,
            "left": null
          }
        },
        "656927a79c664f23b58c8d820e58ecc1": {
          "model_module": "@jupyter-widgets/controls",
          "model_name": "DescriptionStyleModel",
          "model_module_version": "1.5.0",
          "state": {
            "_view_name": "StyleView",
            "_model_name": "DescriptionStyleModel",
            "description_width": "",
            "_view_module": "@jupyter-widgets/base",
            "_model_module_version": "1.5.0",
            "_view_count": null,
            "_view_module_version": "1.2.0",
            "_model_module": "@jupyter-widgets/controls"
          }
        },
        "2b6a602588b8405194e3f37bc86bb227": {
          "model_module": "@jupyter-widgets/base",
          "model_name": "LayoutModel",
          "model_module_version": "1.2.0",
          "state": {
            "_view_name": "LayoutView",
            "grid_template_rows": null,
            "right": null,
            "justify_content": null,
            "_view_module": "@jupyter-widgets/base",
            "overflow": null,
            "_model_module_version": "1.2.0",
            "_view_count": null,
            "flex_flow": null,
            "width": null,
            "min_width": null,
            "border": null,
            "align_items": null,
            "bottom": null,
            "_model_module": "@jupyter-widgets/base",
            "top": null,
            "grid_column": null,
            "overflow_y": null,
            "overflow_x": null,
            "grid_auto_flow": null,
            "grid_area": null,
            "grid_template_columns": null,
            "flex": null,
            "_model_name": "LayoutModel",
            "justify_items": null,
            "grid_row": null,
            "max_height": null,
            "align_content": null,
            "visibility": null,
            "align_self": null,
            "height": null,
            "min_height": null,
            "padding": null,
            "grid_auto_rows": null,
            "grid_gap": null,
            "max_width": null,
            "order": null,
            "_view_module_version": "1.2.0",
            "grid_template_areas": null,
            "object_position": null,
            "object_fit": null,
            "grid_auto_columns": null,
            "margin": null,
            "display": null,
            "left": null
          }
        },
        "dc5bc4225a564f9abff7b48d1133d531": {
          "model_module": "@jupyter-widgets/controls",
          "model_name": "HBoxModel",
          "model_module_version": "1.5.0",
          "state": {
            "_view_name": "HBoxView",
            "_dom_classes": [],
            "_model_name": "HBoxModel",
            "_view_module": "@jupyter-widgets/controls",
            "_model_module_version": "1.5.0",
            "_view_count": null,
            "_view_module_version": "1.5.0",
            "box_style": "",
            "layout": "IPY_MODEL_90decea0b6ad4df1bbebb223b5987d37",
            "_model_module": "@jupyter-widgets/controls",
            "children": [
              "IPY_MODEL_9b4e575d7e8744458dd897d171929170",
              "IPY_MODEL_488243c0b8354415a6888bc1a89ec10f",
              "IPY_MODEL_e5fca2c143534bd2b5dd3bcdcee0f501"
            ]
          }
        },
        "90decea0b6ad4df1bbebb223b5987d37": {
          "model_module": "@jupyter-widgets/base",
          "model_name": "LayoutModel",
          "model_module_version": "1.2.0",
          "state": {
            "_view_name": "LayoutView",
            "grid_template_rows": null,
            "right": null,
            "justify_content": null,
            "_view_module": "@jupyter-widgets/base",
            "overflow": null,
            "_model_module_version": "1.2.0",
            "_view_count": null,
            "flex_flow": null,
            "width": null,
            "min_width": null,
            "border": null,
            "align_items": null,
            "bottom": null,
            "_model_module": "@jupyter-widgets/base",
            "top": null,
            "grid_column": null,
            "overflow_y": null,
            "overflow_x": null,
            "grid_auto_flow": null,
            "grid_area": null,
            "grid_template_columns": null,
            "flex": null,
            "_model_name": "LayoutModel",
            "justify_items": null,
            "grid_row": null,
            "max_height": null,
            "align_content": null,
            "visibility": null,
            "align_self": null,
            "height": null,
            "min_height": null,
            "padding": null,
            "grid_auto_rows": null,
            "grid_gap": null,
            "max_width": null,
            "order": null,
            "_view_module_version": "1.2.0",
            "grid_template_areas": null,
            "object_position": null,
            "object_fit": null,
            "grid_auto_columns": null,
            "margin": null,
            "display": null,
            "left": null
          }
        },
        "9b4e575d7e8744458dd897d171929170": {
          "model_module": "@jupyter-widgets/controls",
          "model_name": "HTMLModel",
          "model_module_version": "1.5.0",
          "state": {
            "_view_name": "HTMLView",
            "style": "IPY_MODEL_62e353216ba84e239b97db8d962e8b61",
            "_dom_classes": [],
            "description": "",
            "_model_name": "HTMLModel",
            "placeholder": "​",
            "_view_module": "@jupyter-widgets/controls",
            "_model_module_version": "1.5.0",
            "value": "",
            "_view_count": null,
            "_view_module_version": "1.5.0",
            "description_tooltip": null,
            "_model_module": "@jupyter-widgets/controls",
            "layout": "IPY_MODEL_4cd30b62b2b744d5a28bf57b64aedbc5"
          }
        },
        "488243c0b8354415a6888bc1a89ec10f": {
          "model_module": "@jupyter-widgets/controls",
          "model_name": "FloatProgressModel",
          "model_module_version": "1.5.0",
          "state": {
            "_view_name": "ProgressView",
            "style": "IPY_MODEL_06cc6bbe56fa44b6a5e3b4a5bc2b7d19",
            "_dom_classes": [],
            "description": "",
            "_model_name": "FloatProgressModel",
            "bar_style": "success",
            "max": 29515,
            "_view_module": "@jupyter-widgets/controls",
            "_model_module_version": "1.5.0",
            "value": 29515,
            "_view_count": null,
            "_view_module_version": "1.5.0",
            "orientation": "horizontal",
            "min": 0,
            "description_tooltip": null,
            "_model_module": "@jupyter-widgets/controls",
            "layout": "IPY_MODEL_e7b476bda4b043f084778d8fd88dd226"
          }
        },
        "e5fca2c143534bd2b5dd3bcdcee0f501": {
          "model_module": "@jupyter-widgets/controls",
          "model_name": "HTMLModel",
          "model_module_version": "1.5.0",
          "state": {
            "_view_name": "HTMLView",
            "style": "IPY_MODEL_db4d37d24f61416abe5c2e4dcc42112c",
            "_dom_classes": [],
            "description": "",
            "_model_name": "HTMLModel",
            "placeholder": "​",
            "_view_module": "@jupyter-widgets/controls",
            "_model_module_version": "1.5.0",
            "value": " 29696/? [00:00&lt;00:00, 303937.15it/s]",
            "_view_count": null,
            "_view_module_version": "1.5.0",
            "description_tooltip": null,
            "_model_module": "@jupyter-widgets/controls",
            "layout": "IPY_MODEL_fb53c008d24640d8a8c3b06da7b60a7b"
          }
        },
        "62e353216ba84e239b97db8d962e8b61": {
          "model_module": "@jupyter-widgets/controls",
          "model_name": "DescriptionStyleModel",
          "model_module_version": "1.5.0",
          "state": {
            "_view_name": "StyleView",
            "_model_name": "DescriptionStyleModel",
            "description_width": "",
            "_view_module": "@jupyter-widgets/base",
            "_model_module_version": "1.5.0",
            "_view_count": null,
            "_view_module_version": "1.2.0",
            "_model_module": "@jupyter-widgets/controls"
          }
        },
        "4cd30b62b2b744d5a28bf57b64aedbc5": {
          "model_module": "@jupyter-widgets/base",
          "model_name": "LayoutModel",
          "model_module_version": "1.2.0",
          "state": {
            "_view_name": "LayoutView",
            "grid_template_rows": null,
            "right": null,
            "justify_content": null,
            "_view_module": "@jupyter-widgets/base",
            "overflow": null,
            "_model_module_version": "1.2.0",
            "_view_count": null,
            "flex_flow": null,
            "width": null,
            "min_width": null,
            "border": null,
            "align_items": null,
            "bottom": null,
            "_model_module": "@jupyter-widgets/base",
            "top": null,
            "grid_column": null,
            "overflow_y": null,
            "overflow_x": null,
            "grid_auto_flow": null,
            "grid_area": null,
            "grid_template_columns": null,
            "flex": null,
            "_model_name": "LayoutModel",
            "justify_items": null,
            "grid_row": null,
            "max_height": null,
            "align_content": null,
            "visibility": null,
            "align_self": null,
            "height": null,
            "min_height": null,
            "padding": null,
            "grid_auto_rows": null,
            "grid_gap": null,
            "max_width": null,
            "order": null,
            "_view_module_version": "1.2.0",
            "grid_template_areas": null,
            "object_position": null,
            "object_fit": null,
            "grid_auto_columns": null,
            "margin": null,
            "display": null,
            "left": null
          }
        },
        "06cc6bbe56fa44b6a5e3b4a5bc2b7d19": {
          "model_module": "@jupyter-widgets/controls",
          "model_name": "ProgressStyleModel",
          "model_module_version": "1.5.0",
          "state": {
            "_view_name": "StyleView",
            "_model_name": "ProgressStyleModel",
            "description_width": "",
            "_view_module": "@jupyter-widgets/base",
            "_model_module_version": "1.5.0",
            "_view_count": null,
            "_view_module_version": "1.2.0",
            "bar_color": null,
            "_model_module": "@jupyter-widgets/controls"
          }
        },
        "e7b476bda4b043f084778d8fd88dd226": {
          "model_module": "@jupyter-widgets/base",
          "model_name": "LayoutModel",
          "model_module_version": "1.2.0",
          "state": {
            "_view_name": "LayoutView",
            "grid_template_rows": null,
            "right": null,
            "justify_content": null,
            "_view_module": "@jupyter-widgets/base",
            "overflow": null,
            "_model_module_version": "1.2.0",
            "_view_count": null,
            "flex_flow": null,
            "width": null,
            "min_width": null,
            "border": null,
            "align_items": null,
            "bottom": null,
            "_model_module": "@jupyter-widgets/base",
            "top": null,
            "grid_column": null,
            "overflow_y": null,
            "overflow_x": null,
            "grid_auto_flow": null,
            "grid_area": null,
            "grid_template_columns": null,
            "flex": null,
            "_model_name": "LayoutModel",
            "justify_items": null,
            "grid_row": null,
            "max_height": null,
            "align_content": null,
            "visibility": null,
            "align_self": null,
            "height": null,
            "min_height": null,
            "padding": null,
            "grid_auto_rows": null,
            "grid_gap": null,
            "max_width": null,
            "order": null,
            "_view_module_version": "1.2.0",
            "grid_template_areas": null,
            "object_position": null,
            "object_fit": null,
            "grid_auto_columns": null,
            "margin": null,
            "display": null,
            "left": null
          }
        },
        "db4d37d24f61416abe5c2e4dcc42112c": {
          "model_module": "@jupyter-widgets/controls",
          "model_name": "DescriptionStyleModel",
          "model_module_version": "1.5.0",
          "state": {
            "_view_name": "StyleView",
            "_model_name": "DescriptionStyleModel",
            "description_width": "",
            "_view_module": "@jupyter-widgets/base",
            "_model_module_version": "1.5.0",
            "_view_count": null,
            "_view_module_version": "1.2.0",
            "_model_module": "@jupyter-widgets/controls"
          }
        },
        "fb53c008d24640d8a8c3b06da7b60a7b": {
          "model_module": "@jupyter-widgets/base",
          "model_name": "LayoutModel",
          "model_module_version": "1.2.0",
          "state": {
            "_view_name": "LayoutView",
            "grid_template_rows": null,
            "right": null,
            "justify_content": null,
            "_view_module": "@jupyter-widgets/base",
            "overflow": null,
            "_model_module_version": "1.2.0",
            "_view_count": null,
            "flex_flow": null,
            "width": null,
            "min_width": null,
            "border": null,
            "align_items": null,
            "bottom": null,
            "_model_module": "@jupyter-widgets/base",
            "top": null,
            "grid_column": null,
            "overflow_y": null,
            "overflow_x": null,
            "grid_auto_flow": null,
            "grid_area": null,
            "grid_template_columns": null,
            "flex": null,
            "_model_name": "LayoutModel",
            "justify_items": null,
            "grid_row": null,
            "max_height": null,
            "align_content": null,
            "visibility": null,
            "align_self": null,
            "height": null,
            "min_height": null,
            "padding": null,
            "grid_auto_rows": null,
            "grid_gap": null,
            "max_width": null,
            "order": null,
            "_view_module_version": "1.2.0",
            "grid_template_areas": null,
            "object_position": null,
            "object_fit": null,
            "grid_auto_columns": null,
            "margin": null,
            "display": null,
            "left": null
          }
        },
        "70f04f5bf1524c119e2abb30d58f1d61": {
          "model_module": "@jupyter-widgets/controls",
          "model_name": "HBoxModel",
          "model_module_version": "1.5.0",
          "state": {
            "_view_name": "HBoxView",
            "_dom_classes": [],
            "_model_name": "HBoxModel",
            "_view_module": "@jupyter-widgets/controls",
            "_model_module_version": "1.5.0",
            "_view_count": null,
            "_view_module_version": "1.5.0",
            "box_style": "",
            "layout": "IPY_MODEL_bc921c815c1b497e8129c1a9252487ec",
            "_model_module": "@jupyter-widgets/controls",
            "children": [
              "IPY_MODEL_08cebb4264b34c30a9cb4b9d5095f304",
              "IPY_MODEL_a97ea1ea97184aebb167871ea231347c",
              "IPY_MODEL_446cff0872cc4c4d9008c07af2e9df24"
            ]
          }
        },
        "bc921c815c1b497e8129c1a9252487ec": {
          "model_module": "@jupyter-widgets/base",
          "model_name": "LayoutModel",
          "model_module_version": "1.2.0",
          "state": {
            "_view_name": "LayoutView",
            "grid_template_rows": null,
            "right": null,
            "justify_content": null,
            "_view_module": "@jupyter-widgets/base",
            "overflow": null,
            "_model_module_version": "1.2.0",
            "_view_count": null,
            "flex_flow": null,
            "width": null,
            "min_width": null,
            "border": null,
            "align_items": null,
            "bottom": null,
            "_model_module": "@jupyter-widgets/base",
            "top": null,
            "grid_column": null,
            "overflow_y": null,
            "overflow_x": null,
            "grid_auto_flow": null,
            "grid_area": null,
            "grid_template_columns": null,
            "flex": null,
            "_model_name": "LayoutModel",
            "justify_items": null,
            "grid_row": null,
            "max_height": null,
            "align_content": null,
            "visibility": null,
            "align_self": null,
            "height": null,
            "min_height": null,
            "padding": null,
            "grid_auto_rows": null,
            "grid_gap": null,
            "max_width": null,
            "order": null,
            "_view_module_version": "1.2.0",
            "grid_template_areas": null,
            "object_position": null,
            "object_fit": null,
            "grid_auto_columns": null,
            "margin": null,
            "display": null,
            "left": null
          }
        },
        "08cebb4264b34c30a9cb4b9d5095f304": {
          "model_module": "@jupyter-widgets/controls",
          "model_name": "HTMLModel",
          "model_module_version": "1.5.0",
          "state": {
            "_view_name": "HTMLView",
            "style": "IPY_MODEL_6c7ee50f778d48428c60ff94ec7460fb",
            "_dom_classes": [],
            "description": "",
            "_model_name": "HTMLModel",
            "placeholder": "​",
            "_view_module": "@jupyter-widgets/controls",
            "_model_module_version": "1.5.0",
            "value": "",
            "_view_count": null,
            "_view_module_version": "1.5.0",
            "description_tooltip": null,
            "_model_module": "@jupyter-widgets/controls",
            "layout": "IPY_MODEL_a722ed945dab4e76ba843b2b2a95e8ce"
          }
        },
        "a97ea1ea97184aebb167871ea231347c": {
          "model_module": "@jupyter-widgets/controls",
          "model_name": "FloatProgressModel",
          "model_module_version": "1.5.0",
          "state": {
            "_view_name": "ProgressView",
            "style": "IPY_MODEL_100deb3ef06f4350a00d46c856595485",
            "_dom_classes": [],
            "description": "",
            "_model_name": "FloatProgressModel",
            "bar_style": "success",
            "max": 4422102,
            "_view_module": "@jupyter-widgets/controls",
            "_model_module_version": "1.5.0",
            "value": 4422102,
            "_view_count": null,
            "_view_module_version": "1.5.0",
            "orientation": "horizontal",
            "min": 0,
            "description_tooltip": null,
            "_model_module": "@jupyter-widgets/controls",
            "layout": "IPY_MODEL_18ef0ff0dc48406795537dfd7a5419e7"
          }
        },
        "446cff0872cc4c4d9008c07af2e9df24": {
          "model_module": "@jupyter-widgets/controls",
          "model_name": "HTMLModel",
          "model_module_version": "1.5.0",
          "state": {
            "_view_name": "HTMLView",
            "style": "IPY_MODEL_41957130f33f49ec85605bf9d9a27904",
            "_dom_classes": [],
            "description": "",
            "_model_name": "HTMLModel",
            "placeholder": "​",
            "_view_module": "@jupyter-widgets/controls",
            "_model_module_version": "1.5.0",
            "value": " 4422656/? [00:00&lt;00:00, 5158766.81it/s]",
            "_view_count": null,
            "_view_module_version": "1.5.0",
            "description_tooltip": null,
            "_model_module": "@jupyter-widgets/controls",
            "layout": "IPY_MODEL_6a9eb109ee5445109a3aa3ec224d9871"
          }
        },
        "6c7ee50f778d48428c60ff94ec7460fb": {
          "model_module": "@jupyter-widgets/controls",
          "model_name": "DescriptionStyleModel",
          "model_module_version": "1.5.0",
          "state": {
            "_view_name": "StyleView",
            "_model_name": "DescriptionStyleModel",
            "description_width": "",
            "_view_module": "@jupyter-widgets/base",
            "_model_module_version": "1.5.0",
            "_view_count": null,
            "_view_module_version": "1.2.0",
            "_model_module": "@jupyter-widgets/controls"
          }
        },
        "a722ed945dab4e76ba843b2b2a95e8ce": {
          "model_module": "@jupyter-widgets/base",
          "model_name": "LayoutModel",
          "model_module_version": "1.2.0",
          "state": {
            "_view_name": "LayoutView",
            "grid_template_rows": null,
            "right": null,
            "justify_content": null,
            "_view_module": "@jupyter-widgets/base",
            "overflow": null,
            "_model_module_version": "1.2.0",
            "_view_count": null,
            "flex_flow": null,
            "width": null,
            "min_width": null,
            "border": null,
            "align_items": null,
            "bottom": null,
            "_model_module": "@jupyter-widgets/base",
            "top": null,
            "grid_column": null,
            "overflow_y": null,
            "overflow_x": null,
            "grid_auto_flow": null,
            "grid_area": null,
            "grid_template_columns": null,
            "flex": null,
            "_model_name": "LayoutModel",
            "justify_items": null,
            "grid_row": null,
            "max_height": null,
            "align_content": null,
            "visibility": null,
            "align_self": null,
            "height": null,
            "min_height": null,
            "padding": null,
            "grid_auto_rows": null,
            "grid_gap": null,
            "max_width": null,
            "order": null,
            "_view_module_version": "1.2.0",
            "grid_template_areas": null,
            "object_position": null,
            "object_fit": null,
            "grid_auto_columns": null,
            "margin": null,
            "display": null,
            "left": null
          }
        },
        "100deb3ef06f4350a00d46c856595485": {
          "model_module": "@jupyter-widgets/controls",
          "model_name": "ProgressStyleModel",
          "model_module_version": "1.5.0",
          "state": {
            "_view_name": "StyleView",
            "_model_name": "ProgressStyleModel",
            "description_width": "",
            "_view_module": "@jupyter-widgets/base",
            "_model_module_version": "1.5.0",
            "_view_count": null,
            "_view_module_version": "1.2.0",
            "bar_color": null,
            "_model_module": "@jupyter-widgets/controls"
          }
        },
        "18ef0ff0dc48406795537dfd7a5419e7": {
          "model_module": "@jupyter-widgets/base",
          "model_name": "LayoutModel",
          "model_module_version": "1.2.0",
          "state": {
            "_view_name": "LayoutView",
            "grid_template_rows": null,
            "right": null,
            "justify_content": null,
            "_view_module": "@jupyter-widgets/base",
            "overflow": null,
            "_model_module_version": "1.2.0",
            "_view_count": null,
            "flex_flow": null,
            "width": null,
            "min_width": null,
            "border": null,
            "align_items": null,
            "bottom": null,
            "_model_module": "@jupyter-widgets/base",
            "top": null,
            "grid_column": null,
            "overflow_y": null,
            "overflow_x": null,
            "grid_auto_flow": null,
            "grid_area": null,
            "grid_template_columns": null,
            "flex": null,
            "_model_name": "LayoutModel",
            "justify_items": null,
            "grid_row": null,
            "max_height": null,
            "align_content": null,
            "visibility": null,
            "align_self": null,
            "height": null,
            "min_height": null,
            "padding": null,
            "grid_auto_rows": null,
            "grid_gap": null,
            "max_width": null,
            "order": null,
            "_view_module_version": "1.2.0",
            "grid_template_areas": null,
            "object_position": null,
            "object_fit": null,
            "grid_auto_columns": null,
            "margin": null,
            "display": null,
            "left": null
          }
        },
        "41957130f33f49ec85605bf9d9a27904": {
          "model_module": "@jupyter-widgets/controls",
          "model_name": "DescriptionStyleModel",
          "model_module_version": "1.5.0",
          "state": {
            "_view_name": "StyleView",
            "_model_name": "DescriptionStyleModel",
            "description_width": "",
            "_view_module": "@jupyter-widgets/base",
            "_model_module_version": "1.5.0",
            "_view_count": null,
            "_view_module_version": "1.2.0",
            "_model_module": "@jupyter-widgets/controls"
          }
        },
        "6a9eb109ee5445109a3aa3ec224d9871": {
          "model_module": "@jupyter-widgets/base",
          "model_name": "LayoutModel",
          "model_module_version": "1.2.0",
          "state": {
            "_view_name": "LayoutView",
            "grid_template_rows": null,
            "right": null,
            "justify_content": null,
            "_view_module": "@jupyter-widgets/base",
            "overflow": null,
            "_model_module_version": "1.2.0",
            "_view_count": null,
            "flex_flow": null,
            "width": null,
            "min_width": null,
            "border": null,
            "align_items": null,
            "bottom": null,
            "_model_module": "@jupyter-widgets/base",
            "top": null,
            "grid_column": null,
            "overflow_y": null,
            "overflow_x": null,
            "grid_auto_flow": null,
            "grid_area": null,
            "grid_template_columns": null,
            "flex": null,
            "_model_name": "LayoutModel",
            "justify_items": null,
            "grid_row": null,
            "max_height": null,
            "align_content": null,
            "visibility": null,
            "align_self": null,
            "height": null,
            "min_height": null,
            "padding": null,
            "grid_auto_rows": null,
            "grid_gap": null,
            "max_width": null,
            "order": null,
            "_view_module_version": "1.2.0",
            "grid_template_areas": null,
            "object_position": null,
            "object_fit": null,
            "grid_auto_columns": null,
            "margin": null,
            "display": null,
            "left": null
          }
        },
        "ff2500cfe3f544bda27a4e09d80a697e": {
          "model_module": "@jupyter-widgets/controls",
          "model_name": "HBoxModel",
          "model_module_version": "1.5.0",
          "state": {
            "_view_name": "HBoxView",
            "_dom_classes": [],
            "_model_name": "HBoxModel",
            "_view_module": "@jupyter-widgets/controls",
            "_model_module_version": "1.5.0",
            "_view_count": null,
            "_view_module_version": "1.5.0",
            "box_style": "",
            "layout": "IPY_MODEL_f5b9ab8b43564a199e274d1cde745618",
            "_model_module": "@jupyter-widgets/controls",
            "children": [
              "IPY_MODEL_ecefa15032fa4735af9c7b36e545b2d8",
              "IPY_MODEL_49dd83441e3c485a81adfb49a2ec8ee1",
              "IPY_MODEL_88c8e48d751f48ee8a27b2ba67f24702"
            ]
          }
        },
        "f5b9ab8b43564a199e274d1cde745618": {
          "model_module": "@jupyter-widgets/base",
          "model_name": "LayoutModel",
          "model_module_version": "1.2.0",
          "state": {
            "_view_name": "LayoutView",
            "grid_template_rows": null,
            "right": null,
            "justify_content": null,
            "_view_module": "@jupyter-widgets/base",
            "overflow": null,
            "_model_module_version": "1.2.0",
            "_view_count": null,
            "flex_flow": null,
            "width": null,
            "min_width": null,
            "border": null,
            "align_items": null,
            "bottom": null,
            "_model_module": "@jupyter-widgets/base",
            "top": null,
            "grid_column": null,
            "overflow_y": null,
            "overflow_x": null,
            "grid_auto_flow": null,
            "grid_area": null,
            "grid_template_columns": null,
            "flex": null,
            "_model_name": "LayoutModel",
            "justify_items": null,
            "grid_row": null,
            "max_height": null,
            "align_content": null,
            "visibility": null,
            "align_self": null,
            "height": null,
            "min_height": null,
            "padding": null,
            "grid_auto_rows": null,
            "grid_gap": null,
            "max_width": null,
            "order": null,
            "_view_module_version": "1.2.0",
            "grid_template_areas": null,
            "object_position": null,
            "object_fit": null,
            "grid_auto_columns": null,
            "margin": null,
            "display": null,
            "left": null
          }
        },
        "ecefa15032fa4735af9c7b36e545b2d8": {
          "model_module": "@jupyter-widgets/controls",
          "model_name": "HTMLModel",
          "model_module_version": "1.5.0",
          "state": {
            "_view_name": "HTMLView",
            "style": "IPY_MODEL_c8d264bb0877426da3bf2a89f8333d1e",
            "_dom_classes": [],
            "description": "",
            "_model_name": "HTMLModel",
            "placeholder": "​",
            "_view_module": "@jupyter-widgets/controls",
            "_model_module_version": "1.5.0",
            "value": "",
            "_view_count": null,
            "_view_module_version": "1.5.0",
            "description_tooltip": null,
            "_model_module": "@jupyter-widgets/controls",
            "layout": "IPY_MODEL_212859847e454397a2df44ceed8f435c"
          }
        },
        "49dd83441e3c485a81adfb49a2ec8ee1": {
          "model_module": "@jupyter-widgets/controls",
          "model_name": "FloatProgressModel",
          "model_module_version": "1.5.0",
          "state": {
            "_view_name": "ProgressView",
            "style": "IPY_MODEL_e6ceace01cab41bc9e041eb4466a9cf2",
            "_dom_classes": [],
            "description": "",
            "_model_name": "FloatProgressModel",
            "bar_style": "success",
            "max": 5148,
            "_view_module": "@jupyter-widgets/controls",
            "_model_module_version": "1.5.0",
            "value": 5148,
            "_view_count": null,
            "_view_module_version": "1.5.0",
            "orientation": "horizontal",
            "min": 0,
            "description_tooltip": null,
            "_model_module": "@jupyter-widgets/controls",
            "layout": "IPY_MODEL_406f0921d4984609b29cdd902fdb2a6c"
          }
        },
        "88c8e48d751f48ee8a27b2ba67f24702": {
          "model_module": "@jupyter-widgets/controls",
          "model_name": "HTMLModel",
          "model_module_version": "1.5.0",
          "state": {
            "_view_name": "HTMLView",
            "style": "IPY_MODEL_1cee18e184e5478e8f60e1d1362abbea",
            "_dom_classes": [],
            "description": "",
            "_model_name": "HTMLModel",
            "placeholder": "​",
            "_view_module": "@jupyter-widgets/controls",
            "_model_module_version": "1.5.0",
            "value": " 6144/? [00:00&lt;00:00, 92492.85it/s]",
            "_view_count": null,
            "_view_module_version": "1.5.0",
            "description_tooltip": null,
            "_model_module": "@jupyter-widgets/controls",
            "layout": "IPY_MODEL_01cc0b3a589842a884d15b647ee2a7f9"
          }
        },
        "c8d264bb0877426da3bf2a89f8333d1e": {
          "model_module": "@jupyter-widgets/controls",
          "model_name": "DescriptionStyleModel",
          "model_module_version": "1.5.0",
          "state": {
            "_view_name": "StyleView",
            "_model_name": "DescriptionStyleModel",
            "description_width": "",
            "_view_module": "@jupyter-widgets/base",
            "_model_module_version": "1.5.0",
            "_view_count": null,
            "_view_module_version": "1.2.0",
            "_model_module": "@jupyter-widgets/controls"
          }
        },
        "212859847e454397a2df44ceed8f435c": {
          "model_module": "@jupyter-widgets/base",
          "model_name": "LayoutModel",
          "model_module_version": "1.2.0",
          "state": {
            "_view_name": "LayoutView",
            "grid_template_rows": null,
            "right": null,
            "justify_content": null,
            "_view_module": "@jupyter-widgets/base",
            "overflow": null,
            "_model_module_version": "1.2.0",
            "_view_count": null,
            "flex_flow": null,
            "width": null,
            "min_width": null,
            "border": null,
            "align_items": null,
            "bottom": null,
            "_model_module": "@jupyter-widgets/base",
            "top": null,
            "grid_column": null,
            "overflow_y": null,
            "overflow_x": null,
            "grid_auto_flow": null,
            "grid_area": null,
            "grid_template_columns": null,
            "flex": null,
            "_model_name": "LayoutModel",
            "justify_items": null,
            "grid_row": null,
            "max_height": null,
            "align_content": null,
            "visibility": null,
            "align_self": null,
            "height": null,
            "min_height": null,
            "padding": null,
            "grid_auto_rows": null,
            "grid_gap": null,
            "max_width": null,
            "order": null,
            "_view_module_version": "1.2.0",
            "grid_template_areas": null,
            "object_position": null,
            "object_fit": null,
            "grid_auto_columns": null,
            "margin": null,
            "display": null,
            "left": null
          }
        },
        "e6ceace01cab41bc9e041eb4466a9cf2": {
          "model_module": "@jupyter-widgets/controls",
          "model_name": "ProgressStyleModel",
          "model_module_version": "1.5.0",
          "state": {
            "_view_name": "StyleView",
            "_model_name": "ProgressStyleModel",
            "description_width": "",
            "_view_module": "@jupyter-widgets/base",
            "_model_module_version": "1.5.0",
            "_view_count": null,
            "_view_module_version": "1.2.0",
            "bar_color": null,
            "_model_module": "@jupyter-widgets/controls"
          }
        },
        "406f0921d4984609b29cdd902fdb2a6c": {
          "model_module": "@jupyter-widgets/base",
          "model_name": "LayoutModel",
          "model_module_version": "1.2.0",
          "state": {
            "_view_name": "LayoutView",
            "grid_template_rows": null,
            "right": null,
            "justify_content": null,
            "_view_module": "@jupyter-widgets/base",
            "overflow": null,
            "_model_module_version": "1.2.0",
            "_view_count": null,
            "flex_flow": null,
            "width": null,
            "min_width": null,
            "border": null,
            "align_items": null,
            "bottom": null,
            "_model_module": "@jupyter-widgets/base",
            "top": null,
            "grid_column": null,
            "overflow_y": null,
            "overflow_x": null,
            "grid_auto_flow": null,
            "grid_area": null,
            "grid_template_columns": null,
            "flex": null,
            "_model_name": "LayoutModel",
            "justify_items": null,
            "grid_row": null,
            "max_height": null,
            "align_content": null,
            "visibility": null,
            "align_self": null,
            "height": null,
            "min_height": null,
            "padding": null,
            "grid_auto_rows": null,
            "grid_gap": null,
            "max_width": null,
            "order": null,
            "_view_module_version": "1.2.0",
            "grid_template_areas": null,
            "object_position": null,
            "object_fit": null,
            "grid_auto_columns": null,
            "margin": null,
            "display": null,
            "left": null
          }
        },
        "1cee18e184e5478e8f60e1d1362abbea": {
          "model_module": "@jupyter-widgets/controls",
          "model_name": "DescriptionStyleModel",
          "model_module_version": "1.5.0",
          "state": {
            "_view_name": "StyleView",
            "_model_name": "DescriptionStyleModel",
            "description_width": "",
            "_view_module": "@jupyter-widgets/base",
            "_model_module_version": "1.5.0",
            "_view_count": null,
            "_view_module_version": "1.2.0",
            "_model_module": "@jupyter-widgets/controls"
          }
        },
        "01cc0b3a589842a884d15b647ee2a7f9": {
          "model_module": "@jupyter-widgets/base",
          "model_name": "LayoutModel",
          "model_module_version": "1.2.0",
          "state": {
            "_view_name": "LayoutView",
            "grid_template_rows": null,
            "right": null,
            "justify_content": null,
            "_view_module": "@jupyter-widgets/base",
            "overflow": null,
            "_model_module_version": "1.2.0",
            "_view_count": null,
            "flex_flow": null,
            "width": null,
            "min_width": null,
            "border": null,
            "align_items": null,
            "bottom": null,
            "_model_module": "@jupyter-widgets/base",
            "top": null,
            "grid_column": null,
            "overflow_y": null,
            "overflow_x": null,
            "grid_auto_flow": null,
            "grid_area": null,
            "grid_template_columns": null,
            "flex": null,
            "_model_name": "LayoutModel",
            "justify_items": null,
            "grid_row": null,
            "max_height": null,
            "align_content": null,
            "visibility": null,
            "align_self": null,
            "height": null,
            "min_height": null,
            "padding": null,
            "grid_auto_rows": null,
            "grid_gap": null,
            "max_width": null,
            "order": null,
            "_view_module_version": "1.2.0",
            "grid_template_areas": null,
            "object_position": null,
            "object_fit": null,
            "grid_auto_columns": null,
            "margin": null,
            "display": null,
            "left": null
          }
        }
      }
    }
  },
  "cells": [
    {
      "cell_type": "markdown",
      "metadata": {
        "id": "_0Xieiu70hk_"
      },
      "source": [
        "# Data Augmentation\n",
        "\n",
        "Apprendre à coder effecacement un réseau de neurones est l'une des étapes du développement de solutions performantes. De plus, pour développer de bonnes solutions d'apprentissage en profondeur, il est crucial de trouver un domaine d'intérêt dans lequel nous pouvons apporter une solution à un défi actuel. Mais une fois que tout cela est fait, nous sommes généralement confrontés au même problème : obtenir un ensemble de données d'une taille décente pour obtenir de bonnes performances de nos modèles, soit par auto-collecte, soit en le téléchargeant à partir d'Internet et d'autres sources disponibles.\n",
        "\n",
        "Comme vous pouvez l'imaginer, et il est désormais possible de collecter et de stocker de grandes quantités de données, ce n'est pas une tâche facile en raison des coûts qui y sont associés. Et donc, la plupart du temps, nous sommes obligés de travailler avec un jeu de données contenant des dizaines de milliers d'entrées, et encore moins lorsqu'il s'agit d'images.\n",
        "\n",
        "Cela devient un problème pertinent lors du développement d'une solution à un problème de vision par ordinateur, principalement pour deux raisons :\n",
        "\n",
        "* Plus l'ensemble de données est grand, meilleurs sont les résultats, et les ensembles de données plus volumineux sont essentiels pour arriver à des modèles suffisamment décents. Cela est vrai étant donné que la formation d'un modèle consiste à régler un ensemble de paramètres afin qu'il soit capable de mapper une relation entre une entrée et une sortie. Ceci est réalisé en minimisant la fonction de perte pour que la valeur prédite se rapproche le plus possible de la vérité. Ici, plus le modèle est complexe, plus il nécessite de paramètres.\n",
        "\n",
        "  Compte tenu de cela, il est nécessaire de fournir un bon nombre d'exemples au modèle afin qu'il soit capable de trouver de tels modèles, où le nombre d'exemples d'apprentissage doit être proportionnel au nombre de paramètres à régler.\n",
        "\n",
        "* L'un des plus grands défis des problèmes de vision par ordinateur est de faire en sorte que votre modèle fonctionne bien sur plusieurs variantes d'une image. Cela signifie que les images n'ont pas besoin d'être alimentées en suivant un alignement spécifique ou d'avoir une qualité définie, mais peuvent à la place être alimentées dans leurs formats d'origine, y compris différentes positions, angles, éclairages et autres distorsions. Pour cette raison, il est nécessaire de trouver un moyen d'alimenter le modèle avec de telles variations.\n",
        "\n",
        "\n",
        "Pour cette raison, la technique d'augmentation des données a été conçue. En termes simples, il s'agit d'une mesure qui augmente le nombre d'exemples d'apprentissage en modifiant légèrement les exemples existants. Par exemple, vous pouvez dupliquer les instances actuellement disponibles et ajouter du bruit à ces doublons pour vous assurer qu'ils ne sont pas exactement les mêmes.\n",
        "\n",
        "Dans les problèmes de vision par ordinateur, cela signifie augmenter le nombre d'images dans l'ensemble de données d'entraînement en modifiant les images existantes, ce qui peut être fait en modifiant légèrement les images actuelles pour créer des versions dupliquées légèrement différentes.\n",
        "\n",
        "Ces ajustements mineurs des images peuvent prendre la forme de légères rotations, de changements de position, de retournements horizontaux ou verticaux, de différents schémas de couleurs et de distorsions.... Cette technique fonctionne puisque les CNN considèrent chacune de ces images comme une image diérente.\n",
        "\n",
        "Un CNN capable de reconnaître un objet dans une image indépendamment d'une variation est considéré comme ayant la propriété d'invariance. En fait, un CNN peut être invariant à chaque type de variation"
      ]
    },
    {
      "cell_type": "markdown",
      "metadata": {
        "id": "frFyc8hF30SC"
      },
      "source": [
        "## Data Augmentation with PyTorch\n",
        "\n",
        "L'augmentation des données dans PyTorch à l'aide du package torchvision est très simple. Ce package, en plus de contenir des ensembles de données et des architectures de modèles populaires, contient également des fonctions de transformation d'image courantes qui peuvent être exécutées sur des ensembles de données.\n",
        "\n",
        "Dans cette section, quelques-unes de ces transformations d'image seront mentionnées. Pour obtenir la liste complète des transformations possibles, visitez https://pytorch.org/docs/stable/torchvision/transforms.html\n",
        "\n",
        "Comme pour le processus que nous avons utilisé dans l'activité précédente pour normaliser et convertir l'ensemble de données en tenseurs, l'augmentation des données nous oblige à définir les transformations souhaitées, puis à les appliquer à l'ensemble de données, comme indiqué dans l'extrait de code suivant:\n",
        " :"
      ]
    },
    {
      "cell_type": "code",
      "metadata": {
        "id": "QycqU-U74nS9"
      },
      "source": [
        "import torchvision.transforms as transforms"
      ],
      "execution_count": null,
      "outputs": []
    },
    {
      "cell_type": "code",
      "metadata": {
        "id": "Vt2Y5ryg4tLe"
      },
      "source": [
        "transform = transforms.Compose([\n",
        "                                transforms.HorizontalFlip(probability_goes_here),\n",
        "                                transforms.RandomGrayscale(probability_goes_here),\n",
        "                                transforms.ToTensor(),\n",
        "                                transforms.Normalize((0.5, 0.5, 0.5),\n",
        "                                                     (0.5, 0.5, 0.5))])\n",
        "train_data = datasets.CIFAR10('data', train=True,\n",
        "                              download=True, transform=transform)\n",
        "test_data = datasets.CIFAR10('data', train=False,\n",
        "                             download=True, transform=transform)"
      ],
      "execution_count": null,
      "outputs": []
    },
    {
      "cell_type": "markdown",
      "metadata": {
        "id": "kxdPD3BAIqZ2"
      },
      "source": [
        "Ici, grâce à la fonction HorizontalFlip, les données à télécharger subiront un basculement horizontal (en considérant une valeur de probabilité, qui est fixée par l'utilisateur et détermine le pourcentage d'images qui subiront cette transformation). En utilisant la fonction RandomGrayscale, les images seront converties en niveaux de gris (en considérant également la probabilité). Ensuite, les données sont converties en tenseurs et normalisées.\n",
        "\n",
        "Considérant qu'un modèle est entraîné dans un processus itératif, dans lequel les données d'entraînement sont alimentées plusieurs fois, ces transformations garantissent qu'une deuxième exécution de l'ensemble de données n'alimente pas exactement les mêmes images au modèle.\n",
        "\n",
        "De plus, différentes transformations peuvent être définies pour différents ensembles. Ceci est utile car le but de l'augmentation des données est d'augmenter le nombre d'exemples d'apprentissage, mais les images qui seront utilisées pour tester le modèle doivent être laissées pour la plupart inchangées. Néanmoins, l'ensemble de test doit être redimensionné afin de fournir des images de taille égale au modèle."
      ]
    },
    {
      "cell_type": "markdown",
      "metadata": {
        "id": "LcFIvbTAI4zU"
      },
      "source": [
        "Ceci peut être accompli comme suit :"
      ]
    },
    {
      "cell_type": "code",
      "metadata": {
        "id": "hpnP1qjbKM27"
      },
      "source": [
        "transform = {\"train\":\n",
        "             transforms.Compose([transforms.RandomHorizontalFlip(probability_goes_here),\n",
        "                                 transforms.RandomGrayscale(probability_goes_here),\n",
        "                                 transforms.ToTensor(),\n",
        "                                 transforms.Normalize((0.5, 0.5, 0.5), (0.5, 0.5, 0.5))]),\n",
        "            \"test\":\n",
        "             transforms.Compose([transforms.ToTensor(),\n",
        "                                 transforms.Normalize((0.5, 0.5, 0.5), (0.5, 0.5, 0.5)),\n",
        "                                 transforms.Resize(size_goes_here)])}\n",
        "\n",
        "train_data = datasets.CIFAR10('data', train=True, download=True,\n",
        "                              transform=transform[\"train\"])\n",
        "\n",
        "test_data = datasets.CIFAR10('data', train=False, download=True,\n",
        "                             transform=transform[\"test\"])"
      ],
      "execution_count": null,
      "outputs": []
    },
    {
      "cell_type": "markdown",
      "metadata": {
        "id": "IZwNnH4hK8n0"
      },
      "source": [
        "Comme on peut le voir, un dictionnaire contenant un ensemble de transformations pour les ensembles d'apprentissage et de test est défini. Ensuite, le dictionnaire peut être appelé pour appliquer les transformations à chacun des ensembles, en conséquence"
      ]
    },
    {
      "cell_type": "code",
      "metadata": {
        "id": "H52Ps0jNwWhW"
      },
      "source": [
        "import numpy as np\n",
        "import torch\n",
        "from torch import nn, optim\n",
        "import torch.nn.functional as F\n",
        "from torchvision import datasets\n",
        "import torchvision.transforms as transforms\n",
        "from torch.utils.data.sampler import SubsetRandomSampler\n",
        "from sklearn.metrics import accuracy_score\n",
        "import matplotlib.pyplot as plt"
      ],
      "execution_count": 1,
      "outputs": []
    },
    {
      "cell_type": "code",
      "metadata": {
        "id": "HNpXuj0TwaS5"
      },
      "source": [
        "transform = {\n",
        "    \"train\": transforms.Compose([\n",
        "        transforms.RandomHorizontalFlip(0.5), \n",
        "        transforms.RandomGrayscale(0.1),\n",
        "        transforms.ToTensor(),\n",
        "        transforms.Normalize((0.5, 0.5, 0.5), (0.5, 0.5, 0.5))]),\n",
        "    \"test\": transforms.Compose([\n",
        "        transforms.ToTensor(),\n",
        "        transforms.Normalize((0.5, 0.5, 0.5), (0.5, 0.5, 0.5))])}"
      ],
      "execution_count": 2,
      "outputs": []
    },
    {
      "cell_type": "code",
      "metadata": {
        "colab": {
          "base_uri": "https://localhost:8080/",
          "height": 100,
          "referenced_widgets": [
            "8cb461c66c834e66bb5218d19b088d43",
            "2b12f940fd6b477fae11877c6021b3ef",
            "f2b546e02df147f98d2bdb86cc1a5aa4",
            "c2771455073542bb869503cd015c23cd",
            "42cd345664fa42619c0a99265c77c298",
            "77c12412bb8941f288ea059697480faf",
            "e61f3d0943574d89a9531166e334c0a9",
            "57b7490f8d5245519d0a5da165142435",
            "c35d0085ffb84af0a6120358bf0f19d7",
            "9eb609dfa4f3470b80d2e91e504bc0e0",
            "afb021705ae54ea18c32ad5bfa353673"
          ]
        },
        "id": "VrINoA6hwc5b",
        "outputId": "528e612b-25dc-40e6-af0e-5bbff0f6fd20"
      },
      "source": [
        "\n",
        "batch_size = 100\n",
        "\n",
        "train_data = datasets.CIFAR10('data2', train=True, download=True, transform=transform[\"train\"])\n",
        "test_data = datasets.CIFAR10('data2', train=False, download=True, transform=transform[\"test\"])"
      ],
      "execution_count": 3,
      "outputs": [
        {
          "output_type": "stream",
          "name": "stdout",
          "text": [
            "Downloading https://www.cs.toronto.edu/~kriz/cifar-10-python.tar.gz to data2/cifar-10-python.tar.gz\n"
          ]
        },
        {
          "output_type": "display_data",
          "data": {
            "application/vnd.jupyter.widget-view+json": {
              "model_id": "8cb461c66c834e66bb5218d19b088d43",
              "version_minor": 0,
              "version_major": 2
            },
            "text/plain": [
              "  0%|          | 0/170498071 [00:00<?, ?it/s]"
            ]
          },
          "metadata": {}
        },
        {
          "output_type": "stream",
          "name": "stdout",
          "text": [
            "Extracting data2/cifar-10-python.tar.gz to data2\n",
            "Files already downloaded and verified\n"
          ]
        }
      ]
    },
    {
      "cell_type": "code",
      "metadata": {
        "id": "XV8nKH41wfhh"
      },
      "source": [
        "dev_size = 0.2\n",
        "idx = list(range(len(train_data)))\n",
        "np.random.shuffle(idx)\n",
        "split_size = int(np.floor(dev_size * len(train_data)))\n",
        "train_idx, dev_idx = idx[split_size:], idx[:split_size]\n",
        "\n",
        "train_sampler = SubsetRandomSampler(train_idx)\n",
        "dev_sampler = SubsetRandomSampler(dev_idx)"
      ],
      "execution_count": 4,
      "outputs": []
    },
    {
      "cell_type": "code",
      "metadata": {
        "id": "0mrL7oOZwh0Z"
      },
      "source": [
        "train_loader = torch.utils.data.DataLoader(train_data, batch_size=batch_size, sampler=train_sampler)\n",
        "dev_loader = torch.utils.data.DataLoader(train_data, batch_size=batch_size, sampler=dev_sampler)\n",
        "test_loader = torch.utils.data.DataLoader(test_data, batch_size=batch_size)"
      ],
      "execution_count": 5,
      "outputs": []
    },
    {
      "cell_type": "code",
      "metadata": {
        "id": "dn-J4Npzwlgg"
      },
      "source": [
        "class CNN(nn.Module):\n",
        "    def __init__(self):\n",
        "        super(CNN, self).__init__()\n",
        "        self.conv1 = nn.Conv2d(3, 10, 3, 1, 1)\n",
        "        self.conv2 = nn.Conv2d(10, 20, 3, 1, 1)\n",
        "        self.conv3 = nn.Conv2d(20, 40, 3, 1, 1)\n",
        "        self.pool = nn.MaxPool2d(2, 2)\n",
        "        \n",
        "        self.linear1 = nn.Linear(40 * 4 * 4, 100)\n",
        "        self.linear2 = nn.Linear(100, 10)\n",
        "        self.dropout = nn.Dropout(0.2)\n",
        "\n",
        "    def forward(self, x):\n",
        "        x = self.pool(F.relu(self.conv1(x)))\n",
        "        x = self.pool(F.relu(self.conv2(x)))\n",
        "        x = self.pool(F.relu(self.conv3(x)))\n",
        "        \n",
        "        x = x.view(-1, 40 * 4 * 4)\n",
        "        x = self.dropout(x)\n",
        "        x = F.relu(self.linear1(x))\n",
        "        x = self.dropout(x)\n",
        "        x = F.log_softmax(self.linear2(x), dim=1)\n",
        "        \n",
        "        return x"
      ],
      "execution_count": 6,
      "outputs": []
    },
    {
      "cell_type": "code",
      "metadata": {
        "id": "DIbUgnGmwn8G"
      },
      "source": [
        "model = CNN().to(\"cuda\")\n",
        "loss_function = nn.NLLLoss()\n",
        "optimizer = optim.Adam(model.parameters(), lr=0.001)\n",
        "epochs = 100"
      ],
      "execution_count": 7,
      "outputs": []
    },
    {
      "cell_type": "code",
      "metadata": {
        "colab": {
          "base_uri": "https://localhost:8080/"
        },
        "id": "D0Dd8TMHwter",
        "outputId": "393d160f-5239-42e2-f866-08beb9b6717d"
      },
      "source": [
        "train_losses, dev_losses, train_acc, dev_acc= [], [], [], []\n",
        "x_axis = []\n",
        "\n",
        "for e in range(1, epochs+1):\n",
        "    losses = 0\n",
        "    acc = 0\n",
        "    iterations = 0\n",
        "    \n",
        "    model.train()\n",
        "    for data, target in train_loader:\n",
        "        iterations += 1\n",
        "\n",
        "        pred = model(data.to(\"cuda\"))\n",
        "        loss = loss_function(pred, target.to(\"cuda\"))\n",
        "        optimizer.zero_grad()\n",
        "        loss.backward()\n",
        "        optimizer.step()\n",
        "        \n",
        "        losses += loss.item()\n",
        "        p = torch.exp(pred)\n",
        "        top_p, top_class = p.topk(1, dim=1)\n",
        "        acc += accuracy_score(target.to(\"cpu\"), top_class.to(\"cpu\"))\n",
        "        \n",
        "    dev_losss = 0\n",
        "    dev_accs = 0\n",
        "    iter_2 = 0\n",
        "        \n",
        "    if e%5 == 0 or e == 1:\n",
        "        x_axis.append(e)\n",
        "        \n",
        "        with torch.no_grad():\n",
        "            model.eval()\n",
        "            \n",
        "            for data_dev, target_dev in dev_loader:\n",
        "                iter_2 += 1\n",
        "                \n",
        "                dev_pred = model(data_dev.to(\"cuda\"))\n",
        "                dev_loss = loss_function(dev_pred, target_dev.to(\"cuda\"))\n",
        "                dev_losss += dev_loss.item()\n",
        "\n",
        "                dev_p = torch.exp(dev_pred)\n",
        "                top_p, dev_top_class = dev_p.topk(1, dim=1)\n",
        "                dev_accs += accuracy_score(target_dev.to(\"cpu\"), dev_top_class.to(\"cpu\"))\n",
        "        \n",
        "        train_losses.append(losses/iterations)\n",
        "        dev_losses.append(dev_losss/iter_2)\n",
        "        train_acc.append(acc/iterations)\n",
        "        dev_acc.append(dev_accs/iter_2)\n",
        "        \n",
        "        print(\"Epoch: {}/{}.. \".format(e, epochs),\n",
        "              \"Training Loss: {:.3f}.. \".format(losses/iterations),\n",
        "              \"Validation Loss: {:.3f}.. \".format(dev_losss/iter_2),\n",
        "              \"Training Accuracy: {:.3f}.. \".format(acc/iterations),\n",
        "              \"Validation Accuracy: {:.3f}\".format(dev_accs/iter_2))"
      ],
      "execution_count": 8,
      "outputs": [
        {
          "output_type": "stream",
          "name": "stderr",
          "text": [
            "/usr/local/lib/python3.7/dist-packages/torch/nn/functional.py:718: UserWarning: Named tensors and all their associated APIs are an experimental feature and subject to change. Please do not use them for anything important until they are released as stable. (Triggered internally at  /pytorch/c10/core/TensorImpl.h:1156.)\n",
            "  return torch.max_pool2d(input, kernel_size, stride, padding, dilation, ceil_mode)\n"
          ]
        },
        {
          "output_type": "stream",
          "name": "stdout",
          "text": [
            "Epoch: 1/100..  Training Loss: 1.765..  Validation Loss: 1.504..  Training Accuracy: 0.356..  Validation Accuracy: 0.444\n",
            "Epoch: 5/100..  Training Loss: 1.210..  Validation Loss: 1.130..  Training Accuracy: 0.570..  Validation Accuracy: 0.593\n",
            "Epoch: 10/100..  Training Loss: 1.006..  Validation Loss: 0.946..  Training Accuracy: 0.645..  Validation Accuracy: 0.668\n",
            "Epoch: 15/100..  Training Loss: 0.901..  Validation Loss: 0.861..  Training Accuracy: 0.683..  Validation Accuracy: 0.700\n",
            "Epoch: 20/100..  Training Loss: 0.836..  Validation Loss: 0.845..  Training Accuracy: 0.707..  Validation Accuracy: 0.706\n",
            "Epoch: 25/100..  Training Loss: 0.794..  Validation Loss: 0.798..  Training Accuracy: 0.722..  Validation Accuracy: 0.721\n",
            "Epoch: 30/100..  Training Loss: 0.762..  Validation Loss: 0.776..  Training Accuracy: 0.731..  Validation Accuracy: 0.729\n",
            "Epoch: 35/100..  Training Loss: 0.731..  Validation Loss: 0.772..  Training Accuracy: 0.744..  Validation Accuracy: 0.731\n",
            "Epoch: 40/100..  Training Loss: 0.718..  Validation Loss: 0.763..  Training Accuracy: 0.746..  Validation Accuracy: 0.736\n",
            "Epoch: 45/100..  Training Loss: 0.699..  Validation Loss: 0.740..  Training Accuracy: 0.754..  Validation Accuracy: 0.745\n",
            "Epoch: 50/100..  Training Loss: 0.691..  Validation Loss: 0.737..  Training Accuracy: 0.754..  Validation Accuracy: 0.744\n",
            "Epoch: 55/100..  Training Loss: 0.677..  Validation Loss: 0.730..  Training Accuracy: 0.760..  Validation Accuracy: 0.741\n",
            "Epoch: 60/100..  Training Loss: 0.666..  Validation Loss: 0.730..  Training Accuracy: 0.764..  Validation Accuracy: 0.743\n",
            "Epoch: 65/100..  Training Loss: 0.659..  Validation Loss: 0.727..  Training Accuracy: 0.766..  Validation Accuracy: 0.747\n",
            "Epoch: 70/100..  Training Loss: 0.647..  Validation Loss: 0.734..  Training Accuracy: 0.768..  Validation Accuracy: 0.749\n",
            "Epoch: 75/100..  Training Loss: 0.641..  Validation Loss: 0.723..  Training Accuracy: 0.771..  Validation Accuracy: 0.745\n",
            "Epoch: 80/100..  Training Loss: 0.638..  Validation Loss: 0.719..  Training Accuracy: 0.775..  Validation Accuracy: 0.751\n",
            "Epoch: 85/100..  Training Loss: 0.626..  Validation Loss: 0.718..  Training Accuracy: 0.775..  Validation Accuracy: 0.755\n",
            "Epoch: 90/100..  Training Loss: 0.622..  Validation Loss: 0.716..  Training Accuracy: 0.779..  Validation Accuracy: 0.755\n",
            "Epoch: 95/100..  Training Loss: 0.615..  Validation Loss: 0.706..  Training Accuracy: 0.782..  Validation Accuracy: 0.758\n",
            "Epoch: 100/100..  Training Loss: 0.613..  Validation Loss: 0.719..  Training Accuracy: 0.783..  Validation Accuracy: 0.752\n"
          ]
        }
      ]
    },
    {
      "cell_type": "code",
      "metadata": {
        "colab": {
          "base_uri": "https://localhost:8080/",
          "height": 265
        },
        "id": "ZBo-R5T6wwh-",
        "outputId": "4c149be7-ec9f-47e3-c9f5-0532e35a58e7"
      },
      "source": [
        "plt.plot(x_axis,train_losses, label='Training loss')\n",
        "plt.plot(x_axis, dev_losses, label='Validation loss')\n",
        "plt.legend(frameon=False)\n",
        "plt.show()"
      ],
      "execution_count": 9,
      "outputs": [
        {
          "output_type": "display_data",
          "data": {
            "image/png": "[encoded data removed]",
            "text/plain": [
              "<Figure size 432x288 with 1 Axes>"
            ]
          },
          "metadata": {
            "needs_background": "light"
          }
        }
      ]
    },
    {
      "cell_type": "code",
      "metadata": {
        "colab": {
          "base_uri": "https://localhost:8080/",
          "height": 267
        },
        "id": "qbszPpTOwy2E",
        "outputId": "5d5c79a5-9643-482e-fac2-62f2b6c85d7f"
      },
      "source": [
        "plt.plot(x_axis, train_acc, label=\"Training accuracy\")\n",
        "plt.plot(x_axis, dev_acc, label=\"Validation accuracy\")\n",
        "plt.legend(frameon=False)\n",
        "plt.show()"
      ],
      "execution_count": 10,
      "outputs": [
        {
          "output_type": "display_data",
          "data": {
            "image/png": "[encoded data removed]",
            "text/plain": [
              "<Figure size 432x288 with 1 Axes>"
            ]
          },
          "metadata": {
            "needs_background": "light"
          }
        }
      ]
    },
    {
      "cell_type": "code",
      "metadata": {
        "colab": {
          "base_uri": "https://localhost:8080/"
        },
        "id": "XXqvS5QTw1Xn",
        "outputId": "580aa57e-5e7e-4f70-df83-129be18a983a"
      },
      "source": [
        "model.eval()\n",
        "iter_3 = 0\n",
        "acc_test = 0\n",
        "for data_test, target_test in test_loader:\n",
        "    iter_3 += 1\n",
        "    test_pred = model(data_test.to(\"cuda\"))\n",
        "    test_pred = torch.exp(test_pred)\n",
        "    top_p, top_class_test = test_pred.topk(1, dim=1)\n",
        "    acc_test += accuracy_score(target_test.to(\"cpu\"), top_class_test.to(\"cpu\"))\n",
        "print(acc_test/iter_3)"
      ],
      "execution_count": 11,
      "outputs": [
        {
          "output_type": "stream",
          "name": "stdout",
          "text": [
            "0.7552\n"
          ]
        }
      ]
    },
    {
      "cell_type": "markdown",
      "metadata": {
        "id": "EoAuWn7qMPC_"
      },
      "source": [
        "## Data Augmentation with imgaug\n",
        "La classe augmenters dans le package imgaug a des utilitaires utiles pour effectuer ces augmentations. Jetons un coup d'œil aux différents utilitaires présents dans la classe augmenters pour générer des images augmentées à partir d'une image donnée. Certaines des techniques d'augmentation les plus importantes sont les suivantes:\n",
        "\n",
        "* Transformations affines\n",
        "* Modifier la luminosité\n",
        "* Ajouter du bruit\n",
        "\n",
        "Notez que PyTorch dispose d'un pipeline d'augmentation d'image pratique sous la forme de torchvision.transforms. Cependant, nous avons toujours choisi d'introduire une bibliothèque différente principalement en raison de la plus grande variété d'options qu'imgaug contient, ainsi que de la facilité d'expliquer les augmentations à un nouvel utilisateur. Vous êtes encouragé à rechercher les transformations de la vision de la torche en tant qu'exercice et à recréer toutes les fonctions présentées pour renforcer votre compréhension."
      ]
    },
    {
      "cell_type": "markdown",
      "metadata": {
        "id": "gtfn2WmwNGJU"
      },
      "source": [
        "### Affine transformations\n",
        "Les transformations affines impliquent la translation, la rotation, la mise à l'échelle et le cisaillement d'une image. Elles peuvent être effectuées dans le code à l'aide de la méthode Affine présente dans la classe augmenters. Jetons un œil aux paramètres présents dans la méthode Affine en regardant le code suivant. Ici, nous avons défini tous les paramètres de la méthode Affine."
      ]
    },
    {
      "cell_type": "code",
      "metadata": {
        "colab": {
          "base_uri": "https://localhost:8080/"
        },
        "id": "F0vTZGWoMfBi",
        "outputId": "d8139a78-8e81-4986-f5ac-486eae44869e"
      },
      "source": [
        "import imgaug\n",
        "import imgaug.augmenters as iaa\n",
        "print(imgaug.__version__)\n",
        "\n",
        "aug = iaa.Affine(scale=1.0, translate_percent=None, translate_px=None, rotate=0.0, shear=0.0,\n",
        "                 order=1, cval=0, mode='constant', fit_output=False, backend='auto', name=None, deterministic=False, random_state=None)\n",
        "\n"
      ],
      "execution_count": 3,
      "outputs": [
        {
          "output_type": "stream",
          "name": "stdout",
          "text": [
            "0.2.9\n"
          ]
        }
      ]
    },
    {
      "cell_type": "markdown",
      "metadata": {
        "id": "OahD4XCBON-p"
      },
      "source": [
        "Certains des paramètres importants de la méthode Affine sont les suivants\n",
        "\n",
        "* **scale spécifie** la quantité de zoom qui doit être fait pour l'image\n",
        "* **translate_percent** spécifie la quantité de translation en pourcentage de la hauteur et de la largeur de l'image\n",
        "\n",
        "* **translate_px** spécifie la quantité de translation en nombre absolu de pixels\n",
        "\n",
        "* **rotate** spécifie la quantité de rotation qui doit être effectuée sur l'image\n",
        "\n",
        "* **shear** spécifie la quantité de rotation qui doit être effectuée sur une partie de l'image"
      ]
    },
    {
      "cell_type": "markdown",
      "metadata": {
        "id": "bHlQaDK5P_sL"
      },
      "source": [
        "Avant de considérer d'autres paramètres, comprenons où la mise à l'échelle, la translation et la rotation sont utiles.\n",
        "\n",
        "Récupérer une image aléatoire à partir de l'ensemble de données d'entraînement pour fashionMNIST.\n",
        "\n",
        "Télécharger des images de l'ensemble de données Fashion-MNIST"
      ]
    },
    {
      "cell_type": "code",
      "metadata": {
        "colab": {
          "base_uri": "https://localhost:8080/",
          "height": 471,
          "referenced_widgets": [
            "4c6dc9a37db4412e9b2fed5ed186b49c",
            "e23716450bb247f0a1ac473cf25bae75",
            "0a3c29bcbb584fcc822674762e8a5c1b",
            "e980d0a5385b46a7bb38a9bbf99787c0",
            "3f970b30b9c549e7bf1c1f2380dc042d",
            "440c589f5a60444b8e7d4b511bea6d14",
            "158cfe698e594375bff105e77305a49e",
            "0a7648ac467049d28f9aca0ce0520544",
            "07082496f41a4126a10503549e4d27b2",
            "656927a79c664f23b58c8d820e58ecc1",
            "2b6a602588b8405194e3f37bc86bb227",
            "dc5bc4225a564f9abff7b48d1133d531",
            "90decea0b6ad4df1bbebb223b5987d37",
            "9b4e575d7e8744458dd897d171929170",
            "488243c0b8354415a6888bc1a89ec10f",
            "e5fca2c143534bd2b5dd3bcdcee0f501",
            "62e353216ba84e239b97db8d962e8b61",
            "4cd30b62b2b744d5a28bf57b64aedbc5",
            "06cc6bbe56fa44b6a5e3b4a5bc2b7d19",
            "e7b476bda4b043f084778d8fd88dd226",
            "db4d37d24f61416abe5c2e4dcc42112c",
            "fb53c008d24640d8a8c3b06da7b60a7b",
            "70f04f5bf1524c119e2abb30d58f1d61",
            "bc921c815c1b497e8129c1a9252487ec",
            "08cebb4264b34c30a9cb4b9d5095f304",
            "a97ea1ea97184aebb167871ea231347c",
            "446cff0872cc4c4d9008c07af2e9df24",
            "6c7ee50f778d48428c60ff94ec7460fb",
            "a722ed945dab4e76ba843b2b2a95e8ce",
            "100deb3ef06f4350a00d46c856595485",
            "18ef0ff0dc48406795537dfd7a5419e7",
            "41957130f33f49ec85605bf9d9a27904",
            "6a9eb109ee5445109a3aa3ec224d9871",
            "ff2500cfe3f544bda27a4e09d80a697e",
            "f5b9ab8b43564a199e274d1cde745618",
            "ecefa15032fa4735af9c7b36e545b2d8",
            "49dd83441e3c485a81adfb49a2ec8ee1",
            "88c8e48d751f48ee8a27b2ba67f24702",
            "c8d264bb0877426da3bf2a89f8333d1e",
            "212859847e454397a2df44ceed8f435c",
            "e6ceace01cab41bc9e041eb4466a9cf2",
            "406f0921d4984609b29cdd902fdb2a6c",
            "1cee18e184e5478e8f60e1d1362abbea",
            "01cc0b3a589842a884d15b647ee2a7f9"
          ]
        },
        "id": "LeVDNiUbQFtc",
        "outputId": "84a14332-4701-49c1-ef46-db568f4ceb6f"
      },
      "source": [
        "from torchvision import datasets\n",
        "import torch\n",
        "data_folder = '/content/' # This can be any directory you want to download FMNIST to\n",
        "fmnist = datasets.FashionMNIST(data_folder, download=True, train=True)"
      ],
      "execution_count": 4,
      "outputs": [
        {
          "output_type": "stream",
          "name": "stdout",
          "text": [
            "Downloading http://fashion-mnist.s3-website.eu-central-1.amazonaws.com/train-images-idx3-ubyte.gz\n",
            "Downloading http://fashion-mnist.s3-website.eu-central-1.amazonaws.com/train-images-idx3-ubyte.gz to /content/FashionMNIST/raw/train-images-idx3-ubyte.gz\n"
          ]
        },
        {
          "output_type": "display_data",
          "data": {
            "application/vnd.jupyter.widget-view+json": {
              "model_id": "4c6dc9a37db4412e9b2fed5ed186b49c",
              "version_minor": 0,
              "version_major": 2
            },
            "text/plain": [
              "  0%|          | 0/26421880 [00:00<?, ?it/s]"
            ]
          },
          "metadata": {}
        },
        {
          "output_type": "stream",
          "name": "stdout",
          "text": [
            "Extracting /content/FashionMNIST/raw/train-images-idx3-ubyte.gz to /content/FashionMNIST/raw\n",
            "\n",
            "Downloading http://fashion-mnist.s3-website.eu-central-1.amazonaws.com/train-labels-idx1-ubyte.gz\n",
            "Downloading http://fashion-mnist.s3-website.eu-central-1.amazonaws.com/train-labels-idx1-ubyte.gz to /content/FashionMNIST/raw/train-labels-idx1-ubyte.gz\n"
          ]
        },
        {
          "output_type": "display_data",
          "data": {
            "application/vnd.jupyter.widget-view+json": {
              "model_id": "dc5bc4225a564f9abff7b48d1133d531",
              "version_minor": 0,
              "version_major": 2
            },
            "text/plain": [
              "  0%|          | 0/29515 [00:00<?, ?it/s]"
            ]
          },
          "metadata": {}
        },
        {
          "output_type": "stream",
          "name": "stdout",
          "text": [
            "Extracting /content/FashionMNIST/raw/train-labels-idx1-ubyte.gz to /content/FashionMNIST/raw\n",
            "\n",
            "Downloading http://fashion-mnist.s3-website.eu-central-1.amazonaws.com/t10k-images-idx3-ubyte.gz\n",
            "Downloading http://fashion-mnist.s3-website.eu-central-1.amazonaws.com/t10k-images-idx3-ubyte.gz to /content/FashionMNIST/raw/t10k-images-idx3-ubyte.gz\n"
          ]
        },
        {
          "output_type": "display_data",
          "data": {
            "application/vnd.jupyter.widget-view+json": {
              "model_id": "70f04f5bf1524c119e2abb30d58f1d61",
              "version_minor": 0,
              "version_major": 2
            },
            "text/plain": [
              "  0%|          | 0/4422102 [00:00<?, ?it/s]"
            ]
          },
          "metadata": {}
        },
        {
          "output_type": "stream",
          "name": "stdout",
          "text": [
            "Extracting /content/FashionMNIST/raw/t10k-images-idx3-ubyte.gz to /content/FashionMNIST/raw\n",
            "\n",
            "Downloading http://fashion-mnist.s3-website.eu-central-1.amazonaws.com/t10k-labels-idx1-ubyte.gz\n",
            "Downloading http://fashion-mnist.s3-website.eu-central-1.amazonaws.com/t10k-labels-idx1-ubyte.gz to /content/FashionMNIST/raw/t10k-labels-idx1-ubyte.gz\n"
          ]
        },
        {
          "output_type": "display_data",
          "data": {
            "application/vnd.jupyter.widget-view+json": {
              "model_id": "ff2500cfe3f544bda27a4e09d80a697e",
              "version_minor": 0,
              "version_major": 2
            },
            "text/plain": [
              "  0%|          | 0/5148 [00:00<?, ?it/s]"
            ]
          },
          "metadata": {}
        },
        {
          "output_type": "stream",
          "name": "stdout",
          "text": [
            "Extracting /content/FashionMNIST/raw/t10k-labels-idx1-ubyte.gz to /content/FashionMNIST/raw\n",
            "\n"
          ]
        },
        {
          "output_type": "stream",
          "name": "stderr",
          "text": [
            "/usr/local/lib/python3.7/dist-packages/torchvision/datasets/mnist.py:498: UserWarning: The given NumPy array is not writeable, and PyTorch does not support non-writeable tensors. This means you can write to the underlying (supposedly non-writeable) NumPy array using the tensor. You may want to copy the array to protect its data or make it writeable before converting it to a tensor. This type of warning will be suppressed for the rest of this program. (Triggered internally at  /pytorch/torch/csrc/utils/tensor_numpy.cpp:180.)\n",
            "  return torch.from_numpy(parsed.astype(m[2], copy=False)).view(*s)\n"
          ]
        }
      ]
    },
    {
      "cell_type": "markdown",
      "metadata": {
        "id": "47KgETJ_Qe21"
      },
      "source": [
        "Récupérer une image à partir de l'ensemble de données téléchargé"
      ]
    },
    {
      "cell_type": "code",
      "metadata": {
        "id": "r2gcEI2nQYfU"
      },
      "source": [
        "tr_images = fmnist.data\n",
        "tr_targets = fmnist.targets"
      ],
      "execution_count": 6,
      "outputs": []
    },
    {
      "cell_type": "markdown",
      "metadata": {
        "id": "EMBFQwV5Qqbg"
      },
      "source": [
        "Traçons la première image"
      ]
    },
    {
      "cell_type": "code",
      "metadata": {
        "colab": {
          "base_uri": "https://localhost:8080/",
          "height": 298
        },
        "id": "s1CBdFesQuDA",
        "outputId": "706596e0-705f-4d6e-b6b8-a4bb066b5c20"
      },
      "source": [
        "import matplotlib.pyplot as plt\n",
        "plt.imshow(tr_images[0], cmap='gray')\n",
        "plt.title('Original image')"
      ],
      "execution_count": 9,
      "outputs": [
        {
          "output_type": "execute_result",
          "data": {
            "text/plain": [
              "Text(0.5, 1.0, 'Original image')"
            ]
          },
          "metadata": {},
          "execution_count": 9
        },
        {
          "output_type": "display_data",
          "data": {
            "image/png": "[encoded data removed]",
            "text/plain": [
              "<Figure size 432x288 with 1 Axes>"
            ]
          },
          "metadata": {
            "needs_background": "light"
          }
        }
      ]
    },
    {
      "cell_type": "markdown",
      "metadata": {
        "id": "ksQyvcmRQ9XX"
      },
      "source": [
        "Effectuez une mise à l'échelle(scale)[texte du lien](https://) au-dessus de l'image :\n",
        "\n"
      ]
    },
    {
      "cell_type": "code",
      "metadata": {
        "id": "W7HV-siIRL6y"
      },
      "source": [
        "def to_numpy(tensor):\n",
        "    return tensor.cpu().detach().numpy()"
      ],
      "execution_count": 11,
      "outputs": []
    },
    {
      "cell_type": "code",
      "metadata": {
        "colab": {
          "base_uri": "https://localhost:8080/",
          "height": 298
        },
        "id": "Z78wgD3bRE84",
        "outputId": "2b6c2334-3c2f-41c4-d180-864476b8f97c"
      },
      "source": [
        "aug = iaa.Affine(scale=2)\n",
        "plt.imshow(aug.augment_image(to_numpy(tr_images[0])))\n",
        "plt.title('Scaled image')"
      ],
      "execution_count": 12,
      "outputs": [
        {
          "output_type": "execute_result",
          "data": {
            "text/plain": [
              "Text(0.5, 1.0, 'Scaled image')"
            ]
          },
          "metadata": {},
          "execution_count": 12
        },
        {
          "output_type": "display_data",
          "data": {
            "image/png": "[encoded data removed]",
            "text/plain": [
              "<Figure size 432x288 with 1 Axes>"
            ]
          },
          "metadata": {
            "needs_background": "light"
          }
        }
      ]
    },
    {
      "cell_type": "markdown",
      "metadata": {
        "id": "_3vcGW8hRskZ"
      },
      "source": [
        "Dans la sortie précédente, l'image a été considérablement agrandie. Cela a entraîné la suppression de certains pixels de l'image d'origine car la forme de sortie de l'image n'a pas changé."
      ]
    },
    {
      "cell_type": "markdown",
      "metadata": {
        "id": "1hpX8i0yR_Ix"
      },
      "source": [
        "Voyons maintenant un scénario dans lequel une image a été translater d'un certain nombre de pixels à l'aide du paramètre translate_px :"
      ]
    },
    {
      "cell_type": "code",
      "metadata": {
        "colab": {
          "base_uri": "https://localhost:8080/",
          "height": 298
        },
        "id": "TaL12W3_SOtp",
        "outputId": "c263f08f-9455-4cde-940e-a48c773f7e88"
      },
      "source": [
        "aug = iaa.Affine(translate_px=10)\n",
        "plt.imshow(aug.augment_image(to_numpy(tr_images[0])), cmap='gray')\n",
        "plt.title('Translated image by 10 pixels (right and bottom)')"
      ],
      "execution_count": 13,
      "outputs": [
        {
          "output_type": "execute_result",
          "data": {
            "text/plain": [
              "Text(0.5, 1.0, 'Translated image by 10 pixels (right and bottom)')"
            ]
          },
          "metadata": {},
          "execution_count": 13
        },
        {
          "output_type": "display_data",
          "data": {
            "image/png": "[encoded data removed]",
            "text/plain": [
              "<Figure size 432x288 with 1 Axes>"
            ]
          },
          "metadata": {
            "needs_background": "light"
          }
        }
      ]
    },
    {
      "cell_type": "markdown",
      "metadata": {
        "id": "rG6bqtnmSWAp"
      },
      "source": [
        "Dans la sortie précédente, la translation de 10 pixels s'est produite sur les deux axes x et y\n",
        "\n",
        "Si nous voulons effectuer une translation plus dans un axe et moins dans l'autre axe, nous devons spécifier la quantité de translation que nous voulons dans chaque axe"
      ]
    },
    {
      "cell_type": "code",
      "metadata": {
        "colab": {
          "base_uri": "https://localhost:8080/",
          "height": 313
        },
        "id": "nMg_VwuWSvtC",
        "outputId": "6f5dce43-cbc0-4d5f-9b02-f30154f60c83"
      },
      "source": [
        "aug = iaa.Affine(translate_px={'x':10,'y':2})\n",
        "plt.imshow(aug.augment_image(to_numpy(tr_images[0])), cmap='gray')\n",
        "plt.title('Translation of 10 pixels \\nacross columns and 2 pixels over rows')"
      ],
      "execution_count": 14,
      "outputs": [
        {
          "output_type": "execute_result",
          "data": {
            "text/plain": [
              "Text(0.5, 1.0, 'Translation of 10 pixels \\nacross columns and 2 pixels over rows')"
            ]
          },
          "metadata": {},
          "execution_count": 14
        },
        {
          "output_type": "display_data",
          "data": {
            "image/png": "[encoded data removed]",
            "text/plain": [
              "<Figure size 432x288 with 1 Axes>"
            ]
          },
          "metadata": {
            "needs_background": "light"
          }
        }
      ]
    },
    {
      "cell_type": "markdown",
      "metadata": {
        "id": "1MFAkeUhTFs4"
      },
      "source": [
        "Ici, nous avons fourni un dictionnaire qui indique la quantité de traduction dans les axes x ety dans le paramètre translate_px"
      ]
    },
    {
      "cell_type": "code",
      "metadata": {
        "colab": {
          "base_uri": "https://localhost:8080/",
          "height": 298
        },
        "id": "Fm0UsbtxYWqt",
        "outputId": "06475a1e-14c8-4253-876f-737727c5105d"
      },
      "source": [
        "\n",
        "aug = iaa.Affine(rotate=-30)\n",
        "plt.imshow(aug.augment_image(to_numpy(tr_images[0])), cmap='gray')\n",
        "plt.title('Rotation of image by -30 degrees')"
      ],
      "execution_count": 15,
      "outputs": [
        {
          "output_type": "execute_result",
          "data": {
            "text/plain": [
              "Text(0.5, 1.0, 'Rotation of image by -30 degrees')"
            ]
          },
          "metadata": {},
          "execution_count": 15
        },
        {
          "output_type": "display_data",
          "data": {
            "image/png": "[encoded data removed]",
            "text/plain": [
              "<Figure size 432x288 with 1 Axes>"
            ]
          },
          "metadata": {
            "needs_background": "light"
          }
        }
      ]
    },
    {
      "cell_type": "code",
      "metadata": {
        "colab": {
          "base_uri": "https://localhost:8080/",
          "height": 298
        },
        "id": "lLyIqA3XYayt",
        "outputId": "a80a4b05-3231-4ea5-f0c5-a2797ea2aa5f"
      },
      "source": [
        "aug = iaa.Affine(shear=30)\n",
        "plt.imshow(aug.augment_image(to_numpy(tr_images[0])), cmap='gray')\n",
        "plt.title('Shear of image by 30 degrees')"
      ],
      "execution_count": 16,
      "outputs": [
        {
          "output_type": "execute_result",
          "data": {
            "text/plain": [
              "Text(0.5, 1.0, 'Shear of image by 30 degrees')"
            ]
          },
          "metadata": {},
          "execution_count": 16
        },
        {
          "output_type": "display_data",
          "data": {
            "image/png": "[encoded data removed]",
            "text/plain": [
              "<Figure size 432x288 with 1 Axes>"
            ]
          },
          "metadata": {
            "needs_background": "light"
          }
        }
      ]
    },
    {
      "cell_type": "markdown",
      "metadata": {
        "id": "rt9KtrDCaabk"
      },
      "source": [
        "\n",
        "fit_output est un paramètre qui peut aider avec le scénario précédent. Par défaut, il est défini sur False. Cependant, voyons comment les sorties précédentes varient lorsque nous spécifions fit_output comme True lorsque nous redimensionnons, translatons, faisons pivoter et découpons l'image"
      ]
    },
    {
      "cell_type": "code",
      "metadata": {
        "colab": {
          "base_uri": "https://localhost:8080/",
          "height": 255
        },
        "id": "EnSzANwEabEk",
        "outputId": "bf8f6f74-7a79-43a6-9ab3-3dd3445ab7a2"
      },
      "source": [
        "\n",
        "plt.figure(figsize=(20,20))\n",
        "plt.subplot(161)\n",
        "plt.imshow(tr_images[0], cmap='gray')\n",
        "plt.title('Original image')\n",
        "plt.subplot(162)\n",
        "aug = iaa.Affine(scale=2, fit_output=True)\n",
        "plt.imshow(aug.augment_image(to_numpy(tr_images[0])), cmap='gray')\n",
        "plt.title('Scaled image')\n",
        "plt.subplot(163)\n",
        "aug = iaa.Affine(translate_px={'x':10,'y':2}, fit_output=True)\n",
        "plt.imshow(aug.augment_image(to_numpy(tr_images[0])), cmap='gray')\n",
        "plt.title('Translation of 10 pixels across \\ncolumns and 2 pixels over rows')\n",
        "plt.subplot(164)\n",
        "aug = iaa.Affine(rotate=30, fit_output=True)\n",
        "plt.imshow(aug.augment_image(to_numpy(tr_images[0])), cmap='gray')\n",
        "plt.title('Rotation of image \\nby 30 degrees')\n",
        "plt.subplot(165)\n",
        "aug = iaa.Affine(shear=30, fit_output=True)\n",
        "plt.imshow(aug.augment_image(to_numpy(tr_images[0])), cmap='gray')\n",
        "plt.title('Shear of image \\nby 30 degrees')"
      ],
      "execution_count": 20,
      "outputs": [
        {
          "output_type": "execute_result",
          "data": {
            "text/plain": [
              "Text(0.5, 1.0, 'Shear of image \\nby 30 degrees')"
            ]
          },
          "metadata": {},
          "execution_count": 20
        },
        {
          "output_type": "display_data",
          "data": {
            "image/png": "[encoded data removed]",
            "text/plain": [
              "<Figure size 1440x1440 with 5 Axes>"
            ]
          },
          "metadata": {
            "needs_background": "light"
          }
        }
      ]
    },
    {
      "cell_type": "markdown",
      "metadata": {
        "id": "iBdKrjWRZslI"
      },
      "source": [
        "Ici, nous pouvons voir que l'image d'origine n'a pas été recadrée et que la taille de l'image augmentée a augmenté pour tenir compte du fait que l'image augmentée n'est pas recadrée (dans la sortie de l'image mise à l'échelle ou lors de la rotation de l'image de 30 degrés). De plus, nous pouvons également voir que l'activation du paramètre fit_output a annulé la translatation que nous attendions dans la translatation d'une image de 10 pixels (il s'agit d'un comportement connu, comme expliqué dans la documentation)"
      ]
    },
    {
      "cell_type": "markdown",
      "metadata": {
        "id": "Y03jCkF6ZDSX"
      },
      "source": [
        "\n",
        "\n",
        "\n",
        "\n",
        "\n",
        "\n",
        "\n",
        "\n",
        "\n",
        "\n",
        "\n",
        "\n",
        "\n",
        "\n",
        "\n",
        "Notez que lorsque la taille de l'image augmentée(par exemple, lorsque l'image est tournée), nous devons déterminer comment les nouveaux pixels qui ne font pas partie de l'image d'origine doivent être remplis.\n",
        "\n",
        "Le paramètre cval résout ce problème. Il spécifie la valeur de pixel des nouveaux pixels créés lorsque fit_output est True. Dans le code précédent, cval est rempli avec une valeur par défaut de 0, ce qui donne des pixels noirs. Comprenons comment changer le paramètre cval à une valeur de 255 affecte la sortie lorsqu'une image est tournée"
      ]
    },
    {
      "cell_type": "code",
      "metadata": {
        "colab": {
          "base_uri": "https://localhost:8080/",
          "height": 298
        },
        "id": "H7Sy4yyDZdtd",
        "outputId": "844c7f4f-fcf1-4b00-f72e-74d6615dab65"
      },
      "source": [
        "aug = iaa.Affine(rotate=30, fit_output=True, cval=255)\n",
        "plt.imshow(aug.augment_image(to_numpy(tr_images[0])), cmap='gray')\n",
        "plt.title('Rotation of image by 30 degrees')"
      ],
      "execution_count": 19,
      "outputs": [
        {
          "output_type": "execute_result",
          "data": {
            "text/plain": [
              "Text(0.5, 1.0, 'Rotation of image by 30 degrees')"
            ]
          },
          "metadata": {},
          "execution_count": 19
        },
        {
          "output_type": "display_data",
          "data": {
            "image/png": "[encoded data removed]",
            "text/plain": [
              "<Figure size 432x288 with 1 Axes>"
            ]
          },
          "metadata": {
            "needs_background": "light"
          }
        }
      ]
    },
    {
      "cell_type": "markdown",
      "metadata": {
        "id": "ZQh0TyJrcSkD"
      },
      "source": [
        "Dans l'image précédente, les nouveaux pixels ont été remplis avec une valeur de pixel de 255, ce qui correspond à la couleur blanche.\n",
        "\n",
        "De plus, il existe différents modes que nous pouvons utiliser pour remplir les valeurs des pixels nouvellement créés. Ces valeurs, qui concernent le paramètre mode, sont les suivantes :\n",
        "\n",
        "* **constant** : Pads avec une valeur constante.\n",
        "* **edge** : Pads avec les valeurs de bord du tableau.\n",
        "* **symmetric** : pastilles avec la réflexion du vecteur reflétée le long du bord du tableau\n",
        "* **reflect** : pads avec la réflexion du vecteur reflétée sur les premières et dernières valeurs du vecteur le long de chaque axe.\n",
        "\n",
        "* **wrap**: Pads avec le wrap du vecteur le long de l'axe.\n"
      ]
    },
    {
      "cell_type": "markdown",
      "metadata": {
        "id": "Gm1mIrC7fBQm"
      },
      "source": [
        "## Modification de la luminosité\n",
        "\n",
        "Imaginez un scénario où la différence entre l'arrière-plan et le premier plan n'est pas aussi nette que nous l'avons vu jusqu'à présent. Cela signifie que l'arrière-plan n'a pas une valeur de pixel de 0 et que le premier plan n'a pas une valeur de pixel de 255. Un tel scénario peut généralement se produire lorsque les conditions d'éclairage de l'image sont différentes. Si l'arrière-plan a toujours eu une valeur de pixel de 0 et le premier plan a toujours eu une valeur de pixel de 255 lorsque le modèle a été formé mais que nous prédisons une image qui a une valeur de pixel d'arrière-plan de 20 et une valeur de pixel de premier plan de 220, la prédiction est susceptible d'être incorrect. \n",
        "\n",
        "**Multiply** et **Linearcontraste** sont deux techniques d'augmentation différentes qui peuvent être utilisées pour résoudre de tels scénarios."
      ]
    },
    {
      "cell_type": "markdown",
      "metadata": {
        "id": "mxVRINQnfppu"
      },
      "source": [
        "La méthode Multiply multiplie chaque valeur de pixel par la valeur que nous spécifions. La sortie de la multiplication de chaque valeur de pixel par 0,5 pour l'image que nous avons considérée jusqu'à présent est la suivante:"
      ]
    },
    {
      "cell_type": "code",
      "metadata": {
        "colab": {
          "base_uri": "https://localhost:8080/",
          "height": 298
        },
        "id": "Po_lvksKfihk",
        "outputId": "c62b31e7-3476-4d44-b98e-9ccaff7704a6"
      },
      "source": [
        "aug = iaa.Multiply(0.5)\n",
        "plt.imshow(aug.augment_image(to_numpy(tr_images[0])), cmap='gray',vmin = 0, vmax = 255)\n",
        "plt.title('Pixels multiplied by 0.5')"
      ],
      "execution_count": 21,
      "outputs": [
        {
          "output_type": "execute_result",
          "data": {
            "text/plain": [
              "Text(0.5, 1.0, 'Pixels multiplied by 0.5')"
            ]
          },
          "metadata": {},
          "execution_count": 21
        },
        {
          "output_type": "display_data",
          "data": {
            "image/png": "[encoded data removed]",
            "text/plain": [
              "<Figure size 432x288 with 1 Axes>"
            ]
          },
          "metadata": {
            "needs_background": "light"
          }
        }
      ]
    },
    {
      "cell_type": "markdown",
      "metadata": {
        "id": "D49WRQOIgGm2"
      },
      "source": [
        "Linearcontrast ajuste chaque valeur de pixel en fonction de la formule suivante:\n",
        "$$ 127+a*(pixelvalue-127)$$\n",
        "\n",
        "Dans l'équation précédente, lorsque est $a$ égal à 1, les valeurs de pixels restent inchangées. Cependant, lorsque est inférieur à 1, les valeurs de pixels élevées sont réduites et les valeurs de pixels faibles sont augmentées."
      ]
    },
    {
      "cell_type": "code",
      "metadata": {
        "colab": {
          "base_uri": "https://localhost:8080/",
          "height": 298
        },
        "id": "wMHa_k6vh08s",
        "outputId": "fbfda3a1-0c8c-4458-87ec-914635ad7e38"
      },
      "source": [
        "aug = iaa.LinearContrast(0.5)\n",
        "plt.imshow(aug.augment_image(to_numpy(tr_images[0])), cmap='gray',vmin = 0, vmax = 255)\n",
        "plt.title('Pixel contrast by 0.5')"
      ],
      "execution_count": 22,
      "outputs": [
        {
          "output_type": "execute_result",
          "data": {
            "text/plain": [
              "Text(0.5, 1.0, 'Pixel contrast by 0.5')"
            ]
          },
          "metadata": {},
          "execution_count": 22
        },
        {
          "output_type": "display_data",
          "data": {
            "image/png": "[encoded data removed]",
            "text/plain": [
              "<Figure size 432x288 with 1 Axes>"
            ]
          },
          "metadata": {
            "needs_background": "light"
          }
        }
      ]
    },
    {
      "cell_type": "markdown",
      "metadata": {
        "id": "xBoFQ1o2iIb6"
      },
      "source": [
        "## Adding noise\n",
        "Dans un scénario réel, nous pouvons rencontrer des images granuleuses en raison de mauvaises conditions de photographie. Dropout et SaltAndPepper sont deux méthodes importantes qui peuvent aider à simuler des conditions d'image granuleuse. Jetons un coup d'œil à la sortie de l'augmentation d'une image avec ces deux méthodes"
      ]
    },
    {
      "cell_type": "code",
      "metadata": {
        "colab": {
          "base_uri": "https://localhost:8080/",
          "height": 298
        },
        "id": "uiriRdIaiYJO",
        "outputId": "777b362c-1c2e-4696-cc28-fd55834cfbe1"
      },
      "source": [
        "\n",
        "aug = iaa.Dropout(p=0.2)\n",
        "plt.imshow(aug.augment_image(to_numpy(tr_images[0])), cmap='gray',vmin = 0, vmax = 255)\n",
        "plt.title('Random 20% pixel dropout')"
      ],
      "execution_count": 23,
      "outputs": [
        {
          "output_type": "execute_result",
          "data": {
            "text/plain": [
              "Text(0.5, 1.0, 'Random 20% pixel dropout')"
            ]
          },
          "metadata": {},
          "execution_count": 23
        },
        {
          "output_type": "display_data",
          "data": {
            "image/png": "[encoded data removed]",
            "text/plain": [
              "<Figure size 432x288 with 1 Axes>"
            ]
          },
          "metadata": {
            "needs_background": "light"
          }
        }
      ]
    },
    {
      "cell_type": "code",
      "metadata": {
        "colab": {
          "base_uri": "https://localhost:8080/",
          "height": 298
        },
        "id": "fbzKqtpnibOI",
        "outputId": "5ad99afc-9c44-4406-eedd-dc40df7594ab"
      },
      "source": [
        "aug = iaa.SaltAndPepper(0.2)\n",
        "plt.imshow(aug.augment_image(to_numpy(tr_images[0])), cmap='gray',vmin = 0, vmax = 255)\n",
        "plt.title('Random 20% salt and pepper noise')"
      ],
      "execution_count": 24,
      "outputs": [
        {
          "output_type": "execute_result",
          "data": {
            "text/plain": [
              "Text(0.5, 1.0, 'Random 20% salt and pepper noise')"
            ]
          },
          "metadata": {},
          "execution_count": 24
        },
        {
          "output_type": "display_data",
          "data": {
            "image/png": "[encoded data removed]",
            "text/plain": [
              "<Figure size 432x288 with 1 Axes>"
            ]
          },
          "metadata": {
            "needs_background": "light"
          }
        }
      ]
    },
    {
      "cell_type": "markdown",
      "metadata": {
        "id": "eUD0P4tWimBL"
      },
      "source": [
        "## Performing a sequence of augmentations\n",
        "\n",
        "Jusqu'à présent, nous avons examiné diverses augmentations et avons également joué. Cependant, dans un scénario du monde réel, nous devrions prendre en compte autant d'augmentations que possible. Dans cette section, nous allons découvrir la manière séquentielle d'effectuer des augmentations.\n",
        "\n",
        "En utilisant la méthode séquentielle, nous pouvons construire la méthode d'augmentation en utilisant toutes les augmentations pertinentes qui doivent être effectuées. Pour notre exemple, nous considérerons uniquement la rotation et l'abandon pour augmenter notre image. L'objet séquentiel se présente comme suit."
      ]
    },
    {
      "cell_type": "code",
      "metadata": {
        "id": "ZMI8SWiLj5Xg"
      },
      "source": [
        "seq = iaa.Sequential([\n",
        "      iaa.Dropout(p=0.2,),\n",
        "    iaa.Affine(rotate=(-30,30))], random_order= True)"
      ],
      "execution_count": 25,
      "outputs": []
    },
    {
      "cell_type": "code",
      "metadata": {
        "colab": {
          "base_uri": "https://localhost:8080/",
          "height": 313
        },
        "id": "7uzFB58pj8VO",
        "outputId": "7214cd68-d375-4de1-99b4-80c1ed203bfd"
      },
      "source": [
        "plt.imshow(seq.augment_image(to_numpy(tr_images[0])), cmap='gray',vmin = 0, vmax = 255)\n",
        "plt.title('Image augmented using a \\nrandom orderof the two augmentations')"
      ],
      "execution_count": 26,
      "outputs": [
        {
          "output_type": "execute_result",
          "data": {
            "text/plain": [
              "Text(0.5, 1.0, 'Image augmented using a \\nrandom orderof the two augmentations')"
            ]
          },
          "metadata": {},
          "execution_count": 26
        },
        {
          "output_type": "display_data",
          "data": {
            "image/png": "[encoded data removed]",
            "text/plain": [
              "<Figure size 432x288 with 1 Axes>"
            ]
          },
          "metadata": {
            "needs_background": "light"
          }
        }
      ]
    },
    {
      "cell_type": "markdown",
      "metadata": {
        "id": "yi0p1oiKtwGE"
      },
      "source": [
        "## Performing data augmentation on a batch ofimages and the need for collate_fn\n",
        "\n",
        "Nous avons déjà vu qu'il est préférable d'effectuer différentes augmentations dans différentes itérations sur la même image.\n",
        "\n",
        "Si nous avons un pipeline d'augmentation défini dans la méthode __init__, nous n'aurons besoin d'effectuer une augmentation qu'une seule fois sur l'ensemble d'images d'entrée. Cela signifie que nous n'aurions pas différentes augmentations sur différentes itérations.\n",
        "\n",
        "De même, si l'augmentation est dans la méthode __getitem__ - ce qui est idéal puisque nous voulons effectuer un ensemble différent d'augmentations sur chaque image - le principal goulot d'étranglement est que l'augmentation est effectuée une fois pour chaque image. Ce serait beaucoup plus rapide si nous devions effectuer une augmentation sur un lot d'images au lieu d'une image à la fois. Comprenons cela en détail en examinant deux scénarios où nous travaillerons sur 32 images.\n",
        "\n",
        "* Augmentation de 32 images, une à la fois\n",
        "* Augmentation de 32 images par lot en une seule fois"
      ]
    },
    {
      "cell_type": "markdown",
      "metadata": {
        "id": "SPlIXE0-vg4U"
      },
      "source": [
        "Cependant, la classe Dataset traditionnelle sur laquelle nous avons travaillé fournit l'index d'une image à la fois dans la méthode __getitem__. Par conséquent, nous devons apprendre à utiliser une nouvelle fonction - collate_fn - qui nous permet d'effectuer des manipulations sur un lot d'images"
      ]
    },
    {
      "cell_type": "code",
      "metadata": {
        "id": "qJzAfcy2vzhW"
      },
      "source": [
        "\n",
        "from imgaug import augmenters as iaa\n",
        "aug = iaa.Sequential([\n",
        "    iaa.Affine(translate_px={'x':(-10,10)},\n",
        "        mode='constant'),\n",
        "])"
      ],
      "execution_count": 27,
      "outputs": []
    },
    {
      "cell_type": "code",
      "metadata": {
        "id": "Ni8AcoFTv3Qw"
      },
      "source": [
        "from torch.utils.data import Dataset, DataLoader\n",
        "import torch\n",
        "import torch.nn as nn\n",
        "import numpy as np\n",
        "\n",
        "class FMNISTDataset(Dataset):\n",
        "    def __init__(self, x, y, aug=None):\n",
        "        self.x, self.y = x, y\n",
        "        self.aug = aug\n",
        "    def __getitem__(self, ix):\n",
        "        x, y = self.x[ix], self.y[ix]\n",
        "        return x, y\n",
        "    def __len__(self): return len(self.x)\n",
        "\n",
        "    def collate_fn(self, batch):\n",
        "        'logic to modify a batch of images'\n",
        "        ims, classes = list(zip(*batch))\n",
        "        # transform a batch of images at once\n",
        "        if self.aug: ims=self.aug.augment_images(images=ims)\n",
        "        ims = torch.tensor(ims)[:,None,:,:].to(device)/255.\n",
        "        classes = torch.tensor(classes).to(device)\n",
        "        return ims, classes"
      ],
      "execution_count": 29,
      "outputs": []
    }
  ]
}