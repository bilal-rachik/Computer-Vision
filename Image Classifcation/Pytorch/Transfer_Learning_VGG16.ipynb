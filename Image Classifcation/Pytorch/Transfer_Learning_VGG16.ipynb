{
  "nbformat": 4,
  "nbformat_minor": 0,
  "metadata": {
    "colab": {
      "name": "Transfer_Learning_VGG16.ipynb",
      "provenance": []
    },
    "kernelspec": {
      "name": "python3",
      "display_name": "Python 3"
    },
    "language_info": {
      "name": "python"
    },
    "accelerator": "GPU",
    "widgets": {
      "application/vnd.jupyter.widget-state+json": {
        "fee336e7a0f34d3ba0b5370795ef2509": {
          "model_module": "@jupyter-widgets/controls",
          "model_name": "HBoxModel",
          "model_module_version": "1.5.0",
          "state": {
            "_view_name": "HBoxView",
            "_dom_classes": [],
            "_model_name": "HBoxModel",
            "_view_module": "@jupyter-widgets/controls",
            "_model_module_version": "1.5.0",
            "_view_count": null,
            "_view_module_version": "1.5.0",
            "box_style": "",
            "layout": "IPY_MODEL_2f8f43486c064e4da2a2955592afb884",
            "_model_module": "@jupyter-widgets/controls",
            "children": [
              "IPY_MODEL_b6bcd151940f4064865c1ac225122f37",
              "IPY_MODEL_723b7053f2cc472899f9c1b6e78a4b48",
              "IPY_MODEL_bba21176e33a4537a1602597bdc09825"
            ]
          }
        },
        "2f8f43486c064e4da2a2955592afb884": {
          "model_module": "@jupyter-widgets/base",
          "model_name": "LayoutModel",
          "model_module_version": "1.2.0",
          "state": {
            "_view_name": "LayoutView",
            "grid_template_rows": null,
            "right": null,
            "justify_content": null,
            "_view_module": "@jupyter-widgets/base",
            "overflow": null,
            "_model_module_version": "1.2.0",
            "_view_count": null,
            "flex_flow": null,
            "width": null,
            "min_width": null,
            "border": null,
            "align_items": null,
            "bottom": null,
            "_model_module": "@jupyter-widgets/base",
            "top": null,
            "grid_column": null,
            "overflow_y": null,
            "overflow_x": null,
            "grid_auto_flow": null,
            "grid_area": null,
            "grid_template_columns": null,
            "flex": null,
            "_model_name": "LayoutModel",
            "justify_items": null,
            "grid_row": null,
            "max_height": null,
            "align_content": null,
            "visibility": null,
            "align_self": null,
            "height": null,
            "min_height": null,
            "padding": null,
            "grid_auto_rows": null,
            "grid_gap": null,
            "max_width": null,
            "order": null,
            "_view_module_version": "1.2.0",
            "grid_template_areas": null,
            "object_position": null,
            "object_fit": null,
            "grid_auto_columns": null,
            "margin": null,
            "display": null,
            "left": null
          }
        },
        "b6bcd151940f4064865c1ac225122f37": {
          "model_module": "@jupyter-widgets/controls",
          "model_name": "HTMLModel",
          "model_module_version": "1.5.0",
          "state": {
            "_view_name": "HTMLView",
            "style": "IPY_MODEL_47461e51ea5b4e4e8b1c2f9426caa8de",
            "_dom_classes": [],
            "description": "",
            "_model_name": "HTMLModel",
            "placeholder": "​",
            "_view_module": "@jupyter-widgets/controls",
            "_model_module_version": "1.5.0",
            "value": "100%",
            "_view_count": null,
            "_view_module_version": "1.5.0",
            "description_tooltip": null,
            "_model_module": "@jupyter-widgets/controls",
            "layout": "IPY_MODEL_447c452c01d84d6fac9331b5d2106819"
          }
        },
        "723b7053f2cc472899f9c1b6e78a4b48": {
          "model_module": "@jupyter-widgets/controls",
          "model_name": "FloatProgressModel",
          "model_module_version": "1.5.0",
          "state": {
            "_view_name": "ProgressView",
            "style": "IPY_MODEL_acdb4c20fd99464a99ef7a4f873b5789",
            "_dom_classes": [],
            "description": "",
            "_model_name": "FloatProgressModel",
            "bar_style": "success",
            "max": 553433881,
            "_view_module": "@jupyter-widgets/controls",
            "_model_module_version": "1.5.0",
            "value": 553433881,
            "_view_count": null,
            "_view_module_version": "1.5.0",
            "orientation": "horizontal",
            "min": 0,
            "description_tooltip": null,
            "_model_module": "@jupyter-widgets/controls",
            "layout": "IPY_MODEL_39f325e1b24741acbe33f5c639872a45"
          }
        },
        "bba21176e33a4537a1602597bdc09825": {
          "model_module": "@jupyter-widgets/controls",
          "model_name": "HTMLModel",
          "model_module_version": "1.5.0",
          "state": {
            "_view_name": "HTMLView",
            "style": "IPY_MODEL_182c99284cf84e779e72ba9194a30601",
            "_dom_classes": [],
            "description": "",
            "_model_name": "HTMLModel",
            "placeholder": "​",
            "_view_module": "@jupyter-widgets/controls",
            "_model_module_version": "1.5.0",
            "value": " 528M/528M [00:05&lt;00:00, 99.5MB/s]",
            "_view_count": null,
            "_view_module_version": "1.5.0",
            "description_tooltip": null,
            "_model_module": "@jupyter-widgets/controls",
            "layout": "IPY_MODEL_97240b5d6237408b872e19350d69ea0a"
          }
        },
        "47461e51ea5b4e4e8b1c2f9426caa8de": {
          "model_module": "@jupyter-widgets/controls",
          "model_name": "DescriptionStyleModel",
          "model_module_version": "1.5.0",
          "state": {
            "_view_name": "StyleView",
            "_model_name": "DescriptionStyleModel",
            "description_width": "",
            "_view_module": "@jupyter-widgets/base",
            "_model_module_version": "1.5.0",
            "_view_count": null,
            "_view_module_version": "1.2.0",
            "_model_module": "@jupyter-widgets/controls"
          }
        },
        "447c452c01d84d6fac9331b5d2106819": {
          "model_module": "@jupyter-widgets/base",
          "model_name": "LayoutModel",
          "model_module_version": "1.2.0",
          "state": {
            "_view_name": "LayoutView",
            "grid_template_rows": null,
            "right": null,
            "justify_content": null,
            "_view_module": "@jupyter-widgets/base",
            "overflow": null,
            "_model_module_version": "1.2.0",
            "_view_count": null,
            "flex_flow": null,
            "width": null,
            "min_width": null,
            "border": null,
            "align_items": null,
            "bottom": null,
            "_model_module": "@jupyter-widgets/base",
            "top": null,
            "grid_column": null,
            "overflow_y": null,
            "overflow_x": null,
            "grid_auto_flow": null,
            "grid_area": null,
            "grid_template_columns": null,
            "flex": null,
            "_model_name": "LayoutModel",
            "justify_items": null,
            "grid_row": null,
            "max_height": null,
            "align_content": null,
            "visibility": null,
            "align_self": null,
            "height": null,
            "min_height": null,
            "padding": null,
            "grid_auto_rows": null,
            "grid_gap": null,
            "max_width": null,
            "order": null,
            "_view_module_version": "1.2.0",
            "grid_template_areas": null,
            "object_position": null,
            "object_fit": null,
            "grid_auto_columns": null,
            "margin": null,
            "display": null,
            "left": null
          }
        },
        "acdb4c20fd99464a99ef7a4f873b5789": {
          "model_module": "@jupyter-widgets/controls",
          "model_name": "ProgressStyleModel",
          "model_module_version": "1.5.0",
          "state": {
            "_view_name": "StyleView",
            "_model_name": "ProgressStyleModel",
            "description_width": "",
            "_view_module": "@jupyter-widgets/base",
            "_model_module_version": "1.5.0",
            "_view_count": null,
            "_view_module_version": "1.2.0",
            "bar_color": null,
            "_model_module": "@jupyter-widgets/controls"
          }
        },
        "39f325e1b24741acbe33f5c639872a45": {
          "model_module": "@jupyter-widgets/base",
          "model_name": "LayoutModel",
          "model_module_version": "1.2.0",
          "state": {
            "_view_name": "LayoutView",
            "grid_template_rows": null,
            "right": null,
            "justify_content": null,
            "_view_module": "@jupyter-widgets/base",
            "overflow": null,
            "_model_module_version": "1.2.0",
            "_view_count": null,
            "flex_flow": null,
            "width": null,
            "min_width": null,
            "border": null,
            "align_items": null,
            "bottom": null,
            "_model_module": "@jupyter-widgets/base",
            "top": null,
            "grid_column": null,
            "overflow_y": null,
            "overflow_x": null,
            "grid_auto_flow": null,
            "grid_area": null,
            "grid_template_columns": null,
            "flex": null,
            "_model_name": "LayoutModel",
            "justify_items": null,
            "grid_row": null,
            "max_height": null,
            "align_content": null,
            "visibility": null,
            "align_self": null,
            "height": null,
            "min_height": null,
            "padding": null,
            "grid_auto_rows": null,
            "grid_gap": null,
            "max_width": null,
            "order": null,
            "_view_module_version": "1.2.0",
            "grid_template_areas": null,
            "object_position": null,
            "object_fit": null,
            "grid_auto_columns": null,
            "margin": null,
            "display": null,
            "left": null
          }
        },
        "182c99284cf84e779e72ba9194a30601": {
          "model_module": "@jupyter-widgets/controls",
          "model_name": "DescriptionStyleModel",
          "model_module_version": "1.5.0",
          "state": {
            "_view_name": "StyleView",
            "_model_name": "DescriptionStyleModel",
            "description_width": "",
            "_view_module": "@jupyter-widgets/base",
            "_model_module_version": "1.5.0",
            "_view_count": null,
            "_view_module_version": "1.2.0",
            "_model_module": "@jupyter-widgets/controls"
          }
        },
        "97240b5d6237408b872e19350d69ea0a": {
          "model_module": "@jupyter-widgets/base",
          "model_name": "LayoutModel",
          "model_module_version": "1.2.0",
          "state": {
            "_view_name": "LayoutView",
            "grid_template_rows": null,
            "right": null,
            "justify_content": null,
            "_view_module": "@jupyter-widgets/base",
            "overflow": null,
            "_model_module_version": "1.2.0",
            "_view_count": null,
            "flex_flow": null,
            "width": null,
            "min_width": null,
            "border": null,
            "align_items": null,
            "bottom": null,
            "_model_module": "@jupyter-widgets/base",
            "top": null,
            "grid_column": null,
            "overflow_y": null,
            "overflow_x": null,
            "grid_auto_flow": null,
            "grid_area": null,
            "grid_template_columns": null,
            "flex": null,
            "_model_name": "LayoutModel",
            "justify_items": null,
            "grid_row": null,
            "max_height": null,
            "align_content": null,
            "visibility": null,
            "align_self": null,
            "height": null,
            "min_height": null,
            "padding": null,
            "grid_auto_rows": null,
            "grid_gap": null,
            "max_width": null,
            "order": null,
            "_view_module_version": "1.2.0",
            "grid_template_areas": null,
            "object_position": null,
            "object_fit": null,
            "grid_auto_columns": null,
            "margin": null,
            "display": null,
            "left": null
          }
        },
        "ce8caf6cd2214e7faf5c7170363c6801": {
          "model_module": "@jupyter-widgets/controls",
          "model_name": "HBoxModel",
          "model_module_version": "1.5.0",
          "state": {
            "_view_name": "HBoxView",
            "_dom_classes": [],
            "_model_name": "HBoxModel",
            "_view_module": "@jupyter-widgets/controls",
            "_model_module_version": "1.5.0",
            "_view_count": null,
            "_view_module_version": "1.5.0",
            "box_style": "",
            "layout": "IPY_MODEL_35d134709a76456d8581096e5054dc2b",
            "_model_module": "@jupyter-widgets/controls",
            "children": [
              "IPY_MODEL_aa7bacdca2d14714add18f6ff20fba0b",
              "IPY_MODEL_41020f956db34c499cb55336bab44d87",
              "IPY_MODEL_84b6d6c748fa4641b318a2d386548c56"
            ]
          }
        },
        "35d134709a76456d8581096e5054dc2b": {
          "model_module": "@jupyter-widgets/base",
          "model_name": "LayoutModel",
          "model_module_version": "1.2.0",
          "state": {
            "_view_name": "LayoutView",
            "grid_template_rows": null,
            "right": null,
            "justify_content": null,
            "_view_module": "@jupyter-widgets/base",
            "overflow": null,
            "_model_module_version": "1.2.0",
            "_view_count": null,
            "flex_flow": null,
            "width": null,
            "min_width": null,
            "border": null,
            "align_items": null,
            "bottom": null,
            "_model_module": "@jupyter-widgets/base",
            "top": null,
            "grid_column": null,
            "overflow_y": null,
            "overflow_x": null,
            "grid_auto_flow": null,
            "grid_area": null,
            "grid_template_columns": null,
            "flex": null,
            "_model_name": "LayoutModel",
            "justify_items": null,
            "grid_row": null,
            "max_height": null,
            "align_content": null,
            "visibility": null,
            "align_self": null,
            "height": null,
            "min_height": null,
            "padding": null,
            "grid_auto_rows": null,
            "grid_gap": null,
            "max_width": null,
            "order": null,
            "_view_module_version": "1.2.0",
            "grid_template_areas": null,
            "object_position": null,
            "object_fit": null,
            "grid_auto_columns": null,
            "margin": null,
            "display": null,
            "left": null
          }
        },
        "aa7bacdca2d14714add18f6ff20fba0b": {
          "model_module": "@jupyter-widgets/controls",
          "model_name": "HTMLModel",
          "model_module_version": "1.5.0",
          "state": {
            "_view_name": "HTMLView",
            "style": "IPY_MODEL_f90b06af83614bb58e5a0834c9ec3bb9",
            "_dom_classes": [],
            "description": "",
            "_model_name": "HTMLModel",
            "placeholder": "​",
            "_view_module": "@jupyter-widgets/controls",
            "_model_module_version": "1.5.0",
            "value": "100%",
            "_view_count": null,
            "_view_module_version": "1.5.0",
            "description_tooltip": null,
            "_model_module": "@jupyter-widgets/controls",
            "layout": "IPY_MODEL_04ca9419bfe04fb5a25abd556d842426"
          }
        },
        "41020f956db34c499cb55336bab44d87": {
          "model_module": "@jupyter-widgets/controls",
          "model_name": "FloatProgressModel",
          "model_module_version": "1.5.0",
          "state": {
            "_view_name": "ProgressView",
            "style": "IPY_MODEL_e8ecc4eeae82425b8cebb579a3261079",
            "_dom_classes": [],
            "description": "",
            "_model_name": "FloatProgressModel",
            "bar_style": "success",
            "max": 553433881,
            "_view_module": "@jupyter-widgets/controls",
            "_model_module_version": "1.5.0",
            "value": 553433881,
            "_view_count": null,
            "_view_module_version": "1.5.0",
            "orientation": "horizontal",
            "min": 0,
            "description_tooltip": null,
            "_model_module": "@jupyter-widgets/controls",
            "layout": "IPY_MODEL_a57c8cdb46d748c09b5c12d2565c49e6"
          }
        },
        "84b6d6c748fa4641b318a2d386548c56": {
          "model_module": "@jupyter-widgets/controls",
          "model_name": "HTMLModel",
          "model_module_version": "1.5.0",
          "state": {
            "_view_name": "HTMLView",
            "style": "IPY_MODEL_fa814fee5c0047b387de606431a886a6",
            "_dom_classes": [],
            "description": "",
            "_model_name": "HTMLModel",
            "placeholder": "​",
            "_view_module": "@jupyter-widgets/controls",
            "_model_module_version": "1.5.0",
            "value": " 528M/528M [00:06&lt;00:00, 86.3MB/s]",
            "_view_count": null,
            "_view_module_version": "1.5.0",
            "description_tooltip": null,
            "_model_module": "@jupyter-widgets/controls",
            "layout": "IPY_MODEL_aca63617220e4524bab7eadbeb5c9fd9"
          }
        },
        "f90b06af83614bb58e5a0834c9ec3bb9": {
          "model_module": "@jupyter-widgets/controls",
          "model_name": "DescriptionStyleModel",
          "model_module_version": "1.5.0",
          "state": {
            "_view_name": "StyleView",
            "_model_name": "DescriptionStyleModel",
            "description_width": "",
            "_view_module": "@jupyter-widgets/base",
            "_model_module_version": "1.5.0",
            "_view_count": null,
            "_view_module_version": "1.2.0",
            "_model_module": "@jupyter-widgets/controls"
          }
        },
        "04ca9419bfe04fb5a25abd556d842426": {
          "model_module": "@jupyter-widgets/base",
          "model_name": "LayoutModel",
          "model_module_version": "1.2.0",
          "state": {
            "_view_name": "LayoutView",
            "grid_template_rows": null,
            "right": null,
            "justify_content": null,
            "_view_module": "@jupyter-widgets/base",
            "overflow": null,
            "_model_module_version": "1.2.0",
            "_view_count": null,
            "flex_flow": null,
            "width": null,
            "min_width": null,
            "border": null,
            "align_items": null,
            "bottom": null,
            "_model_module": "@jupyter-widgets/base",
            "top": null,
            "grid_column": null,
            "overflow_y": null,
            "overflow_x": null,
            "grid_auto_flow": null,
            "grid_area": null,
            "grid_template_columns": null,
            "flex": null,
            "_model_name": "LayoutModel",
            "justify_items": null,
            "grid_row": null,
            "max_height": null,
            "align_content": null,
            "visibility": null,
            "align_self": null,
            "height": null,
            "min_height": null,
            "padding": null,
            "grid_auto_rows": null,
            "grid_gap": null,
            "max_width": null,
            "order": null,
            "_view_module_version": "1.2.0",
            "grid_template_areas": null,
            "object_position": null,
            "object_fit": null,
            "grid_auto_columns": null,
            "margin": null,
            "display": null,
            "left": null
          }
        },
        "e8ecc4eeae82425b8cebb579a3261079": {
          "model_module": "@jupyter-widgets/controls",
          "model_name": "ProgressStyleModel",
          "model_module_version": "1.5.0",
          "state": {
            "_view_name": "StyleView",
            "_model_name": "ProgressStyleModel",
            "description_width": "",
            "_view_module": "@jupyter-widgets/base",
            "_model_module_version": "1.5.0",
            "_view_count": null,
            "_view_module_version": "1.2.0",
            "bar_color": null,
            "_model_module": "@jupyter-widgets/controls"
          }
        },
        "a57c8cdb46d748c09b5c12d2565c49e6": {
          "model_module": "@jupyter-widgets/base",
          "model_name": "LayoutModel",
          "model_module_version": "1.2.0",
          "state": {
            "_view_name": "LayoutView",
            "grid_template_rows": null,
            "right": null,
            "justify_content": null,
            "_view_module": "@jupyter-widgets/base",
            "overflow": null,
            "_model_module_version": "1.2.0",
            "_view_count": null,
            "flex_flow": null,
            "width": null,
            "min_width": null,
            "border": null,
            "align_items": null,
            "bottom": null,
            "_model_module": "@jupyter-widgets/base",
            "top": null,
            "grid_column": null,
            "overflow_y": null,
            "overflow_x": null,
            "grid_auto_flow": null,
            "grid_area": null,
            "grid_template_columns": null,
            "flex": null,
            "_model_name": "LayoutModel",
            "justify_items": null,
            "grid_row": null,
            "max_height": null,
            "align_content": null,
            "visibility": null,
            "align_self": null,
            "height": null,
            "min_height": null,
            "padding": null,
            "grid_auto_rows": null,
            "grid_gap": null,
            "max_width": null,
            "order": null,
            "_view_module_version": "1.2.0",
            "grid_template_areas": null,
            "object_position": null,
            "object_fit": null,
            "grid_auto_columns": null,
            "margin": null,
            "display": null,
            "left": null
          }
        },
        "fa814fee5c0047b387de606431a886a6": {
          "model_module": "@jupyter-widgets/controls",
          "model_name": "DescriptionStyleModel",
          "model_module_version": "1.5.0",
          "state": {
            "_view_name": "StyleView",
            "_model_name": "DescriptionStyleModel",
            "description_width": "",
            "_view_module": "@jupyter-widgets/base",
            "_model_module_version": "1.5.0",
            "_view_count": null,
            "_view_module_version": "1.2.0",
            "_model_module": "@jupyter-widgets/controls"
          }
        },
        "aca63617220e4524bab7eadbeb5c9fd9": {
          "model_module": "@jupyter-widgets/base",
          "model_name": "LayoutModel",
          "model_module_version": "1.2.0",
          "state": {
            "_view_name": "LayoutView",
            "grid_template_rows": null,
            "right": null,
            "justify_content": null,
            "_view_module": "@jupyter-widgets/base",
            "overflow": null,
            "_model_module_version": "1.2.0",
            "_view_count": null,
            "flex_flow": null,
            "width": null,
            "min_width": null,
            "border": null,
            "align_items": null,
            "bottom": null,
            "_model_module": "@jupyter-widgets/base",
            "top": null,
            "grid_column": null,
            "overflow_y": null,
            "overflow_x": null,
            "grid_auto_flow": null,
            "grid_area": null,
            "grid_template_columns": null,
            "flex": null,
            "_model_name": "LayoutModel",
            "justify_items": null,
            "grid_row": null,
            "max_height": null,
            "align_content": null,
            "visibility": null,
            "align_self": null,
            "height": null,
            "min_height": null,
            "padding": null,
            "grid_auto_rows": null,
            "grid_gap": null,
            "max_width": null,
            "order": null,
            "_view_module_version": "1.2.0",
            "grid_template_areas": null,
            "object_position": null,
            "object_fit": null,
            "grid_auto_columns": null,
            "margin": null,
            "display": null,
            "left": null
          }
        }
      }
    }
  },
  "cells": [
    {
      "cell_type": "markdown",
      "metadata": {
        "id": "YanF9Loh60nP"
      },
      "source": [
        "# Transfer_Learning\n",
        "Dans la section précédente, nous avons appris qu'au fur et à mesure que le nombre d'images disponibles dans l'ensemble de données d'entraînement augmentait, la précision de classification du modèle continuait d'augmenter, dans la mesure où un ensemble de données d'entraînement comprenant 8 000 images avait une plus grande précision sur l'ensemble de données de validation qu'un ensemble de données d'entraînement. comprenant 1 000 images. Cependant, nous n'avons pas toujours la possibilité d'avoir des centaines ou des milliers d'images, ainsi que les vérités de leurs classes correspondantes, pour entraîner un modèle. C'est là que l'apprentissage par transfert vient à la rescousse.\n",
        "\n",
        "L'apprentissage par transfert est une technique où nous transférons l'apprentissage du modèle sur un ensemble de données générique vers l'ensemble de données spécifique d'intérêt. En règle générale, les modèles pré-entraînés utilisés pour effectuer l'apprentissage par transfert sont entraînés sur des millions d'images (qui sont génériques et non sur l'ensemble de données qui nous intéresse) et ces modèles pré-entraînés sont désormais ajustés à notre ensemble de données d'intérêt.\n",
        "\n",
        "Nous allons découvrir deux familles différentes d'architectures d'apprentissage par transfert - les variantes de l'architecture VGG et les variantes de l'architecture ResNet.\n",
        "\n",
        "En plus de comprendre les architectures, nous comprendrons également leur application dans deux cas d'utilisation différents, la classification par âge et par sexe, où nous apprendrons à optimiser à la fois l'entropie croisée et les pertes d'erreur absolues moyennes en même temps, et la détection des points clés du visage, où nous allons Découvrez comment tirer parti des réseaux de neurones pour générer plusieurs sorties continues (136 au lieu d'une prédiction) dans une seule prédiction. Enfin, nous découvrirons une nouvelle bibliothèque qui aide à réduire considérablement la complexité du code."
      ]
    },
    {
      "cell_type": "markdown",
      "metadata": {
        "id": "bFwqkWsR8M2Y"
      },
      "source": [
        "## Introducing transfer learning\n",
        "\n",
        "L'apprentissage par transfert est une technique où les connaissances acquises à partir d'une tâche sont exploitées pour résoudre une autre tâche similaire.\n",
        "\n",
        "Imaginez un modèle entraîné sur des millions d'images couvrant des milliers de classes d'objets (pas seulement des chats et des chiens). Les différents filtres (noyaux) du modèle s'activeraient pour une grande variété de formes, de couleurs et de textures dans les images. Ces filtres peuvent désormais être réutilisés pour apprendre des fonctionnalités sur un nouvel ensemble d'images. Après l'apprentissage des fonctionnalités, elles peuvent être connectées à une couche cachée avant la couche de classification finale pour la personnalisation sur les nouvelles données.\n",
        "\n",
        "ImageNet (http://www.image-net.org/) est un concours organisé pour classer environ 14 millions d'images dans 1 000 classes différentes. Il a une variété de classes dans l'ensemble de données, y compris l'éléphant indien, le poisson-lion, le disque dur, la laque pour les cheveux et la jeep.\n",
        "\n",
        "Les architectures de réseaux de neurones profonds que nous allons parcourir ici ont été formés sur le jeu de données ImageNet. De plus, compte tenu de la variété et du volume d'objets à classer dans ImageNet, les modèles sont très profonds afin de capter le plus d'informations possibles.\n",
        "\n",
        "Comprenons l'importance de l'apprentissage par transfert à travers un scénario hypothétique:\n",
        "\n",
        "Considérons une situation où nous travaillons avec des images d'une route, en essayant de les classer en fonction des objets qu'elles contiennent. La construction d'un modèle à partir de zéro peut entraîner des résultats sous-optimaux, car le nombre d'images pourrait être insuffisant pour apprendre les différentes variations au sein de l'ensemble de données (comme nous l'avons vu dans le cas d'utilisation précédent, où la formation sur 8 000 images a entraîné une plus grande précision sur une validation qu'un entraînement sur 2000 images). Un modèle pré-entraîné, formé sur ImageNet, est utile dans un tel scénario. Il aurait déjà beaucoup appris sur les classes liées au trafic, telles que les voitures, les routes, les arbres et les humains, lors de la formation sur le grand ensemble de données ImageNet. Par conséquent, tirer parti du modèle déjà formé entraînerait une formation plus rapide et plus précise que le modèle connaît déjà les formes génériques et doit maintenant les adapter aux images spécifiques. Avec l'intuition en place, comprenons maintenant le flux de haut niveau de l'apprentissage par transfert comme suit:\n"
      ]
    },
    {
      "cell_type": "markdown",
      "metadata": {
        "id": "klCq-ITN-BuL"
      },
      "source": [
        "* 1. Normaliser les images d'entrée, normalisées par la même moyenne et la même déviation standard qui ont été utilisées lors de l'apprentissage du mode pré-entraîné.\n",
        "\n",
        "* 2. Récupérez l'architecture des modèles pré-entraînés. Récupérer les pondérations de cette architecture résultant de l'entraînement sur un grand ensemble de données\n",
        "\n",
        "* 3. Enlever les dernières couches du modèle pré-entraîné.\n",
        "\n",
        "* 4. Connectez le modèle pré-entraîné tronqué à une couche (ou des couches) fraîchement initialisée où les poids sont initialisés de manière aléatoire. Assurez-vous que la sortie de la dernière couche a autant de neurones que les classes/sorties que nous voudrions prédire.\n",
        "\n",
        "* 5. Assurez-vous que les poids du modèle pré-entraîné ne sont pas entraînables (en d'autres termes, gelés/non mis à jour lors de la rétropropagation), mais que les poids de la couche nouvellement initialisée et les poids connectées à la couche de sortie sont entraînables)\n",
        "\n",
        "   Nous n'entraînons pas les poids du modèle pré-entraîné, car nous supposons que ces poids sont déjà bien appris pour la tâche, et donc exploitons l'apprentissage d'un grand modèle. En résumé, nous apprenons uniquement les couches nouvellement initialisées pour notre petit jeu de données\n",
        "\n",
        "* 6. Mettre à jour les paramètres d'apprentissage sur des époques croissantes pour s'adapter à un modèle"
      ]
    },
    {
      "cell_type": "markdown",
      "metadata": {
        "id": "03eYNcrt_lPb"
      },
      "source": [
        "Maintenant que nous avons une idée de la façon de mettre en œuvre l'apprentissage par transfert, comprenons les différentes architectures, comment elles sont construites et les résultats lorsque nous appliquons l'apprentissage par transfert au cas d'utilisation des chats par rapport aux chiens dans les sections suivantes. Tout d'abord, nous couvrirons en détail certaines des différentes architectures issues de VGG"
      ]
    },
    {
      "cell_type": "markdown",
      "metadata": {
        "id": "zJ30FJsX_whe"
      },
      "source": [
        "## Understanding VGG16 architecture\n",
        "\n",
        "VGG signifie Visual Geometry Group, qui est basé à l'Université d'Oxford, et 16 signifie le nombre de couches dans le modèle. Le modèle VGG16 est entraîné à classer les objets dans le concours ImageNet et s'est classé deuxième architecture en 2014. La raison pour laquelle nous étudions cette architecture au lieu de l'architecture gagnante (GoogleNet) est sa simplicité et une plus grande acceptation dans la communauté de vision en l'utilisant. dans plusieurs autres tâches. Comprenons l'architecture de VGG16 ainsi que la façon dont un modèle pré-entraîné VGG16 est accessible et représenté dans PyTorch"
      ]
    },
    {
      "cell_type": "code",
      "metadata": {
        "id": "TqK6UNPfAgqx"
      },
      "source": [
        "import torchvision\n",
        "import torch.nn as nn\n",
        "import torch\n",
        "import torch.nn.functional as F\n",
        "from torchvision import transforms,models,datasets\n",
        "import matplotlib.pyplot as plt\n",
        "from PIL import Image\n",
        "import numpy as np\n",
        "from torch import optim\n",
        "device = 'cuda' if torch.cuda.is_available() else 'cpu'\n",
        "import cv2, glob, numpy as np, pandas as pd\n",
        "import matplotlib.pyplot as plt\n",
        "from glob import glob\n",
        "import torchvision.transforms as transforms\n",
        "from torch.utils.data import DataLoader, Dataset"
      ],
      "execution_count": null,
      "outputs": []
    },
    {
      "cell_type": "markdown",
      "metadata": {
        "id": "eEvSptkmAou1"
      },
      "source": [
        "Chargez le modèle VGG16 et enregistrez le modèle dans l'appareil "
      ]
    },
    {
      "cell_type": "code",
      "metadata": {
        "colab": {
          "base_uri": "https://localhost:8080/",
          "height": 66,
          "referenced_widgets": [
            "fee336e7a0f34d3ba0b5370795ef2509",
            "2f8f43486c064e4da2a2955592afb884",
            "b6bcd151940f4064865c1ac225122f37",
            "723b7053f2cc472899f9c1b6e78a4b48",
            "bba21176e33a4537a1602597bdc09825",
            "47461e51ea5b4e4e8b1c2f9426caa8de",
            "447c452c01d84d6fac9331b5d2106819",
            "acdb4c20fd99464a99ef7a4f873b5789",
            "39f325e1b24741acbe33f5c639872a45",
            "182c99284cf84e779e72ba9194a30601",
            "97240b5d6237408b872e19350d69ea0a"
          ]
        },
        "id": "vjNNKkMZAx8L",
        "outputId": "824b5b3f-e019-4d4d-d09c-02def979cc43"
      },
      "source": [
        "model = models.vgg16(pretrained=True).to(device)"
      ],
      "execution_count": null,
      "outputs": [
        {
          "output_type": "stream",
          "name": "stderr",
          "text": [
            "Downloading: \"https://download.pytorch.org/models/vgg16-397923af.pth\" to /root/.cache/torch/hub/checkpoints/vgg16-397923af.pth\n"
          ]
        },
        {
          "output_type": "display_data",
          "data": {
            "application/vnd.jupyter.widget-view+json": {
              "model_id": "fee336e7a0f34d3ba0b5370795ef2509",
              "version_minor": 0,
              "version_major": 2
            },
            "text/plain": [
              "  0%|          | 0.00/528M [00:00<?, ?B/s]"
            ]
          },
          "metadata": {}
        }
      ]
    },
    {
      "cell_type": "markdown",
      "metadata": {
        "id": "J2XoOKYYA3L6"
      },
      "source": [
        "Dans le code précédent, nous avons appelé la méthode vgg16 au sein de la classe models. De plus, en mentionnant pretrained = True, nous spécifions que nous chargeons les poids qui ont été utilisés pour classer les images dans le concours ImageNet.\n",
        "\n",
        "Récupérez le résumé du modèle:"
      ]
    },
    {
      "cell_type": "code",
      "metadata": {
        "colab": {
          "base_uri": "https://localhost:8080/"
        },
        "id": "p1rBW_6IBFo-",
        "outputId": "69e8b372-46c1-4b73-86d6-5217b627df71"
      },
      "source": [
        "from torchsummary import summary\n",
        "device = torch.device('cuda' if torch.cuda.is_available() else 'cpu')\n",
        "model.to(device)\n",
        "\n",
        "summary(model, (3,224,224))"
      ],
      "execution_count": null,
      "outputs": [
        {
          "output_type": "stream",
          "name": "stdout",
          "text": [
            "----------------------------------------------------------------\n",
            "        Layer (type)               Output Shape         Param #\n",
            "================================================================\n",
            "            Conv2d-1         [-1, 64, 224, 224]           1,792\n",
            "              ReLU-2         [-1, 64, 224, 224]               0\n",
            "            Conv2d-3         [-1, 64, 224, 224]          36,928\n",
            "              ReLU-4         [-1, 64, 224, 224]               0\n",
            "         MaxPool2d-5         [-1, 64, 112, 112]               0\n",
            "            Conv2d-6        [-1, 128, 112, 112]          73,856\n",
            "              ReLU-7        [-1, 128, 112, 112]               0\n",
            "            Conv2d-8        [-1, 128, 112, 112]         147,584\n",
            "              ReLU-9        [-1, 128, 112, 112]               0\n",
            "        MaxPool2d-10          [-1, 128, 56, 56]               0\n",
            "           Conv2d-11          [-1, 256, 56, 56]         295,168\n",
            "             ReLU-12          [-1, 256, 56, 56]               0\n",
            "           Conv2d-13          [-1, 256, 56, 56]         590,080\n",
            "             ReLU-14          [-1, 256, 56, 56]               0\n",
            "           Conv2d-15          [-1, 256, 56, 56]         590,080\n",
            "             ReLU-16          [-1, 256, 56, 56]               0\n",
            "        MaxPool2d-17          [-1, 256, 28, 28]               0\n",
            "           Conv2d-18          [-1, 512, 28, 28]       1,180,160\n",
            "             ReLU-19          [-1, 512, 28, 28]               0\n",
            "           Conv2d-20          [-1, 512, 28, 28]       2,359,808\n",
            "             ReLU-21          [-1, 512, 28, 28]               0\n",
            "           Conv2d-22          [-1, 512, 28, 28]       2,359,808\n",
            "             ReLU-23          [-1, 512, 28, 28]               0\n",
            "        MaxPool2d-24          [-1, 512, 14, 14]               0\n",
            "           Conv2d-25          [-1, 512, 14, 14]       2,359,808\n",
            "             ReLU-26          [-1, 512, 14, 14]               0\n",
            "           Conv2d-27          [-1, 512, 14, 14]       2,359,808\n",
            "             ReLU-28          [-1, 512, 14, 14]               0\n",
            "           Conv2d-29          [-1, 512, 14, 14]       2,359,808\n",
            "             ReLU-30          [-1, 512, 14, 14]               0\n",
            "        MaxPool2d-31            [-1, 512, 7, 7]               0\n",
            "AdaptiveAvgPool2d-32            [-1, 512, 7, 7]               0\n",
            "           Linear-33                 [-1, 4096]     102,764,544\n",
            "             ReLU-34                 [-1, 4096]               0\n",
            "          Dropout-35                 [-1, 4096]               0\n",
            "           Linear-36                 [-1, 4096]      16,781,312\n",
            "             ReLU-37                 [-1, 4096]               0\n",
            "          Dropout-38                 [-1, 4096]               0\n",
            "           Linear-39                 [-1, 1000]       4,097,000\n",
            "================================================================\n",
            "Total params: 138,357,544\n",
            "Trainable params: 138,357,544\n",
            "Non-trainable params: 0\n",
            "----------------------------------------------------------------\n",
            "Input size (MB): 0.57\n",
            "Forward/backward pass size (MB): 218.78\n",
            "Params size (MB): 527.79\n",
            "Estimated Total Size (MB): 747.15\n",
            "----------------------------------------------------------------\n"
          ]
        }
      ]
    },
    {
      "cell_type": "markdown",
      "metadata": {
        "id": "XHCcra1BCmom"
      },
      "source": [
        "\n",
        "A noter qu'il y a ~138 millions de paramètres (dont ~122 millions de couches linéaires en bout de réseau – 102 + 16 + 4 millions de paramètres) dans ce réseau, qui comprend 13 couches de convolution et/ou de mutualisation, avec un nombre croissant de filtres et 3 couches linéaires"
      ]
    },
    {
      "cell_type": "markdown",
      "metadata": {
        "id": "_wDIstrdDP0q"
      },
      "source": [
        "Une autre façon de comprendre les composants du modèle VGG16 consiste simplement à l'imprimer comme suit :"
      ]
    },
    {
      "cell_type": "code",
      "metadata": {
        "colab": {
          "base_uri": "https://localhost:8080/"
        },
        "id": "0awrZsOTDSk6",
        "outputId": "02a3fcc7-7c63-4910-d47a-01870baf3030"
      },
      "source": [
        "model"
      ],
      "execution_count": null,
      "outputs": [
        {
          "output_type": "execute_result",
          "data": {
            "text/plain": [
              "VGG(\n",
              "  (features): Sequential(\n",
              "    (0): Conv2d(3, 64, kernel_size=(3, 3), stride=(1, 1), padding=(1, 1))\n",
              "    (1): ReLU(inplace=True)\n",
              "    (2): Conv2d(64, 64, kernel_size=(3, 3), stride=(1, 1), padding=(1, 1))\n",
              "    (3): ReLU(inplace=True)\n",
              "    (4): MaxPool2d(kernel_size=2, stride=2, padding=0, dilation=1, ceil_mode=False)\n",
              "    (5): Conv2d(64, 128, kernel_size=(3, 3), stride=(1, 1), padding=(1, 1))\n",
              "    (6): ReLU(inplace=True)\n",
              "    (7): Conv2d(128, 128, kernel_size=(3, 3), stride=(1, 1), padding=(1, 1))\n",
              "    (8): ReLU(inplace=True)\n",
              "    (9): MaxPool2d(kernel_size=2, stride=2, padding=0, dilation=1, ceil_mode=False)\n",
              "    (10): Conv2d(128, 256, kernel_size=(3, 3), stride=(1, 1), padding=(1, 1))\n",
              "    (11): ReLU(inplace=True)\n",
              "    (12): Conv2d(256, 256, kernel_size=(3, 3), stride=(1, 1), padding=(1, 1))\n",
              "    (13): ReLU(inplace=True)\n",
              "    (14): Conv2d(256, 256, kernel_size=(3, 3), stride=(1, 1), padding=(1, 1))\n",
              "    (15): ReLU(inplace=True)\n",
              "    (16): MaxPool2d(kernel_size=2, stride=2, padding=0, dilation=1, ceil_mode=False)\n",
              "    (17): Conv2d(256, 512, kernel_size=(3, 3), stride=(1, 1), padding=(1, 1))\n",
              "    (18): ReLU(inplace=True)\n",
              "    (19): Conv2d(512, 512, kernel_size=(3, 3), stride=(1, 1), padding=(1, 1))\n",
              "    (20): ReLU(inplace=True)\n",
              "    (21): Conv2d(512, 512, kernel_size=(3, 3), stride=(1, 1), padding=(1, 1))\n",
              "    (22): ReLU(inplace=True)\n",
              "    (23): MaxPool2d(kernel_size=2, stride=2, padding=0, dilation=1, ceil_mode=False)\n",
              "    (24): Conv2d(512, 512, kernel_size=(3, 3), stride=(1, 1), padding=(1, 1))\n",
              "    (25): ReLU(inplace=True)\n",
              "    (26): Conv2d(512, 512, kernel_size=(3, 3), stride=(1, 1), padding=(1, 1))\n",
              "    (27): ReLU(inplace=True)\n",
              "    (28): Conv2d(512, 512, kernel_size=(3, 3), stride=(1, 1), padding=(1, 1))\n",
              "    (29): ReLU(inplace=True)\n",
              "    (30): MaxPool2d(kernel_size=2, stride=2, padding=0, dilation=1, ceil_mode=False)\n",
              "  )\n",
              "  (avgpool): AdaptiveAvgPool2d(output_size=(7, 7))\n",
              "  (classifier): Sequential(\n",
              "    (0): Linear(in_features=25088, out_features=4096, bias=True)\n",
              "    (1): ReLU(inplace=True)\n",
              "    (2): Dropout(p=0.5, inplace=False)\n",
              "    (3): Linear(in_features=4096, out_features=4096, bias=True)\n",
              "    (4): ReLU(inplace=True)\n",
              "    (5): Dropout(p=0.5, inplace=False)\n",
              "    (6): Linear(in_features=4096, out_features=1000, bias=True)\n",
              "  )\n",
              ")"
            ]
          },
          "metadata": {},
          "execution_count": 18
        }
      ]
    },
    {
      "cell_type": "markdown",
      "metadata": {
        "id": "IFor35DqDVvW"
      },
      "source": [
        "Notez qu'il existe trois sous-modules principaux dans le modèle : features, avgpool et classifier. En règle générale, nous gelerions les fonctionnalités et les modules avgpool. Supprimez le module de classification (ou seulement quelques couches en bas) et créez-en un nouveau à sa place qui prédira le nombre requis de classes correspondant à notre ensemble de données (au lieu des 1 000 existants)\n",
        "\n",
        "\n",
        "Comprenons maintenant comment le modèle VGG16 est utilisé dans la pratique, en utilisant le jeu de données cats versus dogs (en considérant seulement 500 images dans chaque classe pour l'entraînement) dans le code suivant :"
      ]
    },
    {
      "cell_type": "code",
      "metadata": {
        "id": "BXqLLFi2QWCh"
      },
      "source": [
        "import torchvision\n",
        "import torch.nn as nn\n",
        "import torch\n",
        "import torch.nn.functional as F\n",
        "from torchvision import transforms,models,datasets\n",
        "import matplotlib.pyplot as plt\n",
        "from PIL import Image\n",
        "import numpy as np\n",
        "from torch import optim\n",
        "device = 'cuda' if torch.cuda.is_available() else 'cpu'\n",
        "import cv2, glob, numpy as np, pandas as pd\n",
        "import matplotlib.pyplot as plt\n",
        "from glob import glob\n",
        "import torchvision.transforms as transforms\n",
        "from torch.utils.data import DataLoader, Dataset"
      ],
      "execution_count": null,
      "outputs": []
    },
    {
      "cell_type": "markdown",
      "metadata": {
        "id": "Xpmey-X9RGfi"
      },
      "source": [
        "Téléchargez le jeu de données. Comme nous travaillons sur GoogleColab, nous effectuons les étapes suivantes, où nous fournissons la clé d'authentification et la plaçons dans un emplacement où Kaggle peut utiliser la clé pour nous authentifier et télécharger l'ensemble de données."
      ]
    },
    {
      "cell_type": "code",
      "metadata": {
        "id": "VXpqN1slWDEQ"
      },
      "source": [
        "from google.colab import files\n",
        "#files.upload()"
      ],
      "execution_count": 5,
      "outputs": []
    },
    {
      "cell_type": "code",
      "metadata": {
        "colab": {
          "base_uri": "https://localhost:8080/"
        },
        "id": "hgtgmzghQXAe",
        "outputId": "8c3c5725-9bcc-4fdb-e7de-894d0ad713b6"
      },
      "source": [
        "\n",
        "!pip install -q kaggle\n",
        "!mkdir -p ~/.kaggle\n",
        "!cp kaggle.json ~/.kaggle/\n",
        "!ls ~/.kaggle\n",
        "!chmod 600 /root/.kaggle/kaggle.json"
      ],
      "execution_count": 6,
      "outputs": [
        {
          "output_type": "stream",
          "name": "stdout",
          "text": [
            "kaggle.json\n"
          ]
        }
      ]
    },
    {
      "cell_type": "code",
      "metadata": {
        "id": "YUGgDLLLQcIz"
      },
      "source": [
        "#!kaggle datasets download -d tongpython/cat-and-dog\n",
        "#!unzip cat-and-dog.zip"
      ],
      "execution_count": 8,
      "outputs": []
    },
    {
      "cell_type": "markdown",
      "metadata": {
        "id": "Qomf6n_fQ_xq"
      },
      "source": [
        "Spécifiez les dossiers d'images d'entraînement et de test"
      ]
    },
    {
      "cell_type": "code",
      "metadata": {
        "id": "hsV0f-jCQemG"
      },
      "source": [
        "train_data_dir = 'training_set/training_set'\n",
        "test_data_dir = 'test_set/test_set'"
      ],
      "execution_count": 9,
      "outputs": []
    },
    {
      "cell_type": "markdown",
      "metadata": {
        "id": "DdH-3CCzQ1kt"
      },
      "source": [
        "Fournissez la classe qui renvoie les paires entrée-sortie pour l'ensemble de données chats et chiens. Notez que, dans ce cas, nous récupérons uniquement les 500 premières images de chaque dossier"
      ]
    },
    {
      "cell_type": "code",
      "metadata": {
        "id": "ZrjpGiSRQhB5"
      },
      "source": [
        "class CatsDogs(Dataset):\n",
        "    def __init__(self, folder):\n",
        "        cats = glob(folder+'/cats/*.jpg')\n",
        "        dogs = glob(folder+'/dogs/*.jpg')\n",
        "        self.fpaths = cats[:500] + dogs[:500]\n",
        "        self.normalize = transforms.Normalize(mean=[0.485, 0.456, 0.406],std=[0.229, 0.224, 0.225])\n",
        "        from random import shuffle, seed; seed(10); shuffle(self.fpaths)\n",
        "        self.targets = [fpath.split('/')[-1].startswith('dog') for fpath in self.fpaths] \n",
        "    def __len__(self): return len(self.fpaths)\n",
        "    def __getitem__(self, ix):\n",
        "        f = self.fpaths[ix]\n",
        "        target = self.targets[ix]\n",
        "        im = (cv2.imread(f)[:,:,::-1])\n",
        "        im = cv2.resize(im, (224,224))\n",
        "        im = torch.tensor(im/255)\n",
        "        im = im.permute(2,0,1)\n",
        "        im = self.normalize(im) \n",
        "        return im.float().to(device), torch.tensor([target]).float().to(device)"
      ],
      "execution_count": 10,
      "outputs": []
    },
    {
      "cell_type": "markdown",
      "metadata": {
        "id": "rxlJ65sQRgJc"
      },
      "source": [
        "Tout en tirant parti des modèles pré-entraînés, il est obligatoire de redimensionner, de permuter, puis de normaliser les images (selon ce qui convient à ce modèle pré-entraîné), où les images sont d'abord mises à l'échelle à une valeur comprise entre 0 et 1 sur les 3 canaux, puis normalisées à une moyenne de [0,485, 0,456, 0,406] et un écart type de [0,229, 0,224, 0,225] sur les canaux RGB"
      ]
    },
    {
      "cell_type": "markdown",
      "metadata": {
        "id": "vfy5t5ZVRuLr"
      },
      "source": [
        "Récupérer les images et leurs étiquettes"
      ]
    },
    {
      "cell_type": "code",
      "metadata": {
        "id": "DhSRLx-rRvDx"
      },
      "source": [
        "data = CatsDogs(train_data_dir)"
      ],
      "execution_count": 11,
      "outputs": []
    },
    {
      "cell_type": "markdown",
      "metadata": {
        "id": "-xEJlFOgR2zw"
      },
      "source": [
        "Inspectons maintenant un exemple d'image et sa classe correspondante :"
      ]
    },
    {
      "cell_type": "code",
      "metadata": {
        "id": "RCB2Z9ABR4WW",
        "colab": {
          "base_uri": "https://localhost:8080/",
          "height": 303
        },
        "outputId": "f9c1baeb-cfa6-4e2f-ebe6-90355fafb6a0"
      },
      "source": [
        "im, label = data[200]\n",
        "plt.imshow(im.permute(1,2,0).cpu())\n",
        "print(label)"
      ],
      "execution_count": 12,
      "outputs": [
        {
          "output_type": "stream",
          "name": "stderr",
          "text": [
            "Clipping input data to the valid range for imshow with RGB data ([0..1] for floats or [0..255] for integers).\n"
          ]
        },
        {
          "output_type": "stream",
          "name": "stdout",
          "text": [
            "tensor([0.], device='cuda:0')\n"
          ]
        },
        {
          "output_type": "display_data",
          "data": {
            "image/png": "[encoded data removed]",
            "text/plain": [
              "<Figure size 432x288 with 1 Axes>"
            ]
          },
          "metadata": {
            "needs_background": "light"
          }
        }
      ]
    },
    {
      "cell_type": "markdown",
      "metadata": {
        "id": "RJyogeBvSD_l"
      },
      "source": [
        "Définir le modèle. Téléchargez les poids VGG16 pré-entraînés, puis figez le module de fonctionnalités et entraînez-vous à l'aide des modules avgpool et classifier :"
      ]
    },
    {
      "cell_type": "code",
      "metadata": {
        "id": "f4vKJ4BESP1o"
      },
      "source": [
        "def get_model():\n",
        "\n",
        "    # Tout d'abord, nous téléchargeons le modèle VGG16 pré-entraîné à partir de la classe models\n",
        "    model = models.vgg16(pretrained=True)\n",
        "\n",
        "    # Précisez que l'on veut figer tous les paramètres dans le modèle téléchargé précédemment\n",
        "    for param in model.parameters():\n",
        "        param.requires_grad = False\n",
        "    # Remplacez le module avgpool pour renvoyer une carte de fonctionnalités de taille 1 x 1 au lieu de 7 x 7, en d'autres termes, la sortie va maintenant être bebatch_size x 512 x 1 x 1\n",
        "    model.avgpool = nn.AdaptiveAvgPool2d(output_size=(1,1))\n",
        "\n",
        "    # Définir le module classificateur du modèle, où nous aplatissons d'abord la sortie du module avgpool,\n",
        "    # connectons les 512 unités aux 128 unités et effectuons une activation avant de se connecter à la couche de sortie\n",
        "\n",
        "    model.classifier = nn.Sequential(nn.Flatten(),\n",
        "    nn.Linear(512, 128),\n",
        "    nn.ReLU(),\n",
        "    nn.Dropout(0.2),\n",
        "    nn.Linear(128, 1),\n",
        "    nn.Sigmoid())\n",
        "\n",
        "    # Définir la fonction de perte (loss_fn), l'optimiseur et les renvoyer avec le modèle défini\n",
        "    loss_fn = nn.BCELoss()\n",
        "    optimizer = torch.optim.Adam(model.parameters(), lr= 1e-3)\n",
        "    return model.to(device), loss_fn, optimizer"
      ],
      "execution_count": 13,
      "outputs": []
    },
    {
      "cell_type": "markdown",
      "metadata": {
        "id": "0UwPA2BOS_SM"
      },
      "source": [
        "Nous avons vu nn.MaxPool2d, où nous choisissons la valeur maximale de chaque section d'une carte de caractéristiques. Il existe une contrepartie à cette couche appelée nn.AvgPool2d, qui renvoie la moyenne d'une section au lieu du maximum. Dans ces deux couches, nous fixons la taille du noyau. La couche ci-dessus, nn.AdaptiveAvgPool2d, est encore une autre couche de Pooling. Nous spécifions à la place la taille de la carte de caractéristiques de sortie. La couche calcule automatiquement les tailles de noyau afin que la taille de carte d'entités spécifiée soit renvoyée. Par exemple, si les dimensions de la taille de la carte des caractéristiques d'entrée étaient batch_size x 512 x kx k, alors la taille du noyau de regroupement sera k x k. Le principal avantage de cette couche est que quelle que soit la taille de l'entrée, la sortie de cette couche est toujours fixe et, par conséquent, le réseau de neurones peut accepter des images de n'importe quelle hauteur et largeur."
      ]
    },
    {
      "cell_type": "markdown",
      "metadata": {
        "id": "zitlqARKT-xY"
      },
      "source": [
        "Notez que dans le code précédent, nous avons d'abord gelé tous les paramètres du modèle pré-entraîné et avons ensuite écrasé les modules avgpool et classifier. Maintenant, le reste du code va ressembler à ce que nous avons vu dans la section précédente"
      ]
    },
    {
      "cell_type": "code",
      "metadata": {
        "id": "BCH85sy4UJ-G",
        "colab": {
          "base_uri": "https://localhost:8080/",
          "height": 987,
          "referenced_widgets": [
            "ce8caf6cd2214e7faf5c7170363c6801",
            "35d134709a76456d8581096e5054dc2b",
            "aa7bacdca2d14714add18f6ff20fba0b",
            "41020f956db34c499cb55336bab44d87",
            "84b6d6c748fa4641b318a2d386548c56",
            "f90b06af83614bb58e5a0834c9ec3bb9",
            "04ca9419bfe04fb5a25abd556d842426",
            "e8ecc4eeae82425b8cebb579a3261079",
            "a57c8cdb46d748c09b5c12d2565c49e6",
            "fa814fee5c0047b387de606431a886a6",
            "aca63617220e4524bab7eadbeb5c9fd9"
          ]
        },
        "outputId": "0867849b-4d2e-4668-8813-307ee75e1887"
      },
      "source": [
        "from torchsummary import summary\n",
        "model, criterion, optimizer = get_model()\n",
        "summary(model, (3,224,224))"
      ],
      "execution_count": 14,
      "outputs": [
        {
          "output_type": "stream",
          "name": "stderr",
          "text": [
            "Downloading: \"https://download.pytorch.org/models/vgg16-397923af.pth\" to /root/.cache/torch/hub/checkpoints/vgg16-397923af.pth\n"
          ]
        },
        {
          "output_type": "display_data",
          "data": {
            "application/vnd.jupyter.widget-view+json": {
              "model_id": "ce8caf6cd2214e7faf5c7170363c6801",
              "version_minor": 0,
              "version_major": 2
            },
            "text/plain": [
              "  0%|          | 0.00/528M [00:00<?, ?B/s]"
            ]
          },
          "metadata": {}
        },
        {
          "output_type": "stream",
          "name": "stdout",
          "text": [
            "----------------------------------------------------------------\n",
            "        Layer (type)               Output Shape         Param #\n",
            "================================================================\n",
            "            Conv2d-1         [-1, 64, 224, 224]           1,792\n",
            "              ReLU-2         [-1, 64, 224, 224]               0\n",
            "            Conv2d-3         [-1, 64, 224, 224]          36,928\n",
            "              ReLU-4         [-1, 64, 224, 224]               0\n",
            "         MaxPool2d-5         [-1, 64, 112, 112]               0\n",
            "            Conv2d-6        [-1, 128, 112, 112]          73,856\n",
            "              ReLU-7        [-1, 128, 112, 112]               0\n",
            "            Conv2d-8        [-1, 128, 112, 112]         147,584\n",
            "              ReLU-9        [-1, 128, 112, 112]               0\n",
            "        MaxPool2d-10          [-1, 128, 56, 56]               0\n",
            "           Conv2d-11          [-1, 256, 56, 56]         295,168\n",
            "             ReLU-12          [-1, 256, 56, 56]               0\n",
            "           Conv2d-13          [-1, 256, 56, 56]         590,080\n",
            "             ReLU-14          [-1, 256, 56, 56]               0\n",
            "           Conv2d-15          [-1, 256, 56, 56]         590,080\n",
            "             ReLU-16          [-1, 256, 56, 56]               0\n",
            "        MaxPool2d-17          [-1, 256, 28, 28]               0\n",
            "           Conv2d-18          [-1, 512, 28, 28]       1,180,160\n",
            "             ReLU-19          [-1, 512, 28, 28]               0\n",
            "           Conv2d-20          [-1, 512, 28, 28]       2,359,808\n",
            "             ReLU-21          [-1, 512, 28, 28]               0\n",
            "           Conv2d-22          [-1, 512, 28, 28]       2,359,808\n",
            "             ReLU-23          [-1, 512, 28, 28]               0\n",
            "        MaxPool2d-24          [-1, 512, 14, 14]               0\n",
            "           Conv2d-25          [-1, 512, 14, 14]       2,359,808\n",
            "             ReLU-26          [-1, 512, 14, 14]               0\n",
            "           Conv2d-27          [-1, 512, 14, 14]       2,359,808\n",
            "             ReLU-28          [-1, 512, 14, 14]               0\n",
            "           Conv2d-29          [-1, 512, 14, 14]       2,359,808\n",
            "             ReLU-30          [-1, 512, 14, 14]               0\n",
            "        MaxPool2d-31            [-1, 512, 7, 7]               0\n",
            "AdaptiveAvgPool2d-32            [-1, 512, 1, 1]               0\n",
            "          Flatten-33                  [-1, 512]               0\n",
            "           Linear-34                  [-1, 128]          65,664\n",
            "             ReLU-35                  [-1, 128]               0\n",
            "          Dropout-36                  [-1, 128]               0\n",
            "           Linear-37                    [-1, 1]             129\n",
            "          Sigmoid-38                    [-1, 1]               0\n",
            "================================================================\n",
            "Total params: 14,780,481\n",
            "Trainable params: 65,793\n",
            "Non-trainable params: 14,714,688\n",
            "----------------------------------------------------------------\n",
            "Input size (MB): 0.57\n",
            "Forward/backward pass size (MB): 218.41\n",
            "Params size (MB): 56.38\n",
            "Estimated Total Size (MB): 275.36\n",
            "----------------------------------------------------------------\n"
          ]
        },
        {
          "output_type": "stream",
          "name": "stderr",
          "text": [
            "/usr/local/lib/python3.7/dist-packages/torch/nn/functional.py:718: UserWarning: Named tensors and all their associated APIs are an experimental feature and subject to change. Please do not use them for anything important until they are released as stable. (Triggered internally at  /pytorch/c10/core/TensorImpl.h:1156.)\n",
            "  return torch.max_pool2d(input, kernel_size, stride, padding, dilation, ceil_mode)\n"
          ]
        }
      ]
    },
    {
      "cell_type": "markdown",
      "metadata": {
        "id": "uzarw5BfUUab"
      },
      "source": [
        "\n",
        "Entraînez-vous sur un lot de données"
      ]
    },
    {
      "cell_type": "code",
      "metadata": {
        "id": "tQgkjHDqUT4Y"
      },
      "source": [
        "def train_batch(x, y, model, opt, loss_fn):\n",
        "    model.train()\n",
        "    prediction = model(x)\n",
        "    batch_loss = loss_fn(prediction, y)\n",
        "    batch_loss.backward()\n",
        "    optimizer.step()\n",
        "    optimizer.zero_grad()\n",
        "    return batch_loss.item()"
      ],
      "execution_count": 15,
      "outputs": []
    },
    {
      "cell_type": "markdown",
      "metadata": {
        "id": "K5soCfCgUiE7"
      },
      "source": [
        "Définir une fonction pour calculer la précision sur un lot de données"
      ]
    },
    {
      "cell_type": "code",
      "metadata": {
        "id": "ckyLXMfhUmOf"
      },
      "source": [
        "\n",
        "@torch.no_grad()\n",
        "def accuracy(x, y, model):\n",
        "    model.eval()\n",
        "    prediction = model(x)\n",
        "    is_correct = (prediction > 0.5) == y\n",
        "    return is_correct.cpu().numpy().tolist()"
      ],
      "execution_count": 16,
      "outputs": []
    },
    {
      "cell_type": "markdown",
      "metadata": {
        "id": "jyIbWu6WUyJJ"
      },
      "source": [
        "Définir une fonction pour récupérer les chargeurs de données"
      ]
    },
    {
      "cell_type": "code",
      "metadata": {
        "id": "LGWzP33RU1Cx"
      },
      "source": [
        "def get_data():\n",
        "    train = CatsDogs(train_data_dir)\n",
        "    trn_dl = DataLoader(train, batch_size=32, shuffle=True, drop_last = True)\n",
        "    val = CatsDogs(test_data_dir)\n",
        "    val_dl = DataLoader(val, batch_size=32, shuffle=True, drop_last = True)\n",
        "    return trn_dl, val_dl"
      ],
      "execution_count": 17,
      "outputs": []
    },
    {
      "cell_type": "markdown",
      "metadata": {
        "id": "1S9rhCiRU-dS"
      },
      "source": [
        "Initialiser les fonctions get_data et get_model"
      ]
    },
    {
      "cell_type": "code",
      "metadata": {
        "id": "ZDCRqPLpU_Gz"
      },
      "source": [
        "trn_dl, val_dl = get_data()\n",
        "model, loss_fn, optimizer = get_model()"
      ],
      "execution_count": 18,
      "outputs": []
    },
    {
      "cell_type": "markdown",
      "metadata": {
        "id": "ReoqChueVIdj"
      },
      "source": [
        "Entraîner le modèle"
      ]
    },
    {
      "cell_type": "code",
      "metadata": {
        "id": "25Cud3lXVMCj",
        "colab": {
          "base_uri": "https://localhost:8080/"
        },
        "outputId": "33679d6b-d816-4254-ecc6-ccf2168f00bf"
      },
      "source": [
        "train_losses, train_accuracies = [], []\n",
        "val_accuracies = []\n",
        "for epoch in range(5):\n",
        "    print(f\" epoch {epoch + 1}/5\")\n",
        "    train_epoch_losses, train_epoch_accuracies = [], []\n",
        "    val_epoch_accuracies = []\n",
        "\n",
        "    for ix, batch in enumerate(iter(trn_dl)):\n",
        "        x, y = batch\n",
        "        batch_loss = train_batch(x, y, model, optimizer, loss_fn)\n",
        "        train_epoch_losses.append(batch_loss) \n",
        "    train_epoch_loss = np.array(train_epoch_losses).mean()\n",
        "\n",
        "    for ix, batch in enumerate(iter(trn_dl)):\n",
        "        x, y = batch\n",
        "        is_correct = accuracy(x, y, model)\n",
        "        train_epoch_accuracies.extend(is_correct)\n",
        "    train_epoch_accuracy = np.mean(train_epoch_accuracies)\n",
        "\n",
        "    for ix, batch in enumerate(iter(val_dl)):\n",
        "        x, y = batch\n",
        "        val_is_correct = accuracy(x, y, model)\n",
        "        val_epoch_accuracies.extend(val_is_correct)\n",
        "    val_epoch_accuracy = np.mean(val_epoch_accuracies)\n",
        "\n",
        "    train_losses.append(train_epoch_loss)\n",
        "    train_accuracies.append(train_epoch_accuracy)\n",
        "    val_accuracies.append(val_epoch_accuracy)"
      ],
      "execution_count": 19,
      "outputs": [
        {
          "output_type": "stream",
          "name": "stdout",
          "text": [
            " epoch 1/5\n",
            " epoch 2/5\n",
            " epoch 3/5\n",
            " epoch 4/5\n",
            " epoch 5/5\n"
          ]
        }
      ]
    },
    {
      "cell_type": "markdown",
      "metadata": {
        "id": "lOQDSvuKVTTI"
      },
      "source": [
        "Tracez les valeurs de précision d'entraînement et de test sur chaque epoch"
      ]
    },
    {
      "cell_type": "code",
      "metadata": {
        "id": "5ghnYwhDVdxD",
        "colab": {
          "base_uri": "https://localhost:8080/",
          "height": 310
        },
        "outputId": "fdc274ab-223b-4246-e108-2cb83db1e5a6"
      },
      "source": [
        "epochs = np.arange(5)+1\n",
        "import matplotlib.ticker as mtick\n",
        "import matplotlib.pyplot as plt\n",
        "import matplotlib.ticker as mticker\n",
        "%matplotlib inline\n",
        "plt.plot(epochs, train_accuracies, 'bo', label='Training accuracy')\n",
        "plt.plot(epochs, val_accuracies, 'r', label='Validation accuracy')\n",
        "plt.gca().xaxis.set_major_locator(mticker.MultipleLocator(1))\n",
        "plt.title('Training and validation accuracy with VGG16 \\nand 1K training data points')\n",
        "plt.xlabel('Epochs')\n",
        "plt.ylabel('Accuracy')\n",
        "plt.ylim(0.95,1)\n",
        "plt.gca().set_yticklabels(['{:.0f}%'.format(x*100) for x in plt.gca().get_yticks()]) \n",
        "plt.legend()\n",
        "plt.grid('off')\n",
        "plt.show()"
      ],
      "execution_count": 20,
      "outputs": [
        {
          "output_type": "display_data",
          "data": {
            "image/png": "[encoded data removed]",
            "text/plain": [
              "<Figure size 432x288 with 1 Axes>"
            ]
          },
          "metadata": {
            "needs_background": "light"
          }
        }
      ]
    }
  ]
}