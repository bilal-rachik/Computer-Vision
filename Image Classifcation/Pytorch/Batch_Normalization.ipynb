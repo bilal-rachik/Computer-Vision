{
  "nbformat": 4,
  "nbformat_minor": 0,
  "metadata": {
    "colab": {
      "name": "Batch_Normalization.ipynb",
      "provenance": [],
      "collapsed_sections": []
    },
    "kernelspec": {
      "name": "python3",
      "display_name": "Python 3"
    },
    "language_info": {
      "name": "python"
    },
    "accelerator": "GPU",
    "widgets": {
      "application/vnd.jupyter.widget-state+json": {
        "e71c7dddb0294737acf0838c1ce98b8b": {
          "model_module": "@jupyter-widgets/controls",
          "model_name": "HBoxModel",
          "model_module_version": "1.5.0",
          "state": {
            "_view_name": "HBoxView",
            "_dom_classes": [],
            "_model_name": "HBoxModel",
            "_view_module": "@jupyter-widgets/controls",
            "_model_module_version": "1.5.0",
            "_view_count": null,
            "_view_module_version": "1.5.0",
            "box_style": "",
            "layout": "IPY_MODEL_c55221561ee6476da959951ce682272d",
            "_model_module": "@jupyter-widgets/controls",
            "children": [
              "IPY_MODEL_f55e5df2fbcc41208ed902ff2f3a53e9",
              "IPY_MODEL_3592b0af919b4156afebccc18e2f1766",
              "IPY_MODEL_8c214fe9e33b4391bef95c8eea536cb2"
            ]
          }
        },
        "c55221561ee6476da959951ce682272d": {
          "model_module": "@jupyter-widgets/base",
          "model_name": "LayoutModel",
          "model_module_version": "1.2.0",
          "state": {
            "_view_name": "LayoutView",
            "grid_template_rows": null,
            "right": null,
            "justify_content": null,
            "_view_module": "@jupyter-widgets/base",
            "overflow": null,
            "_model_module_version": "1.2.0",
            "_view_count": null,
            "flex_flow": null,
            "width": null,
            "min_width": null,
            "border": null,
            "align_items": null,
            "bottom": null,
            "_model_module": "@jupyter-widgets/base",
            "top": null,
            "grid_column": null,
            "overflow_y": null,
            "overflow_x": null,
            "grid_auto_flow": null,
            "grid_area": null,
            "grid_template_columns": null,
            "flex": null,
            "_model_name": "LayoutModel",
            "justify_items": null,
            "grid_row": null,
            "max_height": null,
            "align_content": null,
            "visibility": null,
            "align_self": null,
            "height": null,
            "min_height": null,
            "padding": null,
            "grid_auto_rows": null,
            "grid_gap": null,
            "max_width": null,
            "order": null,
            "_view_module_version": "1.2.0",
            "grid_template_areas": null,
            "object_position": null,
            "object_fit": null,
            "grid_auto_columns": null,
            "margin": null,
            "display": null,
            "left": null
          }
        },
        "f55e5df2fbcc41208ed902ff2f3a53e9": {
          "model_module": "@jupyter-widgets/controls",
          "model_name": "HTMLModel",
          "model_module_version": "1.5.0",
          "state": {
            "_view_name": "HTMLView",
            "style": "IPY_MODEL_94fe6c2aaca24cbabc1bdd39397a5ff0",
            "_dom_classes": [],
            "description": "",
            "_model_name": "HTMLModel",
            "placeholder": "​",
            "_view_module": "@jupyter-widgets/controls",
            "_model_module_version": "1.5.0",
            "value": "",
            "_view_count": null,
            "_view_module_version": "1.5.0",
            "description_tooltip": null,
            "_model_module": "@jupyter-widgets/controls",
            "layout": "IPY_MODEL_07c7d61749a64cbdb14eb9a54ef439ed"
          }
        },
        "3592b0af919b4156afebccc18e2f1766": {
          "model_module": "@jupyter-widgets/controls",
          "model_name": "FloatProgressModel",
          "model_module_version": "1.5.0",
          "state": {
            "_view_name": "ProgressView",
            "style": "IPY_MODEL_c83d9d3ab6a2484cbb3d9dbdc385c313",
            "_dom_classes": [],
            "description": "",
            "_model_name": "FloatProgressModel",
            "bar_style": "success",
            "max": 170498071,
            "_view_module": "@jupyter-widgets/controls",
            "_model_module_version": "1.5.0",
            "value": 170498071,
            "_view_count": null,
            "_view_module_version": "1.5.0",
            "orientation": "horizontal",
            "min": 0,
            "description_tooltip": null,
            "_model_module": "@jupyter-widgets/controls",
            "layout": "IPY_MODEL_88bec3c3f42243c5a796a31aa2a9e140"
          }
        },
        "8c214fe9e33b4391bef95c8eea536cb2": {
          "model_module": "@jupyter-widgets/controls",
          "model_name": "HTMLModel",
          "model_module_version": "1.5.0",
          "state": {
            "_view_name": "HTMLView",
            "style": "IPY_MODEL_dc1e316c77fe41098761ca24ee05ab77",
            "_dom_classes": [],
            "description": "",
            "_model_name": "HTMLModel",
            "placeholder": "​",
            "_view_module": "@jupyter-widgets/controls",
            "_model_module_version": "1.5.0",
            "value": " 170499072/? [00:12&lt;00:00, 16085914.26it/s]",
            "_view_count": null,
            "_view_module_version": "1.5.0",
            "description_tooltip": null,
            "_model_module": "@jupyter-widgets/controls",
            "layout": "IPY_MODEL_2692123eb52d43cdb6cd2011ff7eb2a0"
          }
        },
        "94fe6c2aaca24cbabc1bdd39397a5ff0": {
          "model_module": "@jupyter-widgets/controls",
          "model_name": "DescriptionStyleModel",
          "model_module_version": "1.5.0",
          "state": {
            "_view_name": "StyleView",
            "_model_name": "DescriptionStyleModel",
            "description_width": "",
            "_view_module": "@jupyter-widgets/base",
            "_model_module_version": "1.5.0",
            "_view_count": null,
            "_view_module_version": "1.2.0",
            "_model_module": "@jupyter-widgets/controls"
          }
        },
        "07c7d61749a64cbdb14eb9a54ef439ed": {
          "model_module": "@jupyter-widgets/base",
          "model_name": "LayoutModel",
          "model_module_version": "1.2.0",
          "state": {
            "_view_name": "LayoutView",
            "grid_template_rows": null,
            "right": null,
            "justify_content": null,
            "_view_module": "@jupyter-widgets/base",
            "overflow": null,
            "_model_module_version": "1.2.0",
            "_view_count": null,
            "flex_flow": null,
            "width": null,
            "min_width": null,
            "border": null,
            "align_items": null,
            "bottom": null,
            "_model_module": "@jupyter-widgets/base",
            "top": null,
            "grid_column": null,
            "overflow_y": null,
            "overflow_x": null,
            "grid_auto_flow": null,
            "grid_area": null,
            "grid_template_columns": null,
            "flex": null,
            "_model_name": "LayoutModel",
            "justify_items": null,
            "grid_row": null,
            "max_height": null,
            "align_content": null,
            "visibility": null,
            "align_self": null,
            "height": null,
            "min_height": null,
            "padding": null,
            "grid_auto_rows": null,
            "grid_gap": null,
            "max_width": null,
            "order": null,
            "_view_module_version": "1.2.0",
            "grid_template_areas": null,
            "object_position": null,
            "object_fit": null,
            "grid_auto_columns": null,
            "margin": null,
            "display": null,
            "left": null
          }
        },
        "c83d9d3ab6a2484cbb3d9dbdc385c313": {
          "model_module": "@jupyter-widgets/controls",
          "model_name": "ProgressStyleModel",
          "model_module_version": "1.5.0",
          "state": {
            "_view_name": "StyleView",
            "_model_name": "ProgressStyleModel",
            "description_width": "",
            "_view_module": "@jupyter-widgets/base",
            "_model_module_version": "1.5.0",
            "_view_count": null,
            "_view_module_version": "1.2.0",
            "bar_color": null,
            "_model_module": "@jupyter-widgets/controls"
          }
        },
        "88bec3c3f42243c5a796a31aa2a9e140": {
          "model_module": "@jupyter-widgets/base",
          "model_name": "LayoutModel",
          "model_module_version": "1.2.0",
          "state": {
            "_view_name": "LayoutView",
            "grid_template_rows": null,
            "right": null,
            "justify_content": null,
            "_view_module": "@jupyter-widgets/base",
            "overflow": null,
            "_model_module_version": "1.2.0",
            "_view_count": null,
            "flex_flow": null,
            "width": null,
            "min_width": null,
            "border": null,
            "align_items": null,
            "bottom": null,
            "_model_module": "@jupyter-widgets/base",
            "top": null,
            "grid_column": null,
            "overflow_y": null,
            "overflow_x": null,
            "grid_auto_flow": null,
            "grid_area": null,
            "grid_template_columns": null,
            "flex": null,
            "_model_name": "LayoutModel",
            "justify_items": null,
            "grid_row": null,
            "max_height": null,
            "align_content": null,
            "visibility": null,
            "align_self": null,
            "height": null,
            "min_height": null,
            "padding": null,
            "grid_auto_rows": null,
            "grid_gap": null,
            "max_width": null,
            "order": null,
            "_view_module_version": "1.2.0",
            "grid_template_areas": null,
            "object_position": null,
            "object_fit": null,
            "grid_auto_columns": null,
            "margin": null,
            "display": null,
            "left": null
          }
        },
        "dc1e316c77fe41098761ca24ee05ab77": {
          "model_module": "@jupyter-widgets/controls",
          "model_name": "DescriptionStyleModel",
          "model_module_version": "1.5.0",
          "state": {
            "_view_name": "StyleView",
            "_model_name": "DescriptionStyleModel",
            "description_width": "",
            "_view_module": "@jupyter-widgets/base",
            "_model_module_version": "1.5.0",
            "_view_count": null,
            "_view_module_version": "1.2.0",
            "_model_module": "@jupyter-widgets/controls"
          }
        },
        "2692123eb52d43cdb6cd2011ff7eb2a0": {
          "model_module": "@jupyter-widgets/base",
          "model_name": "LayoutModel",
          "model_module_version": "1.2.0",
          "state": {
            "_view_name": "LayoutView",
            "grid_template_rows": null,
            "right": null,
            "justify_content": null,
            "_view_module": "@jupyter-widgets/base",
            "overflow": null,
            "_model_module_version": "1.2.0",
            "_view_count": null,
            "flex_flow": null,
            "width": null,
            "min_width": null,
            "border": null,
            "align_items": null,
            "bottom": null,
            "_model_module": "@jupyter-widgets/base",
            "top": null,
            "grid_column": null,
            "overflow_y": null,
            "overflow_x": null,
            "grid_auto_flow": null,
            "grid_area": null,
            "grid_template_columns": null,
            "flex": null,
            "_model_name": "LayoutModel",
            "justify_items": null,
            "grid_row": null,
            "max_height": null,
            "align_content": null,
            "visibility": null,
            "align_self": null,
            "height": null,
            "min_height": null,
            "padding": null,
            "grid_auto_rows": null,
            "grid_gap": null,
            "max_width": null,
            "order": null,
            "_view_module_version": "1.2.0",
            "grid_template_areas": null,
            "object_position": null,
            "object_fit": null,
            "grid_auto_columns": null,
            "margin": null,
            "display": null,
            "left": null
          }
        }
      }
    }
  },
  "cells": [
    {
      "cell_type": "markdown",
      "metadata": {
        "id": "QMEmuoWTxxXp"
      },
      "source": [
        "# Batch Normalization\n",
        "\n",
        "Il est courant de normaliser la couche d'entrée dans le but d'accélérer l'apprentissage, ainsi que d'améliorer les performances en redimensionnant toutes les fonctionnalités à la même échelle. Donc, la question est, si le modèle bénéficie de la normalisation de la couche d'entrée, pourquoi ne pas normaliser la sortie de toutes les couches cachées pour tenter d'améliorer encore plus la vitesse d'entraînement ?\n",
        "\n",
        "La normalisation par lots, comme son nom l'indique, normalise les sorties des couches cachées afin de réduire la variance de chaque couche, également appelée décalage de covariance. Cette réduction du décalage de covariance est utile car elle permet au modèle de bien fonctionner également sur des images qui suivent une distribution différente de celle des images utilisées pour l'entraîner.\n",
        "\n",
        "Prenons, par exemple, un réseau qui a pour but de détecter si un animal est un chat. Lorsque le réseau est entraîné uniquement à l'aide d'images de chats noirs, la normalisation par lots peut aider le réseau à classer également de nouvelles images de chats de couleurs différentes en normalisant les données de sorte que les images de chat noir et coloré suivent une distribution similaire.\n",
        "\n",
        "De plus, la normalisation par lots présente les avantages suivants au processus de formation du modèle, ce qui vous aide finalement à arriver à un modèle plus performant:\n",
        "\n",
        "* Il permet de définir un taux d'apprentissage plus élevé, car la normalisation par lots permet de s'assurer qu'aucune des sorties n'est trop élevée ou trop faible. Un taux d'apprentissage plus élevé équivaut à des temps d'apprentissage plus rapides\n",
        "\n",
        "* Il permet de réduire le surdébit car il a un effet de régularisation. Cela permet de définir la probabilité d'abandon sur une valeur inférieure, ce qui signifie que moins d'informations sont ignorées à chaque passage en avant.\n",
        "\n",
        "Comme nous l'avons expliqué dans les sections précédentes, la normalisation de la sortie d'une couche cachée se fait en soustrayant la moyenne du lot et en divisant par l'écart type du lot.\n",
        "\n",
        "De plus, la normalisation par lots est généralement effectuée sur les couches convolutives, ainsi que les couches FC (à l'exclusion de la couche de sortie)"
      ]
    },
    {
      "cell_type": "markdown",
      "metadata": {
        "id": "qe4_X9IUzGUj"
      },
      "source": [
        "## Batch Normalization with PyTorch\n",
        "\n",
        "Dans PyTorch, l'ajout de la normalisation par lots est aussi simple que l'ajout d'une nouvelle couche à l'architecture du réseau, étant donné qu'il existe deux types différents, comme expliqué ici\n",
        "\n",
        " * **BatchNorm1d** : cette couche est utilisée pour implémenter la normalisation par lots sur une entrée bidimensionnelle ou tridimensionnelle. Il reçoit le nombre de nœuds de sortie de la couche précédente comme argument. Ceci est couramment utilisé sur les couches FC\n",
        "\n",
        "* **BatchNorm2d** : Ceci applique la normalisation par lots aux entrées en quatre dimensions. Encore une fois, l'argument qu'il prend est le nombre de nœuds de sortie de la couche précédente. Il est couramment utilisé sur les couches convolutives, ce qui signifie que l'argument qu'il prend doit être égal au nombre de canaux de la couche précédente\n",
        "\n",
        "Selon cela, la mise en œuvre de la normalisation par lots dans un CNN est la suivante :"
      ]
    },
    {
      "cell_type": "code",
      "metadata": {
        "id": "bF1dnd7j0Bfo"
      },
      "source": [
        "\n",
        "class CNN(nn.Module):\n",
        "    def __init__(self):\n",
        "        super(CNN, self).__init__()\n",
        "        self.conv1 = nn.Conv2d(3, 10, 3, 1, 1)\n",
        "        self.norm1 = nn.BatchNorm2d(10)\n",
        "        self.conv2 = nn.Conv2d(10, 20, 3, 1, 1)\n",
        "        self.norm2 = nn.BatchNorm2d(20)\n",
        "        self.conv3 = nn.Conv2d(20, 40, 3, 1, 1)\n",
        "        self.norm3 = nn.BatchNorm2d(40)\n",
        "        self.pool = nn.MaxPool2d(2, 2)\n",
        "        \n",
        "        self.linear1 = nn.Linear(40 * 4 * 4, 100)\n",
        "        self.norm4 = nn.BatchNorm1d(100)\n",
        "        self.linear2 = nn.Linear(100, 10)\n",
        "        self.dropout = nn.Dropout(0.2)\n",
        "\n",
        "    def forward(self, x):\n",
        "        x = self.pool(self.norm1(F.relu(self.conv1(x))))\n",
        "        x = self.pool(self.norm2(F.relu(self.conv2(x))))\n",
        "        x = self.pool(self.norm3(F.relu(self.conv3(x))))\n",
        "\n",
        "        x = x.view(-1, 40 * 4 * 4)\n",
        "        x = self.dropout(x)\n",
        "        x = self.norm4(F.relu(self.linear1(x)))\n",
        "        x = self.dropout(x)\n",
        "        x = F.log_softmax(self.linear2(x), dim=1)\n",
        "        \n",
        "        return x"
      ],
      "execution_count": null,
      "outputs": []
    },
    {
      "cell_type": "markdown",
      "metadata": {
        "id": "rJl_amAT04vR"
      },
      "source": [
        "Comme nous pouvons le voir, les couches de normalisation par lots sont initialement définies de manière similaire à toute autre couche à l'intérieur de la méthode __init__. Ensuite, chaque couche de normalisation par lots est appliquée à la sortie de sa couche correspondante après la fonction d'activation à l'intérieur de la méthode forward"
      ]
    },
    {
      "cell_type": "markdown",
      "metadata": {
        "id": "zh_1M0mD1AOa"
      },
      "source": [
        "## Implementing Batch Normalization"
      ]
    },
    {
      "cell_type": "code",
      "metadata": {
        "id": "18Fqipql1KxV"
      },
      "source": [
        "import numpy as np\n",
        "import torch\n",
        "from torch import nn, optim\n",
        "import torch.nn.functional as F\n",
        "from torchvision import datasets\n",
        "import torchvision.transforms as transforms\n",
        "from torch.utils.data.sampler import SubsetRandomSampler\n",
        "from sklearn.metrics import accuracy_score\n",
        "import matplotlib.pyplot as plt"
      ],
      "execution_count": 1,
      "outputs": []
    },
    {
      "cell_type": "code",
      "metadata": {
        "id": "AJSE1yub1NXF"
      },
      "source": [
        "transform = {\n",
        "    \"train\": transforms.Compose([\n",
        "        transforms.RandomHorizontalFlip(0.5), \n",
        "        transforms.RandomGrayscale(0.1),\n",
        "        transforms.ToTensor(),\n",
        "        transforms.Normalize((0.5, 0.5, 0.5), (0.5, 0.5, 0.5))]),\n",
        "    \"test\": transforms.Compose([\n",
        "        transforms.ToTensor(),\n",
        "        transforms.Normalize((0.5, 0.5, 0.5), (0.5, 0.5, 0.5))])}"
      ],
      "execution_count": 2,
      "outputs": []
    },
    {
      "cell_type": "code",
      "metadata": {
        "colab": {
          "base_uri": "https://localhost:8080/",
          "height": 100,
          "referenced_widgets": [
            "e71c7dddb0294737acf0838c1ce98b8b",
            "c55221561ee6476da959951ce682272d",
            "f55e5df2fbcc41208ed902ff2f3a53e9",
            "3592b0af919b4156afebccc18e2f1766",
            "8c214fe9e33b4391bef95c8eea536cb2",
            "94fe6c2aaca24cbabc1bdd39397a5ff0",
            "07c7d61749a64cbdb14eb9a54ef439ed",
            "c83d9d3ab6a2484cbb3d9dbdc385c313",
            "88bec3c3f42243c5a796a31aa2a9e140",
            "dc1e316c77fe41098761ca24ee05ab77",
            "2692123eb52d43cdb6cd2011ff7eb2a0"
          ]
        },
        "id": "yRoBgF9Z1Pwc",
        "outputId": "9ca0f675-7287-4ae1-abcb-ac9d6d902c39"
      },
      "source": [
        "\n",
        "batch_size = 100\n",
        "\n",
        "train_data = datasets.CIFAR10('data3', train=True, download=True, transform=transform[\"train\"])\n",
        "test_data = datasets.CIFAR10('data3', train=False, download=True, transform=transform[\"test\"])"
      ],
      "execution_count": 3,
      "outputs": [
        {
          "output_type": "stream",
          "name": "stdout",
          "text": [
            "Downloading https://www.cs.toronto.edu/~kriz/cifar-10-python.tar.gz to data3/cifar-10-python.tar.gz\n"
          ]
        },
        {
          "output_type": "display_data",
          "data": {
            "application/vnd.jupyter.widget-view+json": {
              "model_id": "e71c7dddb0294737acf0838c1ce98b8b",
              "version_minor": 0,
              "version_major": 2
            },
            "text/plain": [
              "  0%|          | 0/170498071 [00:00<?, ?it/s]"
            ]
          },
          "metadata": {}
        },
        {
          "output_type": "stream",
          "name": "stdout",
          "text": [
            "Extracting data3/cifar-10-python.tar.gz to data3\n",
            "Files already downloaded and verified\n"
          ]
        }
      ]
    },
    {
      "cell_type": "code",
      "metadata": {
        "id": "SiCIarkT1R8k"
      },
      "source": [
        "dev_size = 0.2\n",
        "idx = list(range(len(train_data)))\n",
        "np.random.shuffle(idx)\n",
        "split_size = int(np.floor(dev_size * len(train_data)))\n",
        "train_idx, dev_idx = idx[split_size:], idx[:split_size]\n",
        "\n",
        "train_sampler = SubsetRandomSampler(train_idx)\n",
        "dev_sampler = SubsetRandomSampler(dev_idx)"
      ],
      "execution_count": 4,
      "outputs": []
    },
    {
      "cell_type": "code",
      "metadata": {
        "id": "oEMFzC1n1UWM"
      },
      "source": [
        "train_loader = torch.utils.data.DataLoader(train_data, batch_size=batch_size, sampler=train_sampler)\n",
        "dev_loader = torch.utils.data.DataLoader(train_data, batch_size=batch_size, sampler=dev_sampler)\n",
        "test_loader = torch.utils.data.DataLoader(test_data, batch_size=batch_size)"
      ],
      "execution_count": 5,
      "outputs": []
    },
    {
      "cell_type": "code",
      "metadata": {
        "id": "GJLXEPLC1X5m"
      },
      "source": [
        "class CNN(nn.Module):\n",
        "    def __init__(self):\n",
        "        super(CNN, self).__init__()\n",
        "        self.conv1 = nn.Conv2d(3, 10, 3, 1, 1)\n",
        "        self.norm1 = nn.BatchNorm2d(10)\n",
        "        self.conv2 = nn.Conv2d(10, 20, 3, 1, 1)\n",
        "        self.norm2 = nn.BatchNorm2d(20)\n",
        "        self.conv3 = nn.Conv2d(20, 40, 3, 1, 1)\n",
        "        self.norm3 = nn.BatchNorm2d(40)\n",
        "        self.pool = nn.MaxPool2d(2, 2)\n",
        "        \n",
        "        self.linear1 = nn.Linear(40 * 4 * 4, 100)\n",
        "        self.norm4 = nn.BatchNorm1d(100)\n",
        "        self.linear2 = nn.Linear(100, 10)\n",
        "        self.dropout = nn.Dropout(0.2)\n",
        "\n",
        "    def forward(self, x):\n",
        "        x = self.pool(self.norm1(F.relu(self.conv1(x))))\n",
        "        x = self.pool(self.norm2(F.relu(self.conv2(x))))\n",
        "        x = self.pool(self.norm3(F.relu(self.conv3(x))))\n",
        "\n",
        "        x = x.view(-1, 40 * 4 * 4)\n",
        "        x = self.dropout(x)\n",
        "        x = self.norm4(F.relu(self.linear1(x)))\n",
        "        x = self.dropout(x)\n",
        "        x = F.log_softmax(self.linear2(x), dim=1)\n",
        "        \n",
        "        return x"
      ],
      "execution_count": 6,
      "outputs": []
    },
    {
      "cell_type": "code",
      "metadata": {
        "id": "381IdY081aKb"
      },
      "source": [
        "model = CNN().to(\"cuda\")\n",
        "loss_function = nn.NLLLoss()\n",
        "optimizer = optim.Adam(model.parameters(), lr=0.001)\n",
        "epochs = 100"
      ],
      "execution_count": 7,
      "outputs": []
    },
    {
      "cell_type": "code",
      "metadata": {
        "colab": {
          "base_uri": "https://localhost:8080/"
        },
        "id": "FIBf0-J41fxj",
        "outputId": "d2b50c9d-0846-4469-f666-2a5ae33fa356"
      },
      "source": [
        "train_losses, dev_losses, train_acc, dev_acc= [], [], [], []\n",
        "x_axis = []\n",
        "\n",
        "for e in range(1, epochs+1):\n",
        "    losses = 0\n",
        "    acc = 0\n",
        "    iterations = 0\n",
        "    \n",
        "    model.train()\n",
        "    for data, target in train_loader:\n",
        "        iterations += 1\n",
        "\n",
        "        pred = model(data.to(\"cuda\"))\n",
        "        loss = loss_function(pred, target.to(\"cuda\"))\n",
        "        optimizer.zero_grad()\n",
        "        loss.backward()\n",
        "        optimizer.step()\n",
        "        \n",
        "        losses += loss.item()\n",
        "        p = torch.exp(pred)\n",
        "        top_p, top_class = p.topk(1, dim=1)\n",
        "        acc += accuracy_score(target.to(\"cpu\"), top_class.to(\"cpu\"))\n",
        "        \n",
        "    dev_losss = 0\n",
        "    dev_accs = 0\n",
        "    iter_2 = 0\n",
        "        \n",
        "    if e%5 == 0 or e == 1:\n",
        "        x_axis.append(e)\n",
        "        \n",
        "        with torch.no_grad():\n",
        "            model.eval()\n",
        "            \n",
        "            for data_dev, target_dev in dev_loader:\n",
        "                iter_2 += 1\n",
        "                \n",
        "                dev_pred = model(data_dev.to(\"cuda\"))\n",
        "                dev_loss = loss_function(dev_pred, target_dev.to(\"cuda\"))\n",
        "                dev_losss += dev_loss.item()\n",
        "\n",
        "                dev_p = torch.exp(dev_pred)\n",
        "                top_p, dev_top_class = dev_p.topk(1, dim=1)\n",
        "                dev_accs += accuracy_score(target_dev.to(\"cpu\"), dev_top_class.to(\"cpu\"))\n",
        "        \n",
        "        train_losses.append(losses/iterations)\n",
        "        dev_losses.append(dev_losss/iter_2)\n",
        "        train_acc.append(acc/iterations)\n",
        "        dev_acc.append(dev_accs/iter_2)\n",
        "        \n",
        "        print(\"Epoch: {}/{}.. \".format(e, epochs),\n",
        "              \"Training Loss: {:.3f}.. \".format(losses/iterations),\n",
        "              \"Validation Loss: {:.3f}.. \".format(dev_losss/iter_2),\n",
        "              \"Training Accuracy: {:.3f}.. \".format(acc/iterations),\n",
        "              \"Validation Accuracy: {:.3f}\".format(dev_accs/iter_2))"
      ],
      "execution_count": 8,
      "outputs": [
        {
          "output_type": "stream",
          "name": "stderr",
          "text": [
            "/usr/local/lib/python3.7/dist-packages/torch/nn/functional.py:718: UserWarning: Named tensors and all their associated APIs are an experimental feature and subject to change. Please do not use them for anything important until they are released as stable. (Triggered internally at  /pytorch/c10/core/TensorImpl.h:1156.)\n",
            "  return torch.max_pool2d(input, kernel_size, stride, padding, dilation, ceil_mode)\n"
          ]
        },
        {
          "output_type": "stream",
          "name": "stdout",
          "text": [
            "Epoch: 1/100..  Training Loss: 1.432..  Validation Loss: 1.157..  Training Accuracy: 0.491..  Validation Accuracy: 0.592\n",
            "Epoch: 5/100..  Training Loss: 0.914..  Validation Loss: 0.850..  Training Accuracy: 0.679..  Validation Accuracy: 0.707\n",
            "Epoch: 10/100..  Training Loss: 0.792..  Validation Loss: 0.763..  Training Accuracy: 0.721..  Validation Accuracy: 0.730\n",
            "Epoch: 15/100..  Training Loss: 0.724..  Validation Loss: 0.722..  Training Accuracy: 0.745..  Validation Accuracy: 0.748\n",
            "Epoch: 20/100..  Training Loss: 0.683..  Validation Loss: 0.695..  Training Accuracy: 0.760..  Validation Accuracy: 0.760\n",
            "Epoch: 25/100..  Training Loss: 0.662..  Validation Loss: 0.687..  Training Accuracy: 0.766..  Validation Accuracy: 0.761\n",
            "Epoch: 30/100..  Training Loss: 0.639..  Validation Loss: 0.670..  Training Accuracy: 0.775..  Validation Accuracy: 0.767\n",
            "Epoch: 35/100..  Training Loss: 0.621..  Validation Loss: 0.679..  Training Accuracy: 0.778..  Validation Accuracy: 0.762\n",
            "Epoch: 40/100..  Training Loss: 0.610..  Validation Loss: 0.661..  Training Accuracy: 0.786..  Validation Accuracy: 0.767\n",
            "Epoch: 45/100..  Training Loss: 0.596..  Validation Loss: 0.662..  Training Accuracy: 0.792..  Validation Accuracy: 0.770\n",
            "Epoch: 50/100..  Training Loss: 0.582..  Validation Loss: 0.651..  Training Accuracy: 0.794..  Validation Accuracy: 0.778\n",
            "Epoch: 55/100..  Training Loss: 0.572..  Validation Loss: 0.647..  Training Accuracy: 0.798..  Validation Accuracy: 0.776\n",
            "Epoch: 60/100..  Training Loss: 0.565..  Validation Loss: 0.656..  Training Accuracy: 0.801..  Validation Accuracy: 0.775\n",
            "Epoch: 65/100..  Training Loss: 0.558..  Validation Loss: 0.640..  Training Accuracy: 0.801..  Validation Accuracy: 0.778\n",
            "Epoch: 70/100..  Training Loss: 0.544..  Validation Loss: 0.641..  Training Accuracy: 0.805..  Validation Accuracy: 0.784\n",
            "Epoch: 75/100..  Training Loss: 0.542..  Validation Loss: 0.664..  Training Accuracy: 0.807..  Validation Accuracy: 0.772\n",
            "Epoch: 80/100..  Training Loss: 0.536..  Validation Loss: 0.630..  Training Accuracy: 0.808..  Validation Accuracy: 0.783\n",
            "Epoch: 85/100..  Training Loss: 0.532..  Validation Loss: 0.642..  Training Accuracy: 0.812..  Validation Accuracy: 0.777\n",
            "Epoch: 90/100..  Training Loss: 0.527..  Validation Loss: 0.641..  Training Accuracy: 0.811..  Validation Accuracy: 0.780\n",
            "Epoch: 95/100..  Training Loss: 0.518..  Validation Loss: 0.665..  Training Accuracy: 0.814..  Validation Accuracy: 0.775\n",
            "Epoch: 100/100..  Training Loss: 0.521..  Validation Loss: 0.644..  Training Accuracy: 0.814..  Validation Accuracy: 0.776\n"
          ]
        }
      ]
    },
    {
      "cell_type": "code",
      "metadata": {
        "colab": {
          "base_uri": "https://localhost:8080/",
          "height": 265
        },
        "id": "xVgzHdCe1iZs",
        "outputId": "d505ddf4-97f1-4397-888f-acac3b3dc707"
      },
      "source": [
        "plt.plot(x_axis,train_losses, label='Training loss')\n",
        "plt.plot(x_axis, dev_losses, label='Validation loss')\n",
        "plt.legend(frameon=False)\n",
        "plt.show()"
      ],
      "execution_count": 9,
      "outputs": [
        {
          "output_type": "display_data",
          "data": {
            "image/png": "[encoded data removed]",
            "text/plain": [
              "<Figure size 432x288 with 1 Axes>"
            ]
          },
          "metadata": {
            "needs_background": "light"
          }
        }
      ]
    },
    {
      "cell_type": "code",
      "metadata": {
        "colab": {
          "base_uri": "https://localhost:8080/",
          "height": 265
        },
        "id": "Uo1D26yz1khu",
        "outputId": "06e5f1b0-ef26-47d7-a2ba-c77b65519020"
      },
      "source": [
        "plt.plot(x_axis, train_acc, label=\"Training accuracy\")\n",
        "plt.plot(x_axis, dev_acc, label=\"Validation accuracy\")\n",
        "plt.legend(frameon=False)\n",
        "plt.show()"
      ],
      "execution_count": 10,
      "outputs": [
        {
          "output_type": "display_data",
          "data": {
            "image/png": "[encoded data removed]",
            "text/plain": [
              "<Figure size 432x288 with 1 Axes>"
            ]
          },
          "metadata": {
            "needs_background": "light"
          }
        }
      ]
    },
    {
      "cell_type": "code",
      "metadata": {
        "colab": {
          "base_uri": "https://localhost:8080/"
        },
        "id": "k4F61MAe1nYE",
        "outputId": "aa659a30-5cc5-4ddb-ad41-810a346dc5a1"
      },
      "source": [
        "model.eval()\n",
        "iter_3 = 0\n",
        "acc_test = 0\n",
        "for data_test, target_test in test_loader:\n",
        "    iter_3 += 1\n",
        "    test_pred = model(data_test.to(\"cuda\"))\n",
        "    test_pred = torch.exp(test_pred)\n",
        "    top_p, top_class_test = test_pred.topk(1, dim=1)\n",
        "    acc_test += accuracy_score(target_test.to(\"cpu\"), top_class_test.to(\"cpu\"))\n",
        "print(acc_test/iter_3)"
      ],
      "execution_count": 11,
      "outputs": [
        {
          "output_type": "stream",
          "name": "stdout",
          "text": [
            "0.7812000000000003\n"
          ]
        }
      ]
    }
  ]
}